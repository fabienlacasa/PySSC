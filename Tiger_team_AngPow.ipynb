{
 "cells": [
  {
   "cell_type": "code",
   "execution_count": 11,
   "metadata": {},
   "outputs": [],
   "source": [
    "import math ; pi=math.pi\n",
    "import numpy as np\n",
    "import matplotlib.pyplot as plt\n",
    "import itertools\n",
    "#%matplotlib widget\n",
    "plt.rcParams['mathtext.fontset'] = 'stix'\n",
    "plt.rcParams['font.family'] = 'STIXGeneral'\n",
    "import time\n",
    "import json\n",
    "import imp\n",
    "import os\n",
    "np.warnings.filterwarnings('ignore')\n",
    "import PySSC\n",
    "import PySSC_AP\n",
    "from classy import Class"
   ]
  },
  {
   "cell_type": "markdown",
   "metadata": {},
   "source": [
    "# Dirac Window, Angpow case"
   ]
  },
  {
   "cell_type": "code",
   "execution_count": 4,
   "metadata": {},
   "outputs": [
    {
     "name": "stdout",
     "output_type": "stream",
     "text": [
      "[0.] [2.09802746e-07]\n"
     ]
    }
   ],
   "source": [
    "imp.reload(PySSC_AP)\n",
    "imp.reload(PySSC)\n",
    "\n",
    "kk  = (2*np.pi/(1000))*np.arange(1,1001)\n",
    "Pk = np.ones(len(kk))\n",
    "Omega_b     = 0.05\n",
    "Omega_cdm   = 0.27\n",
    "Omega_m     = Omega_b + Omega_cdm\n",
    "path        = './AngPow_files/' #loc of all AngPow stuffs\n",
    "name        = 'SSC' #the name of the new AngPow .ini file\n",
    "np.savetxt('%s%s_Pk.txt'%(path,name),np.transpose(np.vstack((kk,Pk)))) #AngPow needs Pk(z=0)\n",
    "cl_kmax     = np.amax(kk) #cl_kmax is the maximum k of the integral made by Ang\n",
    "\n",
    "ini = {'Lmin' : 0,'Lmax' : 1 ,'linearStep' : 40, 'logStep' : 1.15,'algo_type' : 1,'limber_lthr1' : -1,'limber_lthr2' : -1,'wtype':'Dirac','mean' : 1,'width': -1,'cross_depth' : 0,'n_sigma_cut' : '5','cl_kmax' : cl_kmax,'radial_quad'  : 'trapezes','radial_order' : 50,'chebyshev_order' : 9,'n_bessel_roots_per_interval' : 100,'h': 0.67,'omega_matter': Omega_m ,'omega_baryon': Omega_b,'hasX' : 0,'omega_X' :'','wX':'','waX':'','cosmo_zmin' : 0.,'cosmo_zmax' : 10.,'cosmo_npts' : 1000,'cosmo_precision' : 0.001,'Lmax_for_xmin' : 2000,'jl_xmin_cut'   : 5e-10,'output_dir' : path,'common_file_tag' : 'angpow_bench_%s_'%name,'quadrature_rule_ios_dir' : '%sAngPow/data/'%(path),'power_spectrum_input_dir': path,'power_spectrum_input_file' : '%s_Pk.txt' %name,'pw_kmin' : np.amin(kk),'pw_kmax' : np.amax(kk),}\n",
    "\n",
    "# write all AngPow parameters in a .ini file\n",
    "out = '%sangpow_bench_%s.ini'%(path,name)\n",
    "fo  = open(out, \"w\")\n",
    "for k, v in ini.items():\n",
    "     fo.write(str(k) + '='+ str(v) + '\\n')\n",
    "fo.close()\n",
    "os.system('%sAngPow/bin/angpow %sangpow_bench_%s.ini'%(path,path,name))\n",
    "l_angpow,cl_angpow = np.loadtxt('%sangpow_bench_%s_cl.txt'%(path,name),ndmin=2,unpack=True)\n",
    "\n",
    "os.remove('%sangpow_bench_%s_cl.txt'%(path,name))\n",
    "os.remove('%sangpow_bench_%s_ctheta.txt'%(path,name))\n",
    "os.remove('%sangpow_bench_%s_used-param.txt'%(path,name))\n",
    "os.remove('%sangpow_bench_%s.ini'%(path,name))\n",
    "\n",
    "print(l_angpow,cl_angpow)"
   ]
  },
  {
   "cell_type": "markdown",
   "metadata": {},
   "source": [
    "# Gaussian Window, Angpow case"
   ]
  },
  {
   "cell_type": "code",
   "execution_count": 5,
   "metadata": {},
   "outputs": [
    {
     "name": "stdout",
     "output_type": "stream",
     "text": [
      "[0.] [6.15104135e-09]\n"
     ]
    }
   ],
   "source": [
    "ini = {'Lmin' : 0,'Lmax' : 1 ,'linearStep' : 40, 'logStep' : 1.15,'algo_type' : 1,'limber_lthr1' : -1,'limber_lthr2' : -1,'wtype':'Gauss','mean' : 1,'width': 0.1,'cross_depth' : 0,'n_sigma_cut' : '5','cl_kmax' : cl_kmax,'radial_quad'  : 'trapezes','radial_order' : 50,'chebyshev_order' : 9,'n_bessel_roots_per_interval' : 100,'h': 0.67,'omega_matter': Omega_m ,'omega_baryon': Omega_b,'hasX' : 0,'omega_X' :'','wX':'','waX':'','cosmo_zmin' : 0.,'cosmo_zmax' : 10.,'cosmo_npts' : 1000,'cosmo_precision' : 0.001,'Lmax_for_xmin' : 2000,'jl_xmin_cut'   : 5e-10,'output_dir' : path,'common_file_tag' : 'angpow_bench_%s_'%name,'quadrature_rule_ios_dir' : '%sAngPow/data/'%(path),'power_spectrum_input_dir': path,'power_spectrum_input_file' : '%s_Pk.txt' %name,'pw_kmin' : np.amin(kk),'pw_kmax' : np.amax(kk),}\n",
    "\n",
    "# write all AngPow parameters in a .ini file\n",
    "out = '%sangpow_bench_%s.ini'%(path,name)\n",
    "fo  = open(out, \"w\")\n",
    "for k, v in ini.items():\n",
    "     fo.write(str(k) + '='+ str(v) + '\\n')\n",
    "fo.close()\n",
    "os.system('%sAngPow/bin/angpow %sangpow_bench_%s.ini'%(path,path,name))\n",
    "l_angpow,cl_angpow = np.loadtxt('%sangpow_bench_%s_cl.txt'%(path,name),ndmin=2,unpack=True)\n",
    "\n",
    "os.remove('%sangpow_bench_%s_cl.txt'%(path,name))\n",
    "os.remove('%sangpow_bench_%s_ctheta.txt'%(path,name))\n",
    "os.remove('%sangpow_bench_%s_used-param.txt'%(path,name))\n",
    "os.remove('%sangpow_bench_%s.ini'%(path,name))\n",
    "\n",
    "print(l_angpow,cl_angpow)"
   ]
  },
  {
   "cell_type": "markdown",
   "metadata": {},
   "source": [
    "# Gaussian Window, PySSC case\n",
    "need to modify PySSC with :\n",
    "\n",
    "kk = (2*np.pi/(1000))*np.arange(1,1001)\n",
    "\n",
    "Pk = np.ones(len(kk))\n",
    "\n",
    "kk*=h\n",
    "\n",
    "Pk/=(h**3)\n",
    "\n",
    "nk = len(kk)\n"
   ]
  },
  {
   "cell_type": "code",
   "execution_count": 2,
   "metadata": {},
   "outputs": [
    {
     "data": {
      "image/png": "[encoded data removed]",
      "text/plain": [
       "<Figure size 432x288 with 1 Axes>"
      ]
     },
     "metadata": {},
     "output_type": "display_data"
    }
   ],
   "source": [
    "sigmaz    = 0.1\n",
    "zcenter_G = [1]\n",
    "nbins_G   = len(zcenter_G)\n",
    "nz        = 400\n",
    "windows_G = np.zeros((nbins_G,nz))\n",
    "zmin = 0.2 ; zmax = 2.5\n",
    "z_arr     = np.linspace(zmin,zmax,nz)\n",
    "for i in range(nbins_G):\n",
    "    windows_G[i,:] = np.exp(-(z_arr-zcenter_G[i])**2/(2*sigmaz**2)) / np.sqrt(2*pi*sigmaz**2)\n",
    "\n",
    "# Plot window functions\n",
    "fig,ax=plt.subplots(1,1)\n",
    "for i in range(nbins_G):\n",
    "    ax.semilogy(z_arr,windows_G[i,:])\n",
    "ax.set_xlabel('z') ; ax.set_ylabel('$W_i(z)$')\n",
    "fig.show()"
   ]
  },
  {
   "cell_type": "code",
   "execution_count": 3,
   "metadata": {},
   "outputs": [
    {
     "name": "stdout",
     "output_type": "stream",
     "text": [
      "[[2.55110068e-10]]\n"
     ]
    }
   ],
   "source": [
    "imp.reload(PySSC)\n",
    "print(PySSC.Sij(z_arr,windows_G))"
   ]
  },
  {
   "cell_type": "code",
   "execution_count": 14,
   "metadata": {},
   "outputs": [],
   "source": [
    "# Define function which is PySSC's Sij but with P(k)= 1 (Mpc/h)^3\n",
    "default_cosmo_params = {'omega_b':0.022,'omega_cdm':0.12,'H0':67.,'n_s':0.96,'sigma8':0.81}\n",
    "import math ; pi=math.pi\n",
    "import numpy as np\n",
    "import sys\n",
    "import scipy.integrate as integrate\n",
    "from scipy.interpolate import interp1d\n",
    "from classy import Class\n",
    "def Sij_Pkone(z_arr, windows, cosmo_params=default_cosmo_params,precision=10,cosmo_Class=None):\n",
    "\n",
    "    # Assert everything as the good type and shape, and find number of redshifts, bins etc\n",
    "    zz  = np.asarray(z_arr)\n",
    "    win = np.asarray(windows)\n",
    "    \n",
    "    assert zz.ndim==1, 'z_arr must be a 1-dimensional array'\n",
    "    assert win.ndim==2, 'windows must be a 2-dimensional array'\n",
    "    \n",
    "    nz    = len(zz)\n",
    "    nbins = win.shape[0]\n",
    "    assert win.shape[1]==nz, 'windows must have shape (nbins,nz)'\n",
    "    \n",
    "    assert zz.min()>0, 'z_arr must have values > 0'\n",
    "    \n",
    "    # If the cosmology is not provided (in the same form as CLASS), run CLASS\n",
    "    if cosmo_Class is None:\n",
    "        cosmo = Class()\n",
    "        dico_for_CLASS = cosmo_params\n",
    "        dico_for_CLASS['output'] = 'mPk'\n",
    "        cosmo.set(dico_for_CLASS)\n",
    "        cosmo.compute()\n",
    "    else:\n",
    "        cosmo = cosmo_Class\n",
    "\n",
    "    h = cosmo.h() #for  conversions Mpc/h <-> Mpc\n",
    "    \n",
    "    # Define arrays of r(z), k, P(k)...\n",
    "    zofr        = cosmo.z_of_r(zz)\n",
    "    comov_dist  = zofr[0]                                   #Comoving distance r(z) in Mpc\n",
    "    dcomov_dist = 1/zofr[1]                                 #Derivative dr/dz in Mpc\n",
    "    dV          = comov_dist**2 * dcomov_dist               #Comoving volume per solid angle in Mpc^3/sr\n",
    "    growth      = np.zeros(nz)                              #Growth factor\n",
    "    for iz in range(nz):\n",
    "        growth[iz] = cosmo.scale_independent_growth_factor(zz[iz])\n",
    "    \n",
    "    # Compute normalisations\n",
    "    Inorm       = np.zeros(nbins)\n",
    "    for i1 in range(nbins):\n",
    "        integrand = dV * windows[i1,:]**2\n",
    "        Inorm[i1] = integrate.simps(integrand,zz)\n",
    "    \n",
    "    # Compute U(i,k), numerator of Sij (integral of Window**2 * matter )\n",
    "    #Previous definition of k,P(k) arrays \n",
    "    #keq         = 0.02/h                                          #Equality matter radiation in 1/Mpc (more or less)\n",
    "    #klogwidth   = 10                                              #Factor of width of the integration range. 10 seems ok\n",
    "    #kmin        = min(keq,1./comov_dist.max())/klogwidth\n",
    "    #kmax        = max(keq,1./comov_dist.min())*klogwidth\n",
    "    #nk          = 2**precision                                    #10 seems to be enough. Increase to test precision, reduce to speed up.\n",
    "    ##kk          = np.linspace(kmin,kmax,num=nk)                   #linear grid on k\n",
    "    #logkmin     = np.log(kmin) ; logkmax   = np.log(kmax)\n",
    "    #logk        = np.linspace(logkmin,logkmax,num=nk)\n",
    "    #kk          = np.exp(logk)                                     #logarithmic grid on k\n",
    "    #Pk          = np.zeros(nk)\n",
    "    #for ik in range(nk):\n",
    "    #    Pk[ik] = cosmo.pk(kk[ik],0.)                              #In Mpc^3\n",
    "    #Tweak to have P(k)= 1 (Mpc/h)^3\n",
    "    kk = (2*np.pi/(1000))*np.arange(1,1001)\n",
    "    Pk = np.ones(len(kk))\n",
    "    kk*=h\n",
    "    Pk/=(h**3)\n",
    "    nk = len(kk)\n",
    "    Uarr        = np.zeros((nbins,nk))\n",
    "    for ibin in range(nbins):\n",
    "        for ik in range(nk):\n",
    "            kr            = kk[ik]*comov_dist\n",
    "            integrand     = dV * windows[ibin,:]**2 * growth * np.sin(kr)/kr\n",
    "            Uarr[ibin,ik] = integrate.simps(integrand,zz)\n",
    "    \n",
    "    # Compute Sij finally\n",
    "    Cl_zero     = np.zeros((nbins,nbins))\n",
    "    #For i<=j\n",
    "    for ibin in range(nbins):\n",
    "        U1 = Uarr[ibin,:]/Inorm[ibin]\n",
    "        for jbin in range(ibin,nbins):\n",
    "            U2 = Uarr[jbin,:]/Inorm[jbin]\n",
    "            integrand = kk**2 * Pk * U1 * U2\n",
    "            Cl_zero[ibin,jbin] = 2/pi * integrate.simps(integrand,kk)     #linear integration\n",
    "            #Cl_zero[ibin,jbin] = 2/pi * integrate.simps(integrand*kk,logk) #log integration\n",
    "    #Fill by symmetry   \n",
    "    for ibin in range(nbins):\n",
    "        for jbin in range(nbins):\n",
    "            Cl_zero[ibin,jbin] = Cl_zero[min(ibin,jbin),max(ibin,jbin)]\n",
    "    Sij_Pkone = Cl_zero / (4*pi)\n",
    "    \n",
    "    return Sij_Pkone"
   ]
  },
  {
   "cell_type": "code",
   "execution_count": 15,
   "metadata": {},
   "outputs": [
    {
     "name": "stdout",
     "output_type": "stream",
     "text": [
      "[[2.48983437e-10]]\n"
     ]
    }
   ],
   "source": [
    "print(Sij_Pkone(z_arr,windows_G))"
   ]
  },
  {
   "cell_type": "code",
   "execution_count": null,
   "metadata": {},
   "outputs": [],
   "source": []
  },
  {
   "cell_type": "code",
   "execution_count": null,
   "metadata": {},
   "outputs": [],
   "source": []
  },
  {
   "cell_type": "code",
   "execution_count": null,
   "metadata": {},
   "outputs": [],
   "source": []
  },
  {
   "cell_type": "code",
   "execution_count": null,
   "metadata": {},
   "outputs": [],
   "source": []
  }
 ],
 "metadata": {
  "kernelspec": {
   "display_name": "Python 3",
   "language": "python",
   "name": "python3"
  },
  "language_info": {
   "codemirror_mode": {
    "name": "ipython",
    "version": 3
   },
   "file_extension": ".py",
   "mimetype": "text/x-python",
   "name": "python",
   "nbconvert_exporter": "python",
   "pygments_lexer": "ipython3",
   "version": "3.6.9"
  }
 },
 "nbformat": 4,
 "nbformat_minor": 2
}
