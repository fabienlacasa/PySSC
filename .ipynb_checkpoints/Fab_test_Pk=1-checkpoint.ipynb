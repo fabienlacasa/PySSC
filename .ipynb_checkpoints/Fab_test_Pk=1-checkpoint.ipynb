{
 "cells": [
  {
   "cell_type": "code",
   "execution_count": 37,
   "metadata": {},
   "outputs": [],
   "source": [
    "import math ; pi=math.pi\n",
    "import numpy as np\n",
    "import matplotlib.pyplot as plt\n",
    "import itertools\n",
    "#%matplotlib widget\n",
    "plt.rcParams['mathtext.fontset'] = 'stix'\n",
    "plt.rcParams['font.family'] = 'STIXGeneral'\n",
    "import time\n",
    "import json\n",
    "import imp\n",
    "import os\n",
    "np.warnings.filterwarnings('ignore')\n",
    "import PySSC\n",
    "import PySSC_AP\n",
    "from classy import Class"
   ]
  },
  {
   "cell_type": "markdown",
   "metadata": {},
   "source": [
    "# Define Gaussian Window\n",
    "specifications : window centered on z=1, width=0.1, on range 0.1-1.9"
   ]
  },
  {
   "cell_type": "code",
   "execution_count": 38,
   "metadata": {},
   "outputs": [
    {
     "data": {
      "image/png": "[encoded data removed]",
      "text/plain": [
       "<Figure size 432x288 with 1 Axes>"
      ]
     },
     "metadata": {},
     "output_type": "display_data"
    }
   ],
   "source": [
    "sigmaz    = 0.1\n",
    "zcenter_G = [1]\n",
    "nbins_G   = len(zcenter_G)\n",
    "nz        = 400\n",
    "windows_G = np.zeros((nbins_G,nz))\n",
    "zmin = 0.1 ; zmax = 1.9\n",
    "z_arr     = np.linspace(zmin,zmax,nz)\n",
    "for i in range(nbins_G):\n",
    "    windows_G[i,:] = np.exp(-(z_arr-zcenter_G[i])**2/(2*sigmaz**2)) / np.sqrt(2*pi*sigmaz**2)\n",
    "\n",
    "# Plot window functions\n",
    "fig,ax=plt.subplots(1,1)\n",
    "for i in range(nbins_G):\n",
    "    ax.semilogy(z_arr,windows_G[i,:])\n",
    "ax.set_xlabel('z') ; ax.set_ylabel('$W_i(z)$')\n",
    "fig.show()"
   ]
  },
  {
   "cell_type": "code",
   "execution_count": 39,
   "metadata": {},
   "outputs": [],
   "source": [
    "# Same Gaussian but with more points to test convergence\n",
    "nzbis           = 1000\n",
    "windows_G_bis   = np.zeros((nbins_G,nzbis))\n",
    "z_arr_bis       = np.linspace(zmin,zmax,nzbis)\n",
    "for i in range(nbins_G):\n",
    "    windows_G_bis[i,:] = np.exp(-(z_arr_bis-zcenter_G[i])**2/(2*sigmaz**2)) / np.sqrt(2*pi*sigmaz**2)"
   ]
  },
  {
   "cell_type": "markdown",
   "metadata": {},
   "source": [
    "# Analytical formula\n",
    "Implement the formula from the note https://www.overleaf.com/project/5d6551756c426848b8483888\n",
    "\n",
    "for P(k)=1 (Mpc/h)^3 then\n",
    "\n",
    "- in the limit $k_{min}=0$ and $k_{max}\\rightarrow \\infty$\n",
    "\n",
    "$C_{\\ell=0} = \\frac{1}{(\\int dV W^A W^B)(\\int dV W^C W^D)}\\int d V \\ W^A_{i_z}(z) W^B_{j_z}(z)  \\ W^C_{k_z}(z) W^D_{l_z}(z) D(z)^2 $\n",
    "with everything in unit of Mpc/h\n",
    "\n",
    "- with finite $k_{min}$ and $k_{max}$ it's a bit more complicated\n",
    "\n",
    "$F(k,r_1,r_2) \\equiv \\frac{r_2 \\sin(k r_1) \\cos(k r_2) - r_1 \\sin(k r_2) \\cos(k r_1)}{r_1^3 r_2 - r_2^3 r_1}$\n",
    "\n",
    "with the continuity point $F(k,r,r) = \\frac{k}{2 r^2} - \\frac{\\sin(kr)\\cos(kr)}{r^3}$\n",
    "\n",
    "then $C_{\\ell=0} = \\frac{\\frac{2}{\\pi}}{(\\int dV W^A W^B)(\\int dV W^C W^D)}\\int d V_1 d V_2 \\ W^A_{i_z}(z_1) W^B_{j_z}(z_1) \\ W^C_{k_z}(z_2) W^D_{l_z}(z_2) \\times D(z_1) D(z_2) \\left(F(k_{max},r_1,r_2)-F(k_{min},r_1,r_2)\\right)$\n",
    "\n",
    "- alternative formula with finite $k_{min}$ and $k_{max}$\n",
    "\n",
    "$C_{\\ell=0} = C_{\\ell=0}^{-} - C_{\\ell=0}^{+}$\n",
    "\n",
    "$C_{\\ell=0}^{+/-} = \\frac{2}{\\pi} \\int \\frac{d V_{12} \\ W^A W^B  \\ W^C W^D}{(\\int W^A W^B)(\\int W^C W^D)} \\, D(z_1) D(z_2) [F_{+/-}(k_{max},r_1,r_2)-F_{+/-}(k_{min},r_1,r_2)]$\n",
    "\n",
    "where\n",
    "\n",
    "$F_-(k,r_1,r_2) =  \\frac{k \\ {sinc}(k (r_1-r_2))}{2 \\, r_1 \\, r_2} \\\\\n",
    "F_+(k,r_1,r_2) =  \\frac{k \\ {sinc}(k (r_1+r_2))}{2 \\, r_1 \\, r_2}$\n",
    "\n",
    "with $sinc(x)=sin(x)/x$, paying attention that numpy has a different convention $np.sinc(x)=sin(\\pi x)/\\pi x$"
   ]
  },
  {
   "cell_type": "code",
   "execution_count": 40,
   "metadata": {},
   "outputs": [],
   "source": [
    "#Arrays used for all later integrals\n",
    "precision = 10\n",
    "cosmo = Class()\n",
    "dico_for_CLASS = default_cosmo_params\n",
    "dico_for_CLASS['output'] = 'mPk'\n",
    "cosmo.set(dico_for_CLASS)\n",
    "cosmo.compute()\n",
    "h = cosmo.h() #for  conversions Mpc/h <-> Mpc\n",
    "# Define arrays of r(z), k, P(k)...\n",
    "zofr        = cosmo.z_of_r(z_arr)\n",
    "comov_dist  = zofr[0]                                   #Comoving distance r(z) in Mpc\n",
    "dcomov_dist = 1/zofr[1]                                 #Derivative dr/dz in Mpc\n",
    "dV          = comov_dist**2 * dcomov_dist               #Comoving volume per solid angle in Mpc^3/sr\n",
    "growth      = np.zeros(nz)                              #Growth factor\n",
    "for iz in range(nz):\n",
    "    growth[iz] = cosmo.scale_independent_growth_factor(z_arr[iz])\n",
    "keq         = 0.02/h                                    #Equality matter radiation in 1/Mpc (more or less)\n",
    "klogwidth   = 10                                        #Factor of width of the integration range.\n",
    "kmin        = min(keq,1./comov_dist.max())/klogwidth\n",
    "kmax        = max(keq,1./comov_dist.min())*klogwidth\n",
    "nk          = 2**precision\n",
    "logkmin     = np.log(kmin) ; logkmax   = np.log(kmax)\n",
    "logk        = np.linspace(logkmin,logkmax,num=nk)\n",
    "kk          = np.exp(logk)\n",
    "#Normalisation int dV W_i^2\n",
    "Normalisation = np.zeros(nbins_G)\n",
    "for i in range(nbins_G):\n",
    "    integrand     = dV * windows_G[i,:]**2\n",
    "    Normalisation[i] = integrate.simps(integrand,z_arr)"
   ]
  },
  {
   "cell_type": "markdown",
   "metadata": {},
   "source": [
    "<h4>First integral</h4>"
   ]
  },
  {
   "cell_type": "code",
   "execution_count": 41,
   "metadata": {},
   "outputs": [
    {
     "name": "stdout",
     "output_type": "stream",
     "text": [
      "[4.01641121e-12]\n"
     ]
    }
   ],
   "source": [
    "C_l0_0infty = np.zeros(nbins_G)\n",
    "for i in range(nbins_G):\n",
    "    integrand     = dV * windows_G[i,:]**4 * growth**2\n",
    "    C_l0_0infty[i] = integrate.simps(integrand,z_arr) / Normalisation[i]**2\n",
    "print(C_l0_0infty/(4*pi))"
   ]
  },
  {
   "cell_type": "markdown",
   "metadata": {},
   "source": [
    "<h4>Second integral</h4>"
   ]
  },
  {
   "cell_type": "code",
   "execution_count": 42,
   "metadata": {},
   "outputs": [
    {
     "name": "stdout",
     "output_type": "stream",
     "text": [
      "0.08600409182186532 0.08600409182186532\n",
      "0.050660591821168895 0.05066059182116889\n"
     ]
    }
   ],
   "source": [
    "def Fdummy(k,r1,r2):\n",
    "    if r1 == r2:\n",
    "        result = k/(2*r1**2) - (np.sin(k*r1)*np.cos(k*r1))/r1**3\n",
    "    else:\n",
    "        result = (r2*np.sin(k*r1)*np.cos(k*r2) - r1*np.sin(k*r2)*np.cos(k*r1))/(r1**3 * r2 - r2**3 * r1)\n",
    "    return result\n",
    "#Test\n",
    "print(Fdummy(1,pi/2,pi),8./(pi**3*3))\n",
    "print(Fdummy(1,pi,pi),1./(pi**2*2))"
   ]
  },
  {
   "cell_type": "code",
   "execution_count": 43,
   "metadata": {},
   "outputs": [
    {
     "name": "stdout",
     "output_type": "stream",
     "text": [
      "[6.30941214e-12]\n"
     ]
    }
   ],
   "source": [
    "C_l0_kminmax = np.zeros(nbins_G)\n",
    "for i in range(nbins_G):\n",
    "    integrand     = np.zeros((nz,nz))\n",
    "    for j1 in range(nz):\n",
    "        for j2 in range(nz):\n",
    "            r1 = comov_dist[j1] ; r2 = comov_dist[j2]\n",
    "            Ffactor = Fdummy(kmax,r1,r2) - Fdummy(kmin,r1,r2)\n",
    "            integrand[j1,j2] = dV[j1] * dV[j2] * windows_G[i,j1]**2 * windows_G[i,j2]**2 * growth[j1] * growth[j1] * Ffactor\n",
    "    #Manual 2D integral following https://stackoverflow.com/questions/20668689/integrating-2d-samples-on-a-rectangular-grid-using-scipy\n",
    "    C_l0_kminmax[i] = integrate.simps([integrate.simps(integrand1D,z_arr) for integrand1D in integrand],z_arr) / Normalisation[i]**2\n",
    "print(C_l0_kminmax/(4*pi))"
   ]
  },
  {
   "cell_type": "markdown",
   "metadata": {},
   "source": [
    "<h4>Third integral</h4>"
   ]
  },
  {
   "cell_type": "code",
   "execution_count": 44,
   "metadata": {},
   "outputs": [
    {
     "name": "stdout",
     "output_type": "stream",
     "text": [
      "0.6366197723675814 0.6366197723675814\n",
      "7.89934768224168e-18\n",
      "0.5160245509311919 0.5160245509311919\n"
     ]
    }
   ],
   "source": [
    "print(np.sinc(0.5),2./pi) #np.sinc(x) = sinc(pi*x)\n",
    "def Fdummy_plus(k,r1,r2):\n",
    "    result = (k*np.sinc(k*(r1+r2)/pi))/(2.*r1*r2)\n",
    "    return result\n",
    "#Test\n",
    "print(Fdummy_plus(1,pi/2,pi/2))\n",
    "print(Fdummy_plus(1,pi/4,pi/4),16./pi**3)\n",
    "def Fdummy_minus(k,r1,r2):\n",
    "    result = (k*np.sinc(k*(r1-r2)/pi))/(2.*r1*r2)\n",
    "    return result"
   ]
  },
  {
   "cell_type": "code",
   "execution_count": 45,
   "metadata": {},
   "outputs": [
    {
     "name": "stdout",
     "output_type": "stream",
     "text": [
      "[-2.41418834e-14] [6.28475232e-12] [6.3088942e-12]\n"
     ]
    }
   ],
   "source": [
    "C_l0_kminmax_plus = np.zeros(nbins_G)\n",
    "C_l0_kminmax_minus = np.zeros(nbins_G)\n",
    "for i in range(nbins_G):\n",
    "    integrand_plus  = np.zeros((nz,nz))\n",
    "    integrand_minus = np.zeros((nz,nz))\n",
    "    for j1 in range(nz):\n",
    "        for j2 in range(nz):\n",
    "            r1 = comov_dist[j1] ; r2 = comov_dist[j2]\n",
    "            Ffactor_plus  = Fdummy_plus(kmax,r1,r2) - Fdummy_plus(kmin,r1,r2)\n",
    "            Ffactor_minus = Fdummy_minus(kmax,r1,r2) - Fdummy_minus(kmin,r1,r2)\n",
    "            prefactor     = dV[j1] * dV[j2] * windows_G[i,j1]**2 * windows_G[i,j2]**2 * growth[j1] * growth[j1]\n",
    "            integrand_plus[j1,j2]  = prefactor * Ffactor_plus\n",
    "            integrand_minus[j1,j2] = prefactor * Ffactor_minus\n",
    "    C_l0_kminmax_plus[i]  = integrate.simps([integrate.simps(integrand1D,z_arr) for integrand1D in integrand_plus],z_arr) / Normalisation[i]**2\n",
    "    C_l0_kminmax_minus[i] = integrate.simps([integrate.simps(integrand1D,z_arr) for integrand1D in integrand_minus],z_arr) / Normalisation[i]**2\n",
    "print(C_l0_kminmax_plus/(4*pi),C_l0_kminmax_minus/(4*pi),(C_l0_kminmax_minus-C_l0_kminmax_plus)/(4*pi))"
   ]
  },
  {
   "cell_type": "markdown",
   "metadata": {},
   "source": [
    "<h4>Test convergence of the analytical integrals</h4>"
   ]
  },
  {
   "cell_type": "code",
   "execution_count": 46,
   "metadata": {},
   "outputs": [],
   "source": [
    "zofr_bis        = cosmo.z_of_r(z_arr_bis)\n",
    "comov_dist_bis  = zofr_bis[0]\n",
    "dcomov_dist_bis = 1/zofr_bis[1]\n",
    "dV_bis          = comov_dist_bis**2 * dcomov_dist_bis\n",
    "growth_bis      = np.zeros(nzbis)\n",
    "for iz in range(nzbis):\n",
    "    growth_bis[iz] = cosmo.scale_independent_growth_factor(z_arr_bis[iz])\n",
    "Normalisation_bis = np.zeros(nbins_G)\n",
    "for i in range(nbins_G):\n",
    "    integrand     = dV_bis * windows_G_bis[i,:]**2\n",
    "    Normalisation_bis[i] = integrate.simps(integrand,z_arr_bis)"
   ]
  },
  {
   "cell_type": "code",
   "execution_count": 47,
   "metadata": {},
   "outputs": [
    {
     "name": "stdout",
     "output_type": "stream",
     "text": [
      "[4.01641121e-12]\n"
     ]
    }
   ],
   "source": [
    "# First integral\n",
    "C_l0_0infty_bis = np.zeros(nbins_G)\n",
    "for i in range(nbins_G):\n",
    "    integrand     = dV_bis * windows_G_bis[i,:]**4 * growth_bis**2\n",
    "    C_l0_0infty_bis[i] = integrate.simps(integrand,z_arr_bis) / Normalisation_bis[i]**2\n",
    "print(C_l0_0infty_bis/(4*pi))"
   ]
  },
  {
   "cell_type": "code",
   "execution_count": 48,
   "metadata": {},
   "outputs": [
    {
     "name": "stdout",
     "output_type": "stream",
     "text": [
      "[6.30906789e-12]\n"
     ]
    }
   ],
   "source": [
    "# Second integral\n",
    "# This takes a bit longer to compute\n",
    "C_l0_kminmax_bis = np.zeros(nbins_G)\n",
    "for i in range(nbins_G):\n",
    "    integrand     = np.zeros((nzbis,nzbis))\n",
    "    for j1 in range(nzbis):\n",
    "        for j2 in range(nzbis):\n",
    "            r1 = comov_dist_bis[j1] ; r2 = comov_dist_bis[j2]\n",
    "            Ffactor = Fdummy(kmax,r1,r2) - Fdummy(kmin,r1,r2)\n",
    "            integrand[j1,j2] = dV_bis[j1] * dV_bis[j2] * windows_G_bis[i,j1]**2 * windows_G_bis[i,j2]**2 * growth_bis[j1] * growth_bis[j1] * Ffactor\n",
    "    #Manual 2D integral following https://stackoverflow.com/questions/20668689/integrating-2d-samples-on-a-rectangular-grid-using-scipy\n",
    "    C_l0_kminmax_bis[i] = integrate.simps([integrate.simps(integrand1D,z_arr_bis) for integrand1D in integrand],z_arr_bis) / Normalisation_bis[i]**2\n",
    "print(C_l0_kminmax_bis/(4*pi))"
   ]
  },
  {
   "cell_type": "code",
   "execution_count": 49,
   "metadata": {},
   "outputs": [
    {
     "name": "stdout",
     "output_type": "stream",
     "text": [
      "[-2.41418834e-14] [6.28475232e-12] [6.3088942e-12]\n"
     ]
    }
   ],
   "source": [
    "# Third integral\n",
    "# This also takes a bit long\n",
    "C_l0_kminmax_plus_bis = np.zeros(nbins_G)\n",
    "C_l0_kminmax_minus_bis = np.zeros(nbins_G)\n",
    "for i in range(nbins_G):\n",
    "    integrand_plus  = np.zeros((nzbis,nzbis))\n",
    "    integrand_minus = np.zeros((nzbis,nzbis))\n",
    "    for j1 in range(nzbis):\n",
    "        for j2 in range(nzbis):\n",
    "            r1 = comov_dist_bis[j1] ; r2 = comov_dist_bis[j2]\n",
    "            Ffactor_plus  = Fdummy_plus(kmax,r1,r2) - Fdummy_plus(kmin,r1,r2)\n",
    "            Ffactor_minus = Fdummy_minus(kmax,r1,r2) - Fdummy_minus(kmin,r1,r2)\n",
    "            prefactor     = dV_bis[j1] * dV_bis[j2] * windows_G_bis[i,j1]**2 * windows_G_bis[i,j2]**2 * growth_bis[j1] * growth_bis[j1]\n",
    "            integrand_plus[j1,j2]  = prefactor * Ffactor_plus\n",
    "            integrand_minus[j1,j2] = prefactor * Ffactor_minus\n",
    "    C_l0_kminmax_plus_bis[i]  = integrate.simps([integrate.simps(integrand1D,z_arr_bis) for integrand1D in integrand_plus],z_arr_bis) / Normalisation_bis[i]**2\n",
    "    C_l0_kminmax_minus_bis[i] = integrate.simps([integrate.simps(integrand1D,z_arr_bis) for integrand1D in integrand_minus],z_arr_bis) / Normalisation_bis[i]**2\n",
    "print(C_l0_kminmax_plus_bis/(4*pi),C_l0_kminmax_minus_bis/(4*pi),(C_l0_kminmax_minus_bis-C_l0_kminmax_plus_bis)/(4*pi))"
   ]
  },
  {
   "cell_type": "markdown",
   "metadata": {},
   "source": [
    "So analytical integrals are well converged"
   ]
  },
  {
   "cell_type": "code",
   "execution_count": null,
   "metadata": {},
   "outputs": [],
   "source": []
  },
  {
   "cell_type": "markdown",
   "metadata": {},
   "source": [
    "# PySSC results"
   ]
  },
  {
   "cell_type": "code",
   "execution_count": 50,
   "metadata": {},
   "outputs": [],
   "source": [
    "# Define function which is PySSC's Sij but with P(k)= 1 Mpc^3\n",
    "default_cosmo_params = {'omega_b':0.022,'omega_cdm':0.12,'H0':67.,'n_s':0.96,'sigma8':0.81}\n",
    "import math ; pi=math.pi\n",
    "import numpy as np\n",
    "import sys\n",
    "import scipy.integrate as integrate\n",
    "from scipy.interpolate import interp1d\n",
    "from classy import Class\n",
    "def Sij_Pkone(z_arr, windows, cosmo_params=default_cosmo_params,precision=10,cosmo_Class=None):\n",
    "\n",
    "    # Assert everything as the good type and shape, and find number of redshifts, bins etc\n",
    "    zz  = np.asarray(z_arr)\n",
    "    win = np.asarray(windows)\n",
    "    \n",
    "    assert zz.ndim==1, 'z_arr must be a 1-dimensional array'\n",
    "    assert win.ndim==2, 'windows must be a 2-dimensional array'\n",
    "    \n",
    "    nz    = len(zz)\n",
    "    nbins = win.shape[0]\n",
    "    assert win.shape[1]==nz, 'windows must have shape (nbins,nz)'\n",
    "    \n",
    "    assert zz.min()>0, 'z_arr must have values > 0'\n",
    "    \n",
    "    # If the cosmology is not provided (in the same form as CLASS), run CLASS\n",
    "    if cosmo_Class is None:\n",
    "        cosmo = Class()\n",
    "        dico_for_CLASS = cosmo_params\n",
    "        dico_for_CLASS['output'] = 'mPk'\n",
    "        cosmo.set(dico_for_CLASS)\n",
    "        cosmo.compute()\n",
    "    else:\n",
    "        cosmo = cosmo_Class\n",
    "\n",
    "    h = cosmo.h() #for  conversions Mpc/h <-> Mpc\n",
    "    \n",
    "    # Define arrays of r(z), k, P(k)...\n",
    "    zofr        = cosmo.z_of_r(zz)\n",
    "    comov_dist  = zofr[0]                                   #Comoving distance r(z) in Mpc\n",
    "    dcomov_dist = 1/zofr[1]                                 #Derivative dr/dz in Mpc\n",
    "    dV          = comov_dist**2 * dcomov_dist               #Comoving volume per solid angle in Mpc^3/sr\n",
    "    growth      = np.zeros(nz)                              #Growth factor\n",
    "    for iz in range(nz):\n",
    "        growth[iz] = cosmo.scale_independent_growth_factor(zz[iz])\n",
    "    \n",
    "    # Compute normalisations\n",
    "    Inorm       = np.zeros(nbins)\n",
    "    for i1 in range(nbins):\n",
    "        integrand = dV * windows[i1,:]**2\n",
    "        Inorm[i1] = integrate.simps(integrand,zz)\n",
    "    \n",
    "    # Compute U(i,k), numerator of Sij (integral of Window**2 * matter )\n",
    "    #Previous definition of k,P(k) arrays \n",
    "    keq         = 0.02/h                                          #Equality matter radiation in 1/Mpc (more or less)\n",
    "    klogwidth   = 10                                              #Factor of width of the integration range. 10 seems ok\n",
    "    kmin        = min(keq,1./comov_dist.max())/klogwidth\n",
    "    kmax        = max(keq,1./comov_dist.min())*klogwidth\n",
    "    nk          = 2**precision                                    #10 seems to be enough. Increase to test precision, reduce to speed up.\n",
    "    kk          = np.linspace(kmin,kmax,num=nk)                   #linear grid on k\n",
    "    #logkmin     = np.log(kmin) ; logkmax   = np.log(kmax)\n",
    "    #logk        = np.linspace(logkmin,logkmax,num=nk)\n",
    "    #kk          = np.exp(logk)                                     #logarithmic grid on k\n",
    "    Pk          = np.zeros(nk)\n",
    "    for ik in range(nk):\n",
    "        #Pk[ik] = cosmo.pk(kk[ik],0.)                              #In Mpc^3\n",
    "        Pk[ik] = 1.\n",
    "    #Tweak to have P(k)= 1 (Mpc)^3\n",
    "    #kk = (2*np.pi/(1000))*np.arange(1,1001)\n",
    "    #Pk = np.ones(len(kk))\n",
    "    #nk = len(kk)\n",
    "    Uarr        = np.zeros((nbins,nk))\n",
    "    for ibin in range(nbins):\n",
    "        for ik in range(nk):\n",
    "            kr            = kk[ik]*comov_dist\n",
    "            integrand     = dV * windows[ibin,:]**2 * growth * np.sin(kr)/kr\n",
    "            Uarr[ibin,ik] = integrate.simps(integrand,zz)\n",
    "    \n",
    "    # Compute Sij finally\n",
    "    Cl_zero     = np.zeros((nbins,nbins))\n",
    "    #For i<=j\n",
    "    for ibin in range(nbins):\n",
    "        U1 = Uarr[ibin,:]/Inorm[ibin]\n",
    "        for jbin in range(ibin,nbins):\n",
    "            U2 = Uarr[jbin,:]/Inorm[jbin]\n",
    "            integrand = kk**2 * Pk * U1 * U2\n",
    "            Cl_zero[ibin,jbin] = 2/pi * integrate.simps(integrand,kk)     #linear integration\n",
    "            #Cl_zero[ibin,jbin] = 2/pi * integrate.simps(integrand*kk,logk) #log integration\n",
    "    #Fill by symmetry   \n",
    "    for ibin in range(nbins):\n",
    "        for jbin in range(nbins):\n",
    "            Cl_zero[ibin,jbin] = Cl_zero[min(ibin,jbin),max(ibin,jbin)]\n",
    "    Sij = Cl_zero / (4*pi)\n",
    "    \n",
    "    return Sij"
   ]
  },
  {
   "cell_type": "code",
   "execution_count": 51,
   "metadata": {},
   "outputs": [],
   "source": [
    "# Same but with logarithmic grid of k\n",
    "def Sij_Pkone_logk(z_arr, windows, cosmo_params=default_cosmo_params,precision=10,cosmo_Class=None):\n",
    "\n",
    "    # Assert everything as the good type and shape, and find number of redshifts, bins etc\n",
    "    zz  = np.asarray(z_arr)\n",
    "    win = np.asarray(windows)\n",
    "    \n",
    "    assert zz.ndim==1, 'z_arr must be a 1-dimensional array'\n",
    "    assert win.ndim==2, 'windows must be a 2-dimensional array'\n",
    "    \n",
    "    nz    = len(zz)\n",
    "    nbins = win.shape[0]\n",
    "    assert win.shape[1]==nz, 'windows must have shape (nbins,nz)'\n",
    "    \n",
    "    assert zz.min()>0, 'z_arr must have values > 0'\n",
    "    \n",
    "    # If the cosmology is not provided (in the same form as CLASS), run CLASS\n",
    "    if cosmo_Class is None:\n",
    "        cosmo = Class()\n",
    "        dico_for_CLASS = cosmo_params\n",
    "        dico_for_CLASS['output'] = 'mPk'\n",
    "        cosmo.set(dico_for_CLASS)\n",
    "        cosmo.compute()\n",
    "    else:\n",
    "        cosmo = cosmo_Class\n",
    "\n",
    "    h = cosmo.h() #for  conversions Mpc/h <-> Mpc\n",
    "    \n",
    "    # Define arrays of r(z), k, P(k)...\n",
    "    zofr        = cosmo.z_of_r(zz)\n",
    "    comov_dist  = zofr[0]                                   #Comoving distance r(z) in Mpc\n",
    "    dcomov_dist = 1/zofr[1]                                 #Derivative dr/dz in Mpc\n",
    "    dV          = comov_dist**2 * dcomov_dist               #Comoving volume per solid angle in Mpc^3/sr\n",
    "    growth      = np.zeros(nz)                              #Growth factor\n",
    "    for iz in range(nz):\n",
    "        growth[iz] = cosmo.scale_independent_growth_factor(zz[iz])\n",
    "    \n",
    "    # Compute normalisations\n",
    "    Inorm       = np.zeros(nbins)\n",
    "    for i1 in range(nbins):\n",
    "        integrand = dV * windows[i1,:]**2\n",
    "        Inorm[i1] = integrate.simps(integrand,zz)\n",
    "    \n",
    "    # Compute U(i,k), numerator of Sij (integral of Window**2 * matter )\n",
    "    #Previous definition of k,P(k) arrays \n",
    "    keq         = 0.02/h                                          #Equality matter radiation in 1/Mpc (more or less)\n",
    "    klogwidth   = 10                                              #Factor of width of the integration range. 10 seems ok\n",
    "    kmin        = min(keq,1./comov_dist.max())/klogwidth\n",
    "    kmax        = max(keq,1./comov_dist.min())*klogwidth\n",
    "    nk          = 2**precision                                    #10 seems to be enough. Increase to test precision, reduce to speed up.\n",
    "    #kk          = np.linspace(kmin,kmax,num=nk)                   #linear grid on k\n",
    "    logkmin     = np.log(kmin) ; logkmax   = np.log(kmax)\n",
    "    logk        = np.linspace(logkmin,logkmax,num=nk)\n",
    "    kk          = np.exp(logk)                                     #logarithmic grid on k\n",
    "    Pk          = np.zeros(nk)\n",
    "    for ik in range(nk):\n",
    "        #Pk[ik] = cosmo.pk(kk[ik],0.)                              #In Mpc^3\n",
    "        Pk[ik] = 1\n",
    "    #Tweak to have P(k)= 1 (Mpc/h)^3\n",
    "    #kk = (2*np.pi/(1000))*np.arange(1,1001)\n",
    "    #logk = np.linspace(np.log(1),np.log(1001),num=1000)\n",
    "    #kk = (2*np.pi/(1000))*np.exp(logk)\n",
    "    #Pk = np.ones(len(kk))\n",
    "    nk = len(kk)\n",
    "    Uarr        = np.zeros((nbins,nk))\n",
    "    for ibin in range(nbins):\n",
    "        for ik in range(nk):\n",
    "            kr            = kk[ik]*comov_dist\n",
    "            integrand     = dV * windows[ibin,:]**2 * growth * np.sin(kr)/kr\n",
    "            Uarr[ibin,ik] = integrate.simps(integrand,zz)\n",
    "    \n",
    "    # Compute Sij finally\n",
    "    Cl_zero     = np.zeros((nbins,nbins))\n",
    "    #For i<=j\n",
    "    for ibin in range(nbins):\n",
    "        U1 = Uarr[ibin,:]/Inorm[ibin]\n",
    "        for jbin in range(ibin,nbins):\n",
    "            U2 = Uarr[jbin,:]/Inorm[jbin]\n",
    "            integrand = kk**2 * Pk * U1 * U2\n",
    "            #Cl_zero[ibin,jbin] = 2/pi * integrate.simps(integrand,kk)     #linear integration\n",
    "            Cl_zero[ibin,jbin] = 2/pi * integrate.simps(integrand*kk,logk) #log integration\n",
    "    #Fill by symmetry   \n",
    "    for ibin in range(nbins):\n",
    "        for jbin in range(nbins):\n",
    "            Cl_zero[ibin,jbin] = Cl_zero[min(ibin,jbin),max(ibin,jbin)]\n",
    "    Sij = Cl_zero / (4*pi)\n",
    "    \n",
    "    return Sij"
   ]
  },
  {
   "cell_type": "code",
   "execution_count": 52,
   "metadata": {},
   "outputs": [
    {
     "name": "stdout",
     "output_type": "stream",
     "text": [
      "[[4.04025789e-12]]\n",
      "[[4.01636683e-12]]\n"
     ]
    }
   ],
   "source": [
    "print(Sij_Pkone(z_arr,windows_G))\n",
    "print(Sij_Pkone_logk(z_arr,windows_G))"
   ]
  },
  {
   "cell_type": "code",
   "execution_count": 53,
   "metadata": {},
   "outputs": [
    {
     "name": "stdout",
     "output_type": "stream",
     "text": [
      "[[4.04025789e-12]]\n",
      "[[4.01636683e-12]]\n"
     ]
    }
   ],
   "source": [
    "#Test convergence with higher number of redshifts\n",
    "print(Sij_Pkone(z_arr_bis,windows_G_bis))\n",
    "print(Sij_Pkone_logk(z_arr_bis,windows_G_bis))"
   ]
  },
  {
   "cell_type": "code",
   "execution_count": 60,
   "metadata": {},
   "outputs": [
    {
     "name": "stdout",
     "output_type": "stream",
     "text": [
      "[[4.01693491e-12]]\n",
      "[[4.01636683e-12]]\n"
     ]
    }
   ],
   "source": [
    "#Test convergence with higher number of k samples in internal integrals\n",
    "#nk=2**precision, default is precision=10\n",
    "print(Sij_Pkone(z_arr,windows_G,precision=12))\n",
    "print(Sij_Pkone_logk(z_arr,windows_G,precision=12))"
   ]
  },
  {
   "cell_type": "markdown",
   "metadata": {},
   "source": [
    "So this is converged"
   ]
  },
  {
   "cell_type": "markdown",
   "metadata": {},
   "source": [
    "# Alternative Sij routine"
   ]
  },
  {
   "cell_type": "code",
   "execution_count": 66,
   "metadata": {},
   "outputs": [],
   "source": [
    "def Sij_alt_Pkone(z_arr, windows, cosmo_params=default_cosmo_params,cosmo_Class=None, precision=10):\n",
    "\n",
    "    # Assert everything as the good type and shape, and find number of redshifts, bins etc\n",
    "    zz  = np.asarray(z_arr)\n",
    "    win = np.asarray(windows)\n",
    "    \n",
    "    assert zz.ndim==1, 'z_arr must be a 1-dimensional array'\n",
    "    assert win.ndim==2, 'windows must be a 2-dimensional array'\n",
    "    \n",
    "    nz    = len(zz)\n",
    "    nbins = win.shape[0]\n",
    "    assert win.shape[1]==nz, 'windows must have shape (nbins,nz)'\n",
    "    \n",
    "    assert zz.min()>0, 'z_arr must have values > 0'\n",
    "    \n",
    "    # If the cosmology is not provided (in the same form as CLASS), run CLASS\n",
    "    if cosmo_Class is None:\n",
    "        cosmo = Class()\n",
    "        dico_for_CLASS = cosmo_params\n",
    "        dico_for_CLASS['output'] = 'mPk'\n",
    "        cosmo.set(dico_for_CLASS)\n",
    "        cosmo.compute()\n",
    "    else:\n",
    "        cosmo = cosmo_Class\n",
    "\n",
    "    h = cosmo.h() #for  conversions Mpc/h <-> Mpc\n",
    "    \n",
    "    # Define arrays of r(z), k, P(k)...\n",
    "    zofr        = cosmo.z_of_r(zz)\n",
    "    comov_dist  = zofr[0]                                   #Comoving distance r(z) in Mpc\n",
    "    dcomov_dist = 1/zofr[1]                                 #Derivative dr/dz in Mpc\n",
    "    dV          = comov_dist**2 * dcomov_dist               #Comoving volume per solid angle in Mpc^3/sr\n",
    "    growth      = np.zeros(nz)                              #Growth factor\n",
    "    for iz in range(nz):\n",
    "        growth[iz] = cosmo.scale_independent_growth_factor(zz[iz])\n",
    "    \n",
    "    keq         = 0.02/h                                    #Equality matter radiation in 1/Mpc (more or less)\n",
    "    klogwidth   = 10                                        #Factor of width of the integration range.\n",
    "    #10 seems ok ; going higher needs to increase nk_fft to reach convergence (fine cancellation issue noted in Lacasa & Grain)\n",
    "    kmin        = min(keq,1./comov_dist.max())/klogwidth\n",
    "    kmax        = max(keq,1./comov_dist.min())*klogwidth\n",
    "    #kmin = 2.*pi/1000.\n",
    "    #kmax = 2.*pi/1000.*1000\n",
    "    nk_fft      = 2**precision\n",
    "    k_4fft      = np.linspace(kmin,kmax,nk_fft)             #linear grid on k, as we need to use an FFT\n",
    "    Deltak      = kmax - kmin\n",
    "    Dk          = Deltak/nk_fft\n",
    "    Pk_4fft     = np.zeros(nk_fft)\n",
    "    for ik in range(nk_fft):\n",
    "        #Pk_4fft[ik] = cosmo.pk(k_4fft[ik],0.)               #In Mpc^3\n",
    "        Pk_4fft[ik] = 1.\n",
    "    dr_fft      = np.linspace(0,nk_fft//2,nk_fft//2+1)*2*pi/Deltak\n",
    "    \n",
    "    # Compute necessary FFTs and make interpolation functions\n",
    "    fft0        = np.fft.rfft(Pk_4fft)*Dk\n",
    "    dct0        = fft0.real ; dst0 = -fft0.imag\n",
    "    Pk_dct      = interp1d(dr_fft,dct0,kind='cubic')\n",
    "    \n",
    "    # Compute sigma^2(z1,z2)\n",
    "    sigma2_nog = np.zeros((nz,nz))\n",
    "    #First with P(k,z=0) and z1<=z2\n",
    "    for iz in range(nz):\n",
    "        r1 = comov_dist[iz]\n",
    "        for jz in range(iz,nz):\n",
    "            r2                = comov_dist[jz]\n",
    "            rsum              = r1+r2\n",
    "            rdiff             = abs(r1-r2)\n",
    "            Icp0              = Pk_dct(rsum)\n",
    "            Icm0              = Pk_dct(rdiff)\n",
    "            sigma2_nog[iz,jz] = (Icm0-Icp0)/(4*pi**2 * r1 * r2)\n",
    "    #Now fill by symmetry and put back growth functions\n",
    "    sigma2      = np.zeros((nz,nz))\n",
    "    for iz in range(nz):\n",
    "        growth1 = growth[iz]\n",
    "        for jz in range(nz):\n",
    "            growth2       = growth[jz]\n",
    "            sigma2[iz,jz] = sigma2_nog[min(iz,jz),max(iz,jz)]*growth1*growth2            \n",
    "\n",
    "    # Compute normalisations\n",
    "    Inorm       = np.zeros(nbins)\n",
    "    for i1 in range(nbins):\n",
    "        integrand = dV * windows[i1,:]**2\n",
    "        Inorm[i1] = integrate.simps(integrand,zz)\n",
    "    \n",
    "    \n",
    "    # Compute Sij finally\n",
    "    prefactor  = sigma2 * (dV * dV[:,None])\n",
    "    Sij        = np.zeros((nbins,nbins))\n",
    "    #For i<=j\n",
    "    for i1 in range(nbins):\n",
    "        for i2 in range(i1,nbins):\n",
    "            integrand  = prefactor * (windows[i1,:]**2 * windows[i2,:,None]**2)\n",
    "            Sij[i1,i2] = integrate.simps(integrate.simps(integrand,zz),zz)/(Inorm[i1]*Inorm[i2])\n",
    "    #Fill by symmetry   \n",
    "    for i1 in range(nbins):\n",
    "        for i2 in range(nbins):\n",
    "            Sij[i1,i2] = Sij[min(i1,i2),max(i1,i2)]\n",
    "    \n",
    "    return Sij"
   ]
  },
  {
   "cell_type": "code",
   "execution_count": 67,
   "metadata": {},
   "outputs": [
    {
     "name": "stdout",
     "output_type": "stream",
     "text": [
      "[[6.19338246e-12]]\n"
     ]
    }
   ],
   "source": [
    "print(Sij_alt_Pkone(z_arr,windows_G))"
   ]
  },
  {
   "cell_type": "code",
   "execution_count": 68,
   "metadata": {},
   "outputs": [
    {
     "name": "stdout",
     "output_type": "stream",
     "text": [
      "[[5.57574828e-12]]\n"
     ]
    }
   ],
   "source": [
    "#Test convergence with higher number of redshifts\n",
    "print(Sij_alt_Pkone(z_arr_bis,windows_G_bis))"
   ]
  },
  {
   "cell_type": "code",
   "execution_count": 69,
   "metadata": {},
   "outputs": [
    {
     "name": "stdout",
     "output_type": "stream",
     "text": [
      "[[6.19338246e-12]]\n"
     ]
    }
   ],
   "source": [
    "#Test convergence with higher number of k samples\n",
    "print(Sij_alt_Pkone(z_arr,windows_G,precision=12))"
   ]
  },
  {
   "cell_type": "markdown",
   "metadata": {},
   "source": [
    "so this one seems converged with k but not with z"
   ]
  },
  {
   "cell_type": "markdown",
   "metadata": {},
   "source": [
    "### Try to zero pad the FFT"
   ]
  },
  {
   "cell_type": "code",
   "execution_count": 78,
   "metadata": {},
   "outputs": [],
   "source": [
    "def Sij_alt_Pkone_zeropad(z_arr, windows, cosmo_params=default_cosmo_params,cosmo_Class=None, precision=10):\n",
    "\n",
    "    # Assert everything as the good type and shape, and find number of redshifts, bins etc\n",
    "    zz  = np.asarray(z_arr)\n",
    "    win = np.asarray(windows)\n",
    "    \n",
    "    assert zz.ndim==1, 'z_arr must be a 1-dimensional array'\n",
    "    assert win.ndim==2, 'windows must be a 2-dimensional array'\n",
    "    \n",
    "    nz    = len(zz)\n",
    "    nbins = win.shape[0]\n",
    "    assert win.shape[1]==nz, 'windows must have shape (nbins,nz)'\n",
    "    \n",
    "    assert zz.min()>0, 'z_arr must have values > 0'\n",
    "    \n",
    "    # If the cosmology is not provided (in the same form as CLASS), run CLASS\n",
    "    if cosmo_Class is None:\n",
    "        cosmo = Class()\n",
    "        dico_for_CLASS = cosmo_params\n",
    "        dico_for_CLASS['output'] = 'mPk'\n",
    "        cosmo.set(dico_for_CLASS)\n",
    "        cosmo.compute()\n",
    "    else:\n",
    "        cosmo = cosmo_Class\n",
    "\n",
    "    h = cosmo.h() #for  conversions Mpc/h <-> Mpc\n",
    "    \n",
    "    # Define arrays of r(z), k, P(k)...\n",
    "    zofr        = cosmo.z_of_r(zz)\n",
    "    comov_dist  = zofr[0]                                   #Comoving distance r(z) in Mpc\n",
    "    dcomov_dist = 1/zofr[1]                                 #Derivative dr/dz in Mpc\n",
    "    dV          = comov_dist**2 * dcomov_dist               #Comoving volume per solid angle in Mpc^3/sr\n",
    "    growth      = np.zeros(nz)                              #Growth factor\n",
    "    for iz in range(nz):\n",
    "        growth[iz] = cosmo.scale_independent_growth_factor(zz[iz])\n",
    "    \n",
    "    keq         = 0.02/h                                    #Equality matter radiation in 1/Mpc (more or less)\n",
    "    klogwidth   = 10                                        #Factor of width of the integration range.\n",
    "    #10 seems ok ; going higher needs to increase nk_fft to reach convergence (fine cancellation issue noted in Lacasa & Grain)\n",
    "    kmin        = min(keq,1./comov_dist.max())/klogwidth\n",
    "    kmax        = max(keq,1./comov_dist.min())*klogwidth\n",
    "    print('Test Pk',kmin,kmax,cosmo.pk(kmin,0.),cosmo.pk(keq/klogwidth,0.),cosmo.pk(keq,0.),cosmo.pk(keq*klogwidth,0.),cosmo.pk(kmax,0.))\n",
    "    #kmin = 2.*pi/1000.\n",
    "    #kmax = 2.*pi/1000.*1000\n",
    "    \n",
    "    #Put Pk from kmin to kmax then zero pad\n",
    "    # k = [kmin,kmax] + [kmax,kmax+(kmax-kmin)] = [kmin,2*kmax-kmin]\n",
    "    nk_fft      = 2**precision * 2\n",
    "    k_4fft      = np.linspace(kmin,2*kmax-kmin,nk_fft)             #linear grid on k, as we need to use an FFT\n",
    "    Deltak      = 2*kmax - 2*kmin\n",
    "    Dk          = Deltak/nk_fft\n",
    "    Pk_4fft     = np.zeros(nk_fft)\n",
    "    #Put Pk from kmin to kmax\n",
    "    for ik in range(nk_fft//2):\n",
    "        #Pk_4fft[ik] = cosmo.pk(k_4fft[ik],0.)               #In Mpc^3\n",
    "        Pk_4fft[ik] = 1.\n",
    "    #Then zero pad is automatic via initialisation\n",
    "    print('Test k_4fft',kmax,k_4fft[nk_fft//2])\n",
    "        \n",
    "    dr_fft      = np.linspace(0,nk_fft//2,nk_fft//2+1)*2*pi/Deltak\n",
    "    \n",
    "    # Compute necessary FFTs and make interpolation functions\n",
    "    fft0        = np.fft.rfft(Pk_4fft)*Dk\n",
    "    dct0        = fft0.real ; dst0 = -fft0.imag\n",
    "    Pk_dct      = interp1d(dr_fft,dct0,kind='cubic')\n",
    "    \n",
    "    # Compute sigma^2(z1,z2)\n",
    "    sigma2_nog = np.zeros((nz,nz))\n",
    "    #First with P(k,z=0) and z1<=z2\n",
    "    for iz in range(nz):\n",
    "        r1 = comov_dist[iz]\n",
    "        for jz in range(iz,nz):\n",
    "            r2                = comov_dist[jz]\n",
    "            rsum              = r1+r2\n",
    "            rdiff             = abs(r1-r2)\n",
    "            Icp0              = Pk_dct(rsum)\n",
    "            Icm0              = Pk_dct(rdiff)\n",
    "            sigma2_nog[iz,jz] = (Icm0-Icp0)/(4*pi**2 * r1 * r2)\n",
    "    #Now fill by symmetry and put back growth functions\n",
    "    sigma2      = np.zeros((nz,nz))\n",
    "    for iz in range(nz):\n",
    "        growth1 = growth[iz]\n",
    "        for jz in range(nz):\n",
    "            growth2       = growth[jz]\n",
    "            sigma2[iz,jz] = sigma2_nog[min(iz,jz),max(iz,jz)]*growth1*growth2            \n",
    "\n",
    "    # Compute normalisations\n",
    "    Inorm       = np.zeros(nbins)\n",
    "    for i1 in range(nbins):\n",
    "        integrand = dV * windows[i1,:]**2\n",
    "        Inorm[i1] = integrate.simps(integrand,zz)\n",
    "    \n",
    "    \n",
    "    # Compute Sij finally\n",
    "    prefactor  = sigma2 * (dV * dV[:,None])\n",
    "    Sij        = np.zeros((nbins,nbins))\n",
    "    #For i<=j\n",
    "    for i1 in range(nbins):\n",
    "        for i2 in range(i1,nbins):\n",
    "            integrand  = prefactor * (windows[i1,:]**2 * windows[i2,:,None]**2)\n",
    "            Sij[i1,i2] = integrate.simps(integrate.simps(integrand,zz),zz)/(Inorm[i1]*Inorm[i2])\n",
    "    #Fill by symmetry   \n",
    "    for i1 in range(nbins):\n",
    "        for i2 in range(nbins):\n",
    "            Sij[i1,i2] = Sij[min(i1,i2),max(i1,i2)]\n",
    "    \n",
    "    return Sij"
   ]
  },
  {
   "cell_type": "code",
   "execution_count": 79,
   "metadata": {},
   "outputs": [
    {
     "name": "stdout",
     "output_type": "stream",
     "text": [
      "Test Pk 1.9281783790716826e-05 0.29850746268656714 422.23594199381756 44569.7065380833 44799.078000424655 1321.6861534061354 1321.6861534061354\n",
      "Test k_4fft 0.29850746268656714 0.29865328006854214\n",
      "[[4.1973275e-12]]\n"
     ]
    }
   ],
   "source": [
    "print(Sij_alt_Pkone_zeropad(z_arr,windows_G))"
   ]
  },
  {
   "cell_type": "code",
   "execution_count": 80,
   "metadata": {},
   "outputs": [
    {
     "name": "stdout",
     "output_type": "stream",
     "text": [
      "Test Pk 1.9281783790716826e-05 0.29850746268656714 422.23594199381756 44569.7065380833 44799.078000424655 1321.6861534061354 1321.6861534061354\n",
      "Test k_4fft 0.29850746268656714 0.29865328006854214\n",
      "[[2.96620013e-12]]\n"
     ]
    }
   ],
   "source": [
    "#Test convergence with higher number of redshifts\n",
    "print(Sij_alt_Pkone_zeropad(z_arr_bis,windows_G_bis))"
   ]
  },
  {
   "cell_type": "code",
   "execution_count": 83,
   "metadata": {},
   "outputs": [
    {
     "name": "stdout",
     "output_type": "stream",
     "text": [
      "Test Pk 1.9281783790716826e-05 0.29850746268656714 422.23594199381756 44569.7065380833 44799.078000424655 1321.6861534061354 1321.6861534061354\n",
      "Test k_4fft 0.29850746268656714 0.29854390368045103\n",
      "[[4.19762254e-12]]\n"
     ]
    }
   ],
   "source": [
    "#Test convergence with higher number of k samples\n",
    "print(Sij_alt_Pkone_zeropad(z_arr,windows_G,precision=12))"
   ]
  },
  {
   "cell_type": "code",
   "execution_count": null,
   "metadata": {},
   "outputs": [],
   "source": []
  }
 ],
 "metadata": {
  "kernelspec": {
   "display_name": "Python 3",
   "language": "python",
   "name": "python3"
  },
  "language_info": {
   "codemirror_mode": {
    "name": "ipython",
    "version": 3
   },
   "file_extension": ".py",
   "mimetype": "text/x-python",
   "name": "python",
   "nbconvert_exporter": "python",
   "pygments_lexer": "ipython3",
   "version": "3.6.9"
  }
 },
 "nbformat": 4,
 "nbformat_minor": 2
}
