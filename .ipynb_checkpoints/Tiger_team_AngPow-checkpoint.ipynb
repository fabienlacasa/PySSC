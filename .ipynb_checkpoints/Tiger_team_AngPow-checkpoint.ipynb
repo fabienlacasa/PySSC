{
 "cells": [
  {
   "cell_type": "code",
   "execution_count": 9,
   "metadata": {},
   "outputs": [],
   "source": [
    "import math ; pi=math.pi\n",
    "import numpy as np\n",
    "import matplotlib.pyplot as plt\n",
    "import itertools\n",
    "#%matplotlib widget\n",
    "plt.rcParams['mathtext.fontset'] = 'stix'\n",
    "plt.rcParams['font.family'] = 'STIXGeneral'\n",
    "import time\n",
    "import json\n",
    "import imp\n",
    "import os\n",
    "np.warnings.filterwarnings('ignore')\n",
    "import PySSC\n",
    "import PySSC_AP"
   ]
  },
  {
   "cell_type": "markdown",
   "metadata": {},
   "source": [
    "# Dirac Window, Angpow case"
   ]
  },
  {
   "cell_type": "code",
   "execution_count": 4,
   "metadata": {},
   "outputs": [
    {
     "name": "stdout",
     "output_type": "stream",
     "text": [
      "[0.] [2.09802746e-07]\n"
     ]
    }
   ],
   "source": [
    "imp.reload(PySSC_AP)\n",
    "imp.reload(PySSC)\n",
    "\n",
    "kk  = (2*np.pi/(1000))*np.arange(1,1001)\n",
    "Pk = np.ones(len(kk))\n",
    "Omega_b     = 0.05\n",
    "Omega_cdm   = 0.27\n",
    "Omega_m     = Omega_b + Omega_cdm\n",
    "path        = './AngPow_files/' #loc of all AngPow stuffs\n",
    "name        = 'SSC' #the name of the new AngPow .ini file\n",
    "np.savetxt('%s%s_Pk.txt'%(path,name),np.transpose(np.vstack((kk,Pk)))) #AngPow needs Pk(z=0)\n",
    "cl_kmax     = np.amax(kk) #cl_kmax is the maximum k of the integral made by Ang\n",
    "\n",
    "ini = {'Lmin' : 0,'Lmax' : 1 ,'linearStep' : 40, 'logStep' : 1.15,'algo_type' : 1,'limber_lthr1' : -1,'limber_lthr2' : -1,'wtype':'Dirac','mean' : 1,'width': -1,'cross_depth' : 0,'n_sigma_cut' : '5','cl_kmax' : cl_kmax,'radial_quad'  : 'trapezes','radial_order' : 50,'chebyshev_order' : 9,'n_bessel_roots_per_interval' : 100,'h': 0.67,'omega_matter': Omega_m ,'omega_baryon': Omega_b,'hasX' : 0,'omega_X' :'','wX':'','waX':'','cosmo_zmin' : 0.,'cosmo_zmax' : 10.,'cosmo_npts' : 1000,'cosmo_precision' : 0.001,'Lmax_for_xmin' : 2000,'jl_xmin_cut'   : 5e-10,'output_dir' : path,'common_file_tag' : 'angpow_bench_%s_'%name,'quadrature_rule_ios_dir' : '%sAngPow/data/'%(path),'power_spectrum_input_dir': path,'power_spectrum_input_file' : '%s_Pk.txt' %name,'pw_kmin' : np.amin(kk),'pw_kmax' : np.amax(kk),}\n",
    "\n",
    "# write all AngPow parameters in a .ini file\n",
    "out = '%sangpow_bench_%s.ini'%(path,name)\n",
    "fo  = open(out, \"w\")\n",
    "for k, v in ini.items():\n",
    "     fo.write(str(k) + '='+ str(v) + '\\n')\n",
    "fo.close()\n",
    "os.system('%sAngPow/bin/angpow %sangpow_bench_%s.ini'%(path,path,name))\n",
    "l_angpow,cl_angpow = np.loadtxt('%sangpow_bench_%s_cl.txt'%(path,name),ndmin=2,unpack=True)\n",
    "\n",
    "os.remove('%sangpow_bench_%s_cl.txt'%(path,name))\n",
    "os.remove('%sangpow_bench_%s_ctheta.txt'%(path,name))\n",
    "os.remove('%sangpow_bench_%s_used-param.txt'%(path,name))\n",
    "os.remove('%sangpow_bench_%s.ini'%(path,name))\n",
    "\n",
    "print(l_angpow,cl_angpow)"
   ]
  },
  {
   "cell_type": "markdown",
   "metadata": {},
   "source": [
    "# Gaussian Window, Angpow case"
   ]
  },
  {
   "cell_type": "code",
   "execution_count": 5,
   "metadata": {},
   "outputs": [
    {
     "name": "stdout",
     "output_type": "stream",
     "text": [
      "[0.] [6.15104135e-09]\n"
     ]
    }
   ],
   "source": [
    "ini = {'Lmin' : 0,'Lmax' : 1 ,'linearStep' : 40, 'logStep' : 1.15,'algo_type' : 1,'limber_lthr1' : -1,'limber_lthr2' : -1,'wtype':'Gauss','mean' : 1,'width': 0.1,'cross_depth' : 0,'n_sigma_cut' : '5','cl_kmax' : cl_kmax,'radial_quad'  : 'trapezes','radial_order' : 50,'chebyshev_order' : 9,'n_bessel_roots_per_interval' : 100,'h': 0.67,'omega_matter': Omega_m ,'omega_baryon': Omega_b,'hasX' : 0,'omega_X' :'','wX':'','waX':'','cosmo_zmin' : 0.,'cosmo_zmax' : 10.,'cosmo_npts' : 1000,'cosmo_precision' : 0.001,'Lmax_for_xmin' : 2000,'jl_xmin_cut'   : 5e-10,'output_dir' : path,'common_file_tag' : 'angpow_bench_%s_'%name,'quadrature_rule_ios_dir' : '%sAngPow/data/'%(path),'power_spectrum_input_dir': path,'power_spectrum_input_file' : '%s_Pk.txt' %name,'pw_kmin' : np.amin(kk),'pw_kmax' : np.amax(kk),}\n",
    "\n",
    "# write all AngPow parameters in a .ini file\n",
    "out = '%sangpow_bench_%s.ini'%(path,name)\n",
    "fo  = open(out, \"w\")\n",
    "for k, v in ini.items():\n",
    "     fo.write(str(k) + '='+ str(v) + '\\n')\n",
    "fo.close()\n",
    "os.system('%sAngPow/bin/angpow %sangpow_bench_%s.ini'%(path,path,name))\n",
    "l_angpow,cl_angpow = np.loadtxt('%sangpow_bench_%s_cl.txt'%(path,name),ndmin=2,unpack=True)\n",
    "\n",
    "os.remove('%sangpow_bench_%s_cl.txt'%(path,name))\n",
    "os.remove('%sangpow_bench_%s_ctheta.txt'%(path,name))\n",
    "os.remove('%sangpow_bench_%s_used-param.txt'%(path,name))\n",
    "os.remove('%sangpow_bench_%s.ini'%(path,name))\n",
    "\n",
    "print(l_angpow,cl_angpow)"
   ]
  },
  {
   "cell_type": "markdown",
   "metadata": {},
   "source": [
    "# Gaussian Window, PySSC case\n",
    "need to modify PySSC with :\n",
    "\n",
    "kk = (2*np.pi/(1000))*np.arange(1,1001)\n",
    "\n",
    "Pk = np.ones(len(kk))\n",
    "\n",
    "kk*=h\n",
    "\n",
    "Pk/=(h**3)\n",
    "\n",
    "nk = len(kk)\n"
   ]
  },
  {
   "cell_type": "code",
   "execution_count": 10,
   "metadata": {},
   "outputs": [
    {
     "data": {
      "application/vnd.jupyter.widget-view+json": {
       "model_id": "bbe400a1258844d2ae1f50aff1350f38",
       "version_major": 2,
       "version_minor": 0
      },
      "text/plain": [
       "Canvas(toolbar=Toolbar(toolitems=[('Home', 'Reset original view', 'home', 'home'), ('Back', 'Back to previous …"
      ]
     },
     "metadata": {},
     "output_type": "display_data"
    }
   ],
   "source": [
    "sigmaz    = 0.1\n",
    "zcenter_G = [1]\n",
    "nbins_G   = len(zcenter_G)\n",
    "nz        = 400\n",
    "windows_G = np.zeros((nbins_G,nz))\n",
    "zmin = 0.2 ; zmax = 2.5\n",
    "z_arr     = np.linspace(zmin,zmax,nz)\n",
    "for i in range(nbins_G):\n",
    "    windows_G[i,:] = np.exp(-(z_arr-zcenter_G[i])**2/(2*sigmaz**2)) / np.sqrt(2*pi*sigmaz**2)\n",
    "\n",
    "# Plot window functions\n",
    "fig,ax=plt.subplots(1,1)\n",
    "for i in range(nbins_G):\n",
    "    ax.semilogy(z_arr,windows_G[i,:])\n",
    "ax.set_xlabel('z') ; ax.set_ylabel('$W_i(z)$')\n",
    "fig.show()"
   ]
  },
  {
   "cell_type": "code",
   "execution_count": 3,
   "metadata": {},
   "outputs": [
    {
     "name": "stdout",
     "output_type": "stream",
     "text": [
      "[[2.55110068e-10]]\n"
     ]
    }
   ],
   "source": [
    "imp.reload(PySSC)\n",
    "print(PySSC.Sij(z_arr,windows_G))"
   ]
  },
  {
   "cell_type": "code",
   "execution_count": null,
   "metadata": {},
   "outputs": [],
   "source": []
  },
  {
   "cell_type": "code",
   "execution_count": 13,
   "metadata": {},
   "outputs": [
    {
     "data": {
      "application/vnd.jupyter.widget-view+json": {
       "model_id": "986a817fe2e949648f6d0ebab134f9e3",
       "version_major": 2,
       "version_minor": 0
      },
      "text/plain": [
       "Canvas(toolbar=Toolbar(toolitems=[('Home', 'Reset original view', 'home', 'home'), ('Back', 'Back to previous …"
      ]
     },
     "metadata": {},
     "output_type": "display_data"
    }
   ],
   "source": [
    "fig = plt.figure(figsize=(5.5,5))\n",
    "for i in range(nbins_G):\n",
    "    plt.semilogy(z_arr,windows_G[i,:])\n",
    "plt.xlabel('z',fontsize=20) ; plt.ylabel('$W_i(z)$',fontsize=20)\n",
    "plt.show()"
   ]
  },
  {
   "cell_type": "code",
   "execution_count": null,
   "metadata": {},
   "outputs": [],
   "source": []
  },
  {
   "cell_type": "code",
   "execution_count": null,
   "metadata": {},
   "outputs": [],
   "source": []
  },
  {
   "cell_type": "code",
   "execution_count": null,
   "metadata": {},
   "outputs": [],
   "source": []
  },
  {
   "cell_type": "code",
   "execution_count": null,
   "metadata": {},
   "outputs": [],
   "source": []
  }
 ],
 "metadata": {
  "kernelspec": {
   "display_name": "Python 3",
   "language": "python",
   "name": "python3"
  },
  "language_info": {
   "codemirror_mode": {
    "name": "ipython",
    "version": 3
   },
   "file_extension": ".py",
   "mimetype": "text/x-python",
   "name": "python",
   "nbconvert_exporter": "python",
   "pygments_lexer": "ipython3",
   "version": "3.6.9"
  }
 },
 "nbformat": 4,
 "nbformat_minor": 2
}
