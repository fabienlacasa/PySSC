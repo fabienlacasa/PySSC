{
 "cells": [
  {
   "cell_type": "code",
   "execution_count": 2,
   "metadata": {},
   "outputs": [],
   "source": [
    "import math ; pi=math.pi\n",
    "import numpy as np\n",
    "import matplotlib.pyplot as plt\n",
    "import itertools\n",
    "#%matplotlib widget\n",
    "plt.rcParams['mathtext.fontset'] = 'stix'\n",
    "plt.rcParams['font.family'] = 'STIXGeneral'\n",
    "import time\n",
    "import json\n",
    "import imp\n",
    "import os\n",
    "np.warnings.filterwarnings('ignore')\n",
    "import PySSC\n",
    "import PySSC_AP\n",
    "from classy import Class"
   ]
  },
  {
   "cell_type": "markdown",
   "metadata": {},
   "source": [
    "# Dirac Window, Angpow case"
   ]
  },
  {
   "cell_type": "code",
   "execution_count": 3,
   "metadata": {},
   "outputs": [
    {
     "name": "stdout",
     "output_type": "stream",
     "text": [
      "[0.] [2.09802746e-07]\n"
     ]
    }
   ],
   "source": [
    "imp.reload(PySSC_AP)\n",
    "imp.reload(PySSC)\n",
    "\n",
    "kk  = (2*np.pi/(1000))*np.arange(1,1001)\n",
    "Pk = np.ones(len(kk))\n",
    "Omega_b     = 0.05\n",
    "Omega_cdm   = 0.27\n",
    "Omega_m     = Omega_b + Omega_cdm\n",
    "path        = './AngPow_files/' #loc of all AngPow stuffs\n",
    "name        = 'SSC' #the name of the new AngPow .ini file\n",
    "np.savetxt('%s%s_Pk.txt'%(path,name),np.transpose(np.vstack((kk,Pk)))) #AngPow needs Pk(z=0)\n",
    "cl_kmax     = np.amax(kk) #cl_kmax is the maximum k of the integral made by Ang\n",
    "\n",
    "ini = {'Lmin' : 0,'Lmax' : 1 ,'linearStep' : 40, 'logStep' : 1.15,'algo_type' : 1,'limber_lthr1' : -1,'limber_lthr2' : -1,'wtype':'Dirac','mean' : 1,'width': -1,'cross_depth' : 0,'n_sigma_cut' : '5','cl_kmax' : cl_kmax,'radial_quad'  : 'trapezes','radial_order' : 50,'chebyshev_order' : 9,'n_bessel_roots_per_interval' : 100,'h': 0.67,'omega_matter': Omega_m ,'omega_baryon': Omega_b,'hasX' : 0,'omega_X' :'','wX':'','waX':'','cosmo_zmin' : 0.,'cosmo_zmax' : 10.,'cosmo_npts' : 1000,'cosmo_precision' : 0.001,'Lmax_for_xmin' : 2000,'jl_xmin_cut'   : 5e-10,'output_dir' : path,'common_file_tag' : 'angpow_bench_%s_'%name,'quadrature_rule_ios_dir' : '%sAngPow/data/'%(path),'power_spectrum_input_dir': path,'power_spectrum_input_file' : '%s_Pk.txt' %name,'pw_kmin' : np.amin(kk),'pw_kmax' : np.amax(kk),}\n",
    "\n",
    "# write all AngPow parameters in a .ini file\n",
    "out = '%sangpow_bench_%s.ini'%(path,name)\n",
    "fo  = open(out, \"w\")\n",
    "for k, v in ini.items():\n",
    "     fo.write(str(k) + '='+ str(v) + '\\n')\n",
    "fo.close()\n",
    "os.system('%sAngPow/bin/angpow %sangpow_bench_%s.ini'%(path,path,name))\n",
    "l_angpow,cl_angpow = np.loadtxt('%sangpow_bench_%s_cl.txt'%(path,name),ndmin=2,unpack=True)\n",
    "\n",
    "os.remove('%sangpow_bench_%s_cl.txt'%(path,name))\n",
    "os.remove('%sangpow_bench_%s_ctheta.txt'%(path,name))\n",
    "os.remove('%sangpow_bench_%s_used-param.txt'%(path,name))\n",
    "os.remove('%sangpow_bench_%s.ini'%(path,name))\n",
    "\n",
    "print(l_angpow,cl_angpow)"
   ]
  },
  {
   "cell_type": "markdown",
   "metadata": {},
   "source": [
    "# Gaussian Window, Angpow case"
   ]
  },
  {
   "cell_type": "code",
   "execution_count": 4,
   "metadata": {},
   "outputs": [
    {
     "name": "stdout",
     "output_type": "stream",
     "text": [
      "[0.] [1.10985092e-08]\n"
     ]
    }
   ],
   "source": [
    "ini = {'Lmin' : 0,'Lmax' : 1 ,'linearStep' : 40, 'logStep' : 1.15,'algo_type' : 1,'limber_lthr1' : -1,'limber_lthr2' : -1,'wtype':'Gauss','mean' : 1,'width': 0.1,'cross_depth' : 0,'n_sigma_cut' : 9,'cl_kmax' : cl_kmax,'radial_quad'  : 'trapezes','radial_order' : 50,'chebyshev_order' : 9,'n_bessel_roots_per_interval' : 100,'h': 0.67,'omega_matter': Omega_m ,'omega_baryon': Omega_b,'hasX' : 0,'omega_X' :'','wX':'','waX':'','cosmo_zmin' : 0.,'cosmo_zmax' : 10.,'cosmo_npts' : 1000,'cosmo_precision' : 0.001,'Lmax_for_xmin' : 2000,'jl_xmin_cut'   : 5e-10,'output_dir' : path,'common_file_tag' : 'angpow_bench_%s_'%name,'quadrature_rule_ios_dir' : '%sAngPow/data/'%(path),'power_spectrum_input_dir': path,'power_spectrum_input_file' : '%s_Pk.txt' %name,'pw_kmin' : np.amin(kk),'pw_kmax' : np.amax(kk),}\n",
    "\n",
    "# write all AngPow parameters in a .ini file\n",
    "out = '%sangpow_bench_%s.ini'%(path,name)\n",
    "fo  = open(out, \"w\")\n",
    "for k, v in ini.items():\n",
    "     fo.write(str(k) + '='+ str(v) + '\\n')\n",
    "fo.close()\n",
    "os.system('%sAngPow/bin/angpow %sangpow_bench_%s.ini'%(path,path,name))\n",
    "l_angpow,cl_angpow = np.loadtxt('%sangpow_bench_%s_cl.txt'%(path,name),ndmin=2,unpack=True)\n",
    "\n",
    "os.remove('%sangpow_bench_%s_cl.txt'%(path,name))\n",
    "os.remove('%sangpow_bench_%s_ctheta.txt'%(path,name))\n",
    "os.remove('%sangpow_bench_%s_used-param.txt'%(path,name))\n",
    "os.remove('%sangpow_bench_%s.ini'%(path,name))\n",
    "\n",
    "print(l_angpow,cl_angpow)"
   ]
  },
  {
   "cell_type": "markdown",
   "metadata": {},
   "source": [
    "# Gaussian Window, PySSC case\n",
    "need to modify PySSC with :\n",
    "\n",
    "kk = (2*np.pi/(1000))*np.arange(1,1001)\n",
    "\n",
    "Pk = np.ones(len(kk))\n",
    "\n",
    "kk*=h\n",
    "\n",
    "Pk/=(h**3)\n",
    "\n",
    "nk = len(kk)\n"
   ]
  },
  {
   "cell_type": "code",
   "execution_count": 5,
   "metadata": {},
   "outputs": [
    {
     "data": {
      "image/png": "[encoded data removed]",
      "text/plain": [
       "<Figure size 432x288 with 1 Axes>"
      ]
     },
     "metadata": {
      "needs_background": "light"
     },
     "output_type": "display_data"
    }
   ],
   "source": [
    "import math ; pi=math.pi\n",
    "import numpy as np\n",
    "import matplotlib.pyplot as plt\n",
    "import itertools\n",
    "#%matplotlib widget\n",
    "plt.rcParams['mathtext.fontset'] = 'stix'\n",
    "plt.rcParams['font.family'] = 'STIXGeneral'\n",
    "import time\n",
    "import json\n",
    "import imp\n",
    "import os\n",
    "np.warnings.filterwarnings('ignore')\n",
    "import PySSC\n",
    "import PySSC_AP\n",
    "from classy import Class\n",
    "sigmaz    = 0.1\n",
    "zcenter_G = [1]\n",
    "nbins_G   = len(zcenter_G)\n",
    "nz        = 50\n",
    "windows_G = np.zeros((nbins_G,nz))\n",
    "zmin = 0.1 ; zmax = 1.9\n",
    "z_arr     = np.linspace(zmin,zmax,nz)\n",
    "for i in range(nbins_G):\n",
    "    windows_G[i,:] = np.exp(-(z_arr-zcenter_G[i])**2/(2*sigmaz**2)) / np.sqrt(2*pi*sigmaz**2)\n",
    "\n",
    "# Plot window functions\n",
    "fig,ax=plt.subplots(1,1)\n",
    "for i in range(nbins_G):\n",
    "    ax.semilogy(z_arr,windows_G[i,:])\n",
    "ax.set_xlabel('z') ; ax.set_ylabel('$W_i(z)$')\n",
    "fig.show()"
   ]
  },
  {
   "cell_type": "code",
   "execution_count": 6,
   "metadata": {},
   "outputs": [],
   "source": [
    "# Define function which is PySSC's Sij but with P(k)= 1 (Mpc/h)^3\n",
    "default_cosmo_params = {'omega_b':0.022,'omega_cdm':0.12,'H0':67.,'n_s':0.96,'sigma8':0.81}\n",
    "import math ; pi=math.pi\n",
    "import numpy as np\n",
    "import sys\n",
    "import scipy.integrate as integrate\n",
    "from scipy.interpolate import interp1d\n",
    "from classy import Class\n",
    "def Sij_Pkone(z_arr, windows, cosmo_params=default_cosmo_params,precision=10,cosmo_Class=None):\n",
    "\n",
    "    # Assert everything as the good type and shape, and find number of redshifts, bins etc\n",
    "    zz  = np.asarray(z_arr)\n",
    "    win = np.asarray(windows)\n",
    "    \n",
    "    assert zz.ndim==1, 'z_arr must be a 1-dimensional array'\n",
    "    assert win.ndim==2, 'windows must be a 2-dimensional array'\n",
    "    \n",
    "    nz    = len(zz)\n",
    "    nbins = win.shape[0]\n",
    "    assert win.shape[1]==nz, 'windows must have shape (nbins,nz)'\n",
    "    \n",
    "    assert zz.min()>0, 'z_arr must have values > 0'\n",
    "    \n",
    "    # If the cosmology is not provided (in the same form as CLASS), run CLASS\n",
    "    if cosmo_Class is None:\n",
    "        cosmo = Class()\n",
    "        dico_for_CLASS = default_cosmo_params\n",
    "        dico_for_CLASS['output'] = 'mPk'\n",
    "        cosmo.set(dico_for_CLASS)\n",
    "        cosmo.compute()\n",
    "    else:\n",
    "        cosmo = cosmo_Class\n",
    "\n",
    "    h = cosmo.h() #for  conversions Mpc/h <-> Mpc\n",
    "    \n",
    "    # Define arrays of r(z), k, P(k)...\n",
    "    zofr        = cosmo.z_of_r(zz)\n",
    "    comov_dist  = zofr[0]                                   #Comoving distance r(z) in Mpc\n",
    "    dcomov_dist = 1/zofr[1]                                 #Derivative dr/dz in Mpc\n",
    "    dV          = comov_dist**2 * dcomov_dist               #Comoving volume per solid angle in Mpc^3/sr\n",
    "    growth      = np.zeros(nz)                              #Growth factor\n",
    "    for iz in range(nz):\n",
    "        growth[iz] = cosmo.scale_independent_growth_factor(zz[iz])\n",
    "    \n",
    "    # Compute normalisations\n",
    "    Inorm       = np.zeros(nbins)\n",
    "    for i1 in range(nbins):\n",
    "        integrand = dV * windows[i1,:]**2\n",
    "        Inorm[i1] = integrate.simps(integrand,zz)\n",
    "    \n",
    "    # Compute U(i,k), numerator of Sij (integral of Window**2 * matter )\n",
    "    #Previous definition of k,P(k) arrays \n",
    "    #keq         = 0.02/h                                          #Equality matter radiation in 1/Mpc (more or less)\n",
    "    #klogwidth   = 10                                              #Factor of width of the integration range. 10 seems ok\n",
    "    #kmin        = min(keq,1./comov_dist.max())/klogwidth\n",
    "    #kmax        = max(keq,1./comov_dist.min())*klogwidth\n",
    "    #nk          = 2**precision                                    #10 seems to be enough. Increase to test precision, reduce to speed up.\n",
    "    ##kk          = np.linspace(kmin,kmax,num=nk)                   #linear grid on k\n",
    "    #logkmin     = np.log(kmin) ; logkmax   = np.log(kmax)\n",
    "    #logk        = np.linspace(logkmin,logkmax,num=nk)\n",
    "    #kk          = np.exp(logk)                                     #logarithmic grid on k\n",
    "    #Pk          = np.zeros(nk)\n",
    "    #for ik in range(nk):\n",
    "    #    Pk[ik] = cosmo.pk(kk[ik],0.)                              #In Mpc^3\n",
    "    #Tweak to have P(k)= 1 (Mpc/h)^3\n",
    "    kk = (2*np.pi/(1000))*np.arange(1,1001)\n",
    "    Pk = np.ones(len(kk))\n",
    "    kk*=h\n",
    "    Pk/=(h**3)\n",
    "    nk = len(kk)\n",
    "    Uarr        = np.zeros((nbins,nk))\n",
    "    for ibin in range(nbins):\n",
    "        for ik in range(nk):\n",
    "            kr            = kk[ik]*comov_dist\n",
    "            integrand     = dV * windows[ibin,:]**2 * growth * np.sin(kr)/kr\n",
    "            Uarr[ibin,ik] = integrate.simps(integrand,zz)\n",
    "    \n",
    "    # Compute Sij finally\n",
    "    Cl_zero     = np.zeros((nbins,nbins))\n",
    "    #For i<=j\n",
    "    for ibin in range(nbins):\n",
    "        U1 = Uarr[ibin,:]/Inorm[ibin]\n",
    "        for jbin in range(ibin,nbins):\n",
    "            U2 = Uarr[jbin,:]/Inorm[jbin]\n",
    "            integrand = kk**2 * Pk * U1 * U2\n",
    "            Cl_zero[ibin,jbin] = 2/pi * integrate.simps(integrand,kk)     #linear integration\n",
    "            #Cl_zero[ibin,jbin] = 2/pi * integrate.simps(integrand*kk,logk) #log integration\n",
    "    #Fill by symmetry   \n",
    "    for ibin in range(nbins):\n",
    "        for jbin in range(nbins):\n",
    "            Cl_zero[ibin,jbin] = Cl_zero[min(ibin,jbin),max(ibin,jbin)]\n",
    "    Sij_Pkone = Cl_zero / (4*pi)\n",
    "    \n",
    "    return Sij_Pkone"
   ]
  },
  {
   "cell_type": "code",
   "execution_count": 7,
   "metadata": {},
   "outputs": [
    {
     "name": "stdout",
     "output_type": "stream",
     "text": [
      "[[1.63274591e-09]]\n"
     ]
    }
   ],
   "source": [
    "print(Sij_Pkone(z_arr,windows_G))"
   ]
  },
  {
   "cell_type": "code",
   "execution_count": 8,
   "metadata": {},
   "outputs": [],
   "source": [
    "# Same but with logarithmic grid of k\n",
    "def Sij_Pkone_logk(z_arr, windows, cosmo_params=default_cosmo_params,precision=10,cosmo_Class=None):\n",
    "\n",
    "    # Assert everything as the good type and shape, and find number of redshifts, bins etc\n",
    "    zz  = np.asarray(z_arr)\n",
    "    win = np.asarray(windows)\n",
    "    \n",
    "    assert zz.ndim==1, 'z_arr must be a 1-dimensional array'\n",
    "    assert win.ndim==2, 'windows must be a 2-dimensional array'\n",
    "    \n",
    "    nz    = len(zz)\n",
    "    nbins = win.shape[0]\n",
    "    assert win.shape[1]==nz, 'windows must have shape (nbins,nz)'\n",
    "    \n",
    "    assert zz.min()>0, 'z_arr must have values > 0'\n",
    "    \n",
    "    # If the cosmology is not provided (in the same form as CLASS), run CLASS\n",
    "    if cosmo_Class is None:\n",
    "        cosmo = Class()\n",
    "        dico_for_CLASS = cosmo_params\n",
    "        dico_for_CLASS['output'] = 'mPk'\n",
    "        cosmo.set(dico_for_CLASS)\n",
    "        cosmo.compute()\n",
    "    else:\n",
    "        cosmo = cosmo_Class\n",
    "\n",
    "    h = cosmo.h() #for  conversions Mpc/h <-> Mpc\n",
    "    \n",
    "    # Define arrays of r(z), k, P(k)...\n",
    "    zofr        = cosmo.z_of_r(zz)\n",
    "    comov_dist  = zofr[0]                                   #Comoving distance r(z) in Mpc\n",
    "    dcomov_dist = 1/zofr[1]                                 #Derivative dr/dz in Mpc\n",
    "    dV          = comov_dist**2 * dcomov_dist               #Comoving volume per solid angle in Mpc^3/sr\n",
    "    growth      = np.zeros(nz)                              #Growth factor\n",
    "    for iz in range(nz):\n",
    "        growth[iz] = cosmo.scale_independent_growth_factor(zz[iz])\n",
    "    \n",
    "    # Compute normalisations\n",
    "    Inorm       = np.zeros(nbins)\n",
    "    for i1 in range(nbins):\n",
    "        integrand = dV * windows[i1,:]**2\n",
    "        Inorm[i1] = integrate.simps(integrand,zz)\n",
    "    \n",
    "    # Compute U(i,k), numerator of Sij (integral of Window**2 * matter )\n",
    "    #Previous definition of k,P(k) arrays \n",
    "    #keq         = 0.02/h                                          #Equality matter radiation in 1/Mpc (more or less)\n",
    "    #klogwidth   = 10                                              #Factor of width of the integration range. 10 seems ok\n",
    "    #kmin        = min(keq,1./comov_dist.max())/klogwidth\n",
    "    #kmax        = max(keq,1./comov_dist.min())*klogwidth\n",
    "    #nk          = 2**precision                                    #10 seems to be enough. Increase to test precision, reduce to speed up.\n",
    "    ##kk          = np.linspace(kmin,kmax,num=nk)                   #linear grid on k\n",
    "    #logkmin     = np.log(kmin) ; logkmax   = np.log(kmax)\n",
    "    #logk        = np.linspace(logkmin,logkmax,num=nk)\n",
    "    #kk          = np.exp(logk)                                     #logarithmic grid on k\n",
    "    #Pk          = np.zeros(nk)\n",
    "    #for ik in range(nk):\n",
    "    #    Pk[ik] = cosmo.pk(kk[ik],0.)                              #In Mpc^3\n",
    "    #Tweak to have P(k)= 1 (Mpc/h)^3\n",
    "    #kk = (2*np.pi/(1000))*np.arange(1,1001)\n",
    "    logk = np.linspace(np.log(1),np.log(1001),num=1000)\n",
    "    kk = (2*np.pi/(1000))*np.exp(logk)\n",
    "    Pk = np.ones(len(kk))\n",
    "    kk*=h\n",
    "    Pk/=(h**3)\n",
    "    nk = len(kk)\n",
    "    Uarr        = np.zeros((nbins,nk))\n",
    "    for ibin in range(nbins):\n",
    "        for ik in range(nk):\n",
    "            kr            = kk[ik]*comov_dist\n",
    "            integrand     = dV * windows[ibin,:]**2 * growth * np.sin(kr)/kr\n",
    "            Uarr[ibin,ik] = integrate.simps(integrand,zz)\n",
    "    \n",
    "    # Compute Sij finally\n",
    "    Cl_zero     = np.zeros((nbins,nbins))\n",
    "    #For i<=j\n",
    "    for ibin in range(nbins):\n",
    "        U1 = Uarr[ibin,:]/Inorm[ibin]\n",
    "        for jbin in range(ibin,nbins):\n",
    "            U2 = Uarr[jbin,:]/Inorm[jbin]\n",
    "            integrand = kk**2 * Pk * U1 * U2\n",
    "            #Cl_zero[ibin,jbin] = 2/pi * integrate.simps(integrand,kk)     #linear integration\n",
    "            Cl_zero[ibin,jbin] = 2/pi * integrate.simps(integrand*kk,logk) #log integration\n",
    "    #Fill by symmetry   \n",
    "    for ibin in range(nbins):\n",
    "        for jbin in range(nbins):\n",
    "            Cl_zero[ibin,jbin] = Cl_zero[min(ibin,jbin),max(ibin,jbin)]\n",
    "    Sij_Pkone_logk = Cl_zero / (4*pi)\n",
    "    \n",
    "    return Sij_Pkone_logk"
   ]
  },
  {
   "cell_type": "code",
   "execution_count": 9,
   "metadata": {},
   "outputs": [
    {
     "name": "stdout",
     "output_type": "stream",
     "text": [
      "[[1.84629663e-09]]\n"
     ]
    }
   ],
   "source": [
    "print(Sij_Pkone_logk(z_arr,windows_G))"
   ]
  },
  {
   "cell_type": "markdown",
   "metadata": {},
   "source": [
    "# Gaussian Window, analytical formula\n",
    "Implement the formula from the note https://www.overleaf.com/project/5d6551756c426848b8483888\n",
    "\n",
    "for P(k)=1 (Mpc/h)^3 then\n",
    "\n",
    "- in the limit $k_{min}=0$ and $k_{max}\\rightarrow \\infty$\n",
    "\n",
    "$C_{\\ell=0} = \\frac{1}{(\\int dV W^A W^B)(\\int dV W^C W^D)}\\int d V \\ W^A_{i_z}(z) W^B_{j_z}(z)  \\ W^C_{k_z}(z) W^D_{l_z}(z) D(z)^2 $\n",
    "with everything in unit of Mpc/h\n",
    "\n",
    "- with finite  $k_{min}$ and $k_{max}$ it's a bit more complicated\n",
    "\n",
    "$F(k,r_1,r_2) \\equiv \\frac{r_2 \\sin(k r_1) \\cos(k r_2) - r_1 \\sin(k r_2) \\cos(k r_1)}{r_1^3 r_2 - r_2^3 r_1}$\n",
    "\n",
    "with the continuity point $F(k,r,r) = \\frac{k}{2 r^2} - \\frac{\\sin(kr)\\cos(kr)}{r^3}$\n",
    "\n",
    "then $C_{\\ell=0} = \\frac{\\frac{2}{\\pi}}{(\\int dV W^A W^B)(\\int dV W^C W^D)}\\int d V_1 d V_2 \\ W^A_{i_z}(z_1) W^B_{j_z}(z_1) \\ W^C_{k_z}(z_2) W^D_{l_z}(z_2) \\times D(z_1) D(z_2) \\left(F(k_{max},r_1,r_2)-F(k_{min},r_1,r_2)\\right)$"
   ]
  },
  {
   "cell_type": "code",
   "execution_count": 10,
   "metadata": {},
   "outputs": [],
   "source": [
    "#Arrays used for all later integrals\n",
    "zz = z_arr\n",
    "cosmo = Class()\n",
    "dico_for_CLASS = default_cosmo_params\n",
    "dico_for_CLASS['output'] = 'mPk'\n",
    "cosmo.set(dico_for_CLASS)\n",
    "cosmo.compute()\n",
    "h = cosmo.h() #for  conversions Mpc/h <-> Mpc\n",
    "kk = (2*np.pi/(1000))*np.arange(1,1001)\n",
    "kk*=h\n",
    "kmin = kk.min() ; kmax = kk.max()\n",
    "# Define arrays of r(z), k, P(k)...\n",
    "zofr        = cosmo.z_of_r(zz)\n",
    "comov_dist  = zofr[0]                                   #Comoving distance r(z) in Mpc\n",
    "dcomov_dist = 1/zofr[1]                                 #Derivative dr/dz in Mpc\n",
    "dV          = comov_dist**2 * dcomov_dist               #Comoving volume per solid angle in Mpc^3/sr\n",
    "growth      = np.zeros(nz)                              #Growth factor\n",
    "for iz in range(nz):\n",
    "    growth[iz] = cosmo.scale_independent_growth_factor(zz[iz])\n",
    "#Conversion to units of Mpc/h\n",
    "comov_dist_h = comov_dist * h                           #Comoving distance r(z) in Mpc/h\n",
    "dVh3         = dV*h**3                                  #Comoving volume in (Mpc/h)^3  (/sr of course)\n",
    "#Normalisation int dV W_i^2\n",
    "Normalisation = np.zeros(nbins_G)\n",
    "for i in range(nbins_G):\n",
    "    integrand     = dVh3 * windows_G[i,:]**2\n",
    "    Normalisation[i] = integrate.simps(integrand,zz)"
   ]
  },
  {
   "cell_type": "markdown",
   "metadata": {},
   "source": [
    "<h4>First integral</h4>"
   ]
  },
  {
   "cell_type": "code",
   "execution_count": 11,
   "metadata": {},
   "outputs": [],
   "source": [
    "C_l0_0infty = np.zeros(nbins_G)\n",
    "for i in range(nbins_G):\n",
    "    integrand     = dVh3 * windows_G[i,:]**4 * growth**2\n",
    "    C_l0_0infty[i] = integrate.simps(integrand,zz) / Normalisation[i]**2"
   ]
  },
  {
   "cell_type": "code",
   "execution_count": 12,
   "metadata": {},
   "outputs": [
    {
     "name": "stdout",
     "output_type": "stream",
     "text": [
      "[1.33540735e-11]\n"
     ]
    }
   ],
   "source": [
    "print(C_l0_0infty/(4*pi))"
   ]
  },
  {
   "cell_type": "markdown",
   "metadata": {},
   "source": [
    "<h4>Second integral</h4>"
   ]
  },
  {
   "cell_type": "code",
   "execution_count": 13,
   "metadata": {},
   "outputs": [
    {
     "name": "stdout",
     "output_type": "stream",
     "text": [
      "0.08600409182186532 0.08600409182186532\n",
      "0.050660591821168895 0.05066059182116889\n"
     ]
    }
   ],
   "source": [
    "def Fdummy(k,r1,r2):\n",
    "    if r1 == r2:\n",
    "        result = k/(2*r1**2) - (np.sin(k*r1)*np.cos(k*r1))/r1**3\n",
    "    else:\n",
    "        result = (r2*np.sin(k*r1)*np.cos(k*r2) - r1*np.sin(k*r2)*np.cos(k*r1))/(r1**3 * r2 - r2**3 * r1)\n",
    "    return result\n",
    "#Test\n",
    "print(Fdummy(1,pi/2,pi),8./(pi**3*3))\n",
    "print(Fdummy(1,pi,pi),1./(pi**2*2))"
   ]
  },
  {
   "cell_type": "code",
   "execution_count": 14,
   "metadata": {},
   "outputs": [],
   "source": [
    "C_l0_kminmax = np.zeros(nbins_G)\n",
    "for i in range(nbins_G):\n",
    "    integrand     = np.zeros((nz,nz))\n",
    "    for j1 in range(nz):\n",
    "        for j2 in range(nz):\n",
    "            r1 = comov_dist_h[j1] ; r2 = comov_dist_h[j2]\n",
    "            Ffactor = Fdummy(kmax,r1,r2) - Fdummy(kmin,r1,r2)\n",
    "            integrand[j1,j2] = dV[j1] * dV[j2] * windows_G[i,j1]**2 * windows_G[i,j2]**2 * growth[j1] * growth[j1] * Ffactor\n",
    "    #Manual 2D integral following https://stackoverflow.com/questions/20668689/integrating-2d-samples-on-a-rectangular-grid-using-scipy\n",
    "    C_l0_kminmax[i] = integrate.simps([integrate.simps(integrand1D,zz) for integrand1D in integrand],zz) / Normalisation[i]**2"
   ]
  },
  {
   "cell_type": "code",
   "execution_count": 15,
   "metadata": {},
   "outputs": [
    {
     "name": "stdout",
     "output_type": "stream",
     "text": [
      "[1.90723133e-08]\n"
     ]
    }
   ],
   "source": [
    "print(C_l0_kminmax/(4*pi))"
   ]
  },
  {
   "cell_type": "code",
   "execution_count": null,
   "metadata": {},
   "outputs": [],
   "source": []
  },
  {
   "cell_type": "markdown",
   "metadata": {},
   "source": [
    "# Computing numerically the integral"
   ]
  },
  {
   "cell_type": "markdown",
   "metadata": {},
   "source": [
    "Ici je change un peu la cosmologie, mon CLASS crachait pour l'ancienne declaration, j'espere que pour vous ça ira ...?"
   ]
  },
  {
   "cell_type": "code",
   "execution_count": 16,
   "metadata": {},
   "outputs": [],
   "source": [
    "import scipy.special\n",
    "#%matplotlib widget\n",
    "cosmo = Class()\n",
    "default_cosmo_params = {'z_max_pk': 0,'P_k_max_h/Mpc': 1,'H0':67.,'omega_b':0.022, 'omega_cdm':0.12 ,'n_s': 0.96, 'A_s' : 2.1265e-9,'output' : 'mPk'}\n",
    "dico_for_CLASS = default_cosmo_params\n",
    "dico_for_CLASS['output'] = 'mPk'\n",
    "cosmo.set(dico_for_CLASS)\n",
    "cosmo.compute()"
   ]
  },
  {
   "cell_type": "markdown",
   "metadata": {},
   "source": [
    "Je definis h en hMpc-1 et je recupere Pk en h-3Mpc3 en convention de Fourier $\\delta_{\\vec k} = \\left(\\frac{1}{2\\pi}\\right)^3 \\int d\\vec x e^{-i\\vec k . \\vec x} \\delta(\\vec x)$"
   ]
  },
  {
   "cell_type": "code",
   "execution_count": 17,
   "metadata": {},
   "outputs": [],
   "source": [
    "h = 0.67\n",
    "kk = np.geomspace(1e-4,1,1000)\n",
    "Pk = np.zeros(len(kk))\n",
    "for ik in range(len(kk)): Pk[ik]  = cosmo.pk(kk[ik]*h,0.)\n",
    "Pk*= h**3 /(2*np.pi)**3"
   ]
  },
  {
   "cell_type": "markdown",
   "metadata": {},
   "source": [
    "Declaration de la fonction de croissance lineaire (Eisentein) --> D(z)\n",
    "\n",
    "Declaration relation redshift vers distance comobile en h-1Mpc"
   ]
  },
  {
   "cell_type": "code",
   "execution_count": 18,
   "metadata": {},
   "outputs": [],
   "source": [
    "def AngPow_growth(Om_m,z):\n",
    "    Om_l = 1 - Om_m\n",
    "    def Eisenstein(redshift):\n",
    "        z1  = redshift + 1\n",
    "        z2  = z1*z1\n",
    "        z3  = z2*z1\n",
    "        den = Om_l + Om_m*z3\n",
    "        o0z = Om_m *z3 / den\n",
    "        olz = Om_l / den;\n",
    "        D1z = np.power(o0z,4./7.) - olz + (1.+o0z/2.)*(1.+olz/70.)\n",
    "        return 2.5*o0z / z1 / D1z\n",
    "    return Eisenstein(z)/Eisenstein(0)\n",
    "def z_to_dc(z,Om_m): \n",
    "    c    = 299792.458 #km/s\n",
    "    Om_l = 1 - Om_m\n",
    "    z_integral = np.linspace(0,z,1000)\n",
    "    toreturn = (c/100)*np.trapz(1/(np.sqrt(Om_m*(1.+z_integral)**3+Om_l)),z_integral)\n",
    "    return toreturn\n",
    "z_to_dc = np.vectorize(z_to_dc)"
   ]
  },
  {
   "cell_type": "markdown",
   "metadata": {},
   "source": [
    "Declaration d'une seule fonction fenetre gaussienne (on ne calculera que l'auto-$C_\\ell$)\n",
    "La precision du vecteur redshift est essentielle (argument de la bessel)"
   ]
  },
  {
   "cell_type": "code",
   "execution_count": 19,
   "metadata": {},
   "outputs": [
    {
     "data": {
      "image/png": "[encoded data removed]",
      "text/plain": [
       "<Figure size 432x288 with 1 Axes>"
      ]
     },
     "metadata": {
      "needs_background": "light"
     },
     "output_type": "display_data"
    }
   ],
   "source": [
    "redshift = np.linspace(0, 1.5,10000)\n",
    "sigmaz    = 0.1\n",
    "zcenter_G = [0.5]\n",
    "nbins_G   = len(zcenter_G)\n",
    "windows_G = np.zeros((nbins_G,len(redshift)))\n",
    "for i in range(nbins_G):\n",
    "    windows_G[i,:] = np.exp(-(redshift-zcenter_G[i])**2/(2*sigmaz**2)) / np.sqrt(2*pi*sigmaz**2)\n",
    "\n",
    "# Plot window functions\n",
    "fig,ax=plt.subplots(1,1)\n",
    "for i in range(nbins_G):\n",
    "    ax.plot(redshift,windows_G[i,:])\n",
    "ax.set_xlabel('z') ; ax.set_ylabel('$W_i(z)$')\n",
    "fig.show()"
   ]
  },
  {
   "cell_type": "markdown",
   "metadata": {},
   "source": [
    "Le calcul du monopole se fait via:\n",
    "\n",
    "$F_\\ell(k)=\\int dz W(z) D(z) j_\\ell (kr(z))$\n",
    "\n",
    "$C_0 = (4\\pi)^2 \\int k^2 P(k)F_\\ell (k)^2$\n",
    "\n",
    "le prefacteur vient de la convention de ma transformee de Fourier, cette integrale peut etre realisée en logk, c'est plus stable pour les fonctions oscillantes. Le carré sur le $F_\\ell$ car on a deux integrales sur z indentiques"
   ]
  },
  {
   "cell_type": "code",
   "execution_count": 20,
   "metadata": {},
   "outputs": [
    {
     "data": {
      "text/plain": [
       "[<matplotlib.lines.Line2D at 0x7ff9f1e8f520>]"
      ]
     },
     "execution_count": 20,
     "metadata": {},
     "output_type": "execute_result"
    },
    {
     "data": {
      "image/png": "[encoded data removed]",
      "text/plain": [
       "<Figure size 432x288 with 1 Axes>"
      ]
     },
     "metadata": {
      "needs_background": "light"
     },
     "output_type": "display_data"
    }
   ],
   "source": [
    "comob = z_to_dc(redshift,0.32)\n",
    "D_Eis = AngPow_growth(0.32,redshift)\n",
    "\n",
    "integrand = np.zeros(len(kk))\n",
    "i=0\n",
    "for k in kk:\n",
    "    j0 = scipy.special.spherical_jn(0,k*comob)\n",
    "    integrand[i] = np.trapz(windows_G*D_Eis*j0,redshift)\n",
    "    i+=1\n",
    "\n",
    "fig,ax=plt.subplots(1,1)\n",
    "plt.loglog(kk,abs(integrand))"
   ]
  },
  {
   "cell_type": "code",
   "execution_count": 21,
   "metadata": {},
   "outputs": [
    {
     "name": "stdout",
     "output_type": "stream",
     "text": [
      "3.7135014501787892e-06\n"
     ]
    }
   ],
   "source": [
    "print((4*np.pi)**2 * np.trapz(Pk*kk**3 * integrand**2,np.log(kk)))"
   ]
  },
  {
   "cell_type": "markdown",
   "metadata": {},
   "source": [
    "Dans le cas d'AngPow avec parametre de quadrature boosté:"
   ]
  },
  {
   "cell_type": "code",
   "execution_count": 22,
   "metadata": {},
   "outputs": [
    {
     "data": {
      "text/plain": [
       "array([[3.71841994e-06]])"
      ]
     },
     "execution_count": 22,
     "metadata": {},
     "output_type": "execute_result"
    }
   ],
   "source": [
    "imp.reload(PySSC_AP)\n",
    "PySSC_AP.Sij_AngPow(redshift[1:],windows_G[:,1:],clmask=None,mask='./masks/full_sky_map.fits',verbose=0)*4*np.pi"
   ]
  },
  {
   "cell_type": "code",
   "execution_count": 23,
   "metadata": {},
   "outputs": [
    {
     "data": {
      "text/plain": [
       "array([[6.80241815e-06]])"
      ]
     },
     "execution_count": 23,
     "metadata": {},
     "output_type": "execute_result"
    }
   ],
   "source": [
    "imp.reload(PySSC)\n",
    "PySSC.Sij(redshift[1:],windows_G[:,1:])*4*np.pi"
   ]
  },
  {
   "cell_type": "markdown",
   "metadata": {},
   "source": [
    "# Computing numerically the integral with window^2"
   ]
  },
  {
   "cell_type": "code",
   "execution_count": 24,
   "metadata": {},
   "outputs": [],
   "source": [
    "integrand2 = np.zeros(len(kk))\n",
    "i=0\n",
    "for k in kk:\n",
    "    j0 = scipy.special.spherical_jn(0,k*comob)\n",
    "    integrand2[i] = np.trapz(windows_G**2*D_Eis*j0,redshift)\n",
    "    i+=1\n",
    "Inorm = np.trapz(windows_G**2,redshift)"
   ]
  },
  {
   "cell_type": "code",
   "execution_count": 25,
   "metadata": {},
   "outputs": [
    {
     "name": "stdout",
     "output_type": "stream",
     "text": [
      "6.583603680992704e-06\n"
     ]
    }
   ],
   "source": [
    "print((4*np.pi)**2 * np.trapz(Pk*kk**3 * integrand2**2/Inorm**2,np.log(kk)))"
   ]
  },
  {
   "cell_type": "code",
   "execution_count": null,
   "metadata": {},
   "outputs": [],
   "source": []
  },
  {
   "cell_type": "code",
   "execution_count": null,
   "metadata": {},
   "outputs": [],
   "source": []
  },
  {
   "cell_type": "code",
   "execution_count": null,
   "metadata": {},
   "outputs": [],
   "source": []
  },
  {
   "cell_type": "code",
   "execution_count": null,
   "metadata": {},
   "outputs": [],
   "source": []
  }
 ],
 "metadata": {
  "kernelspec": {
   "display_name": "Python 3",
   "language": "python",
   "name": "python3"
  },
  "language_info": {
   "codemirror_mode": {
    "name": "ipython",
    "version": 3
   },
   "file_extension": ".py",
   "mimetype": "text/x-python",
   "name": "python",
   "nbconvert_exporter": "python",
   "pygments_lexer": "ipython3",
   "version": "3.8.5"
  }
 },
 "nbformat": 4,
 "nbformat_minor": 2
}
