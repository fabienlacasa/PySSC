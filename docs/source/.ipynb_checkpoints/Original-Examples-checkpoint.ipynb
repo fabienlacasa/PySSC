{
 "cells": [
  {
   "cell_type": "markdown",
   "metadata": {},
   "source": [
    "# Original examples\n",
    "The examples below allow to reproduce results from the original Lacasa & Grain article (arXiv:1809.05437). \\\n",
    "They use the \"turbo mode\" Sij function which is the original one but is limited to top-hat redshift kernels. \\\n",
    "Users are now encouraged to use the general function which allows arbitrary probe kernels. See the corresponding examples in the other notebooks."
   ]
  },
  {
   "cell_type": "markdown",
   "metadata": {},
   "source": [
    "### Import modules"
   ]
  },
  {
   "cell_type": "code",
   "execution_count": 1,
   "metadata": {},
   "outputs": [],
   "source": [
    "import math ; pi=math.pi\n",
    "import numpy as np\n",
    "import matplotlib\n",
    "import matplotlib.pyplot as plt\n",
    "%matplotlib inline\n",
    "matplotlib.rcParams['mathtext.fontset'] = 'stix'\n",
    "matplotlib.rcParams['font.family'] = 'STIXGeneral'\n",
    "import time"
   ]
  },
  {
   "cell_type": "code",
   "execution_count": 2,
   "metadata": {},
   "outputs": [],
   "source": [
    "# Import PySSC module\n",
    "import PySSC"
   ]
  },
  {
   "cell_type": "markdown",
   "metadata": {},
   "source": [
    "## Compute the Sij matrix"
   ]
  },
  {
   "cell_type": "markdown",
   "metadata": {},
   "source": [
    "### Define boundaries (stakes) of the redshift bins"
   ]
  },
  {
   "cell_type": "code",
   "execution_count": 3,
   "metadata": {},
   "outputs": [],
   "source": [
    "#zstakes = np.linspace(0.2,1.5,num=14)\n",
    "zstakes = np.array([0.2,0.3,0.4,0.5,0.6,0.7,0.8,0.9,1,1.1,1.2,1.3,1.4,1.5]) #Explicitely\n",
    "zmin = np.min(zstakes) ; zmax = np.max(zstakes)"
   ]
  },
  {
   "cell_type": "markdown",
   "metadata": {},
   "source": [
    "### Compute the matrix"
   ]
  },
  {
   "cell_type": "code",
   "execution_count": 4,
   "metadata": {},
   "outputs": [
    {
     "name": "stdout",
     "output_type": "stream",
     "text": [
      "7.993676833999999\n"
     ]
    }
   ],
   "source": [
    "t0 = time.process_time()\n",
    "Sij = PySSC.turboSij(zstakes=zstakes)  #Uses the default cosmology of the article (arXiv:1809.05437) : Planck 2013 LCDM\n",
    "t1 = time.process_time()\n",
    "print(t1-t0)"
   ]
  },
  {
   "cell_type": "code",
   "execution_count": 5,
   "metadata": {},
   "outputs": [],
   "source": [
    "# If you want to change cosmology, specify the parameters with a dictionnary in the format of CLASS :\n",
    "params = {'omega_b':0.022,'omega_cdm':0.12,'H0':67.,'n_s':0.96,'sigma8':0.81}\n",
    "Sijbis = PySSC.turboSij(zstakes=zstakes,cosmo_params=params)"
   ]
  },
  {
   "cell_type": "markdown",
   "metadata": {},
   "source": [
    "## Applications"
   ]
  },
  {
   "cell_type": "markdown",
   "metadata": {},
   "source": [
    "### Example 1: Plot the Sij matrix"
   ]
  },
  {
   "cell_type": "code",
   "execution_count": 6,
   "metadata": {},
   "outputs": [
    {
     "data": {
      "image/png": "[encoded data removed]",
      "text/plain": [
       "<Figure size 396x360 with 2 Axes>"
      ]
     },
     "metadata": {
      "needs_background": "light"
     },
     "output_type": "display_data"
    }
   ],
   "source": [
    "# Sij can be negative (anti-correlation between bins), and varies by some order of magnitude due to redshift evolution.\n",
    "# Let's first plot ln|Sij|\n",
    "fig = plt.figure(figsize=(5.5,5))\n",
    "P = plt.imshow(np.log(abs(Sij)),interpolation='none',cmap='bwr',extent=[zmin,zmax,zmax,zmin])\n",
    "plt.xticks([]) ; plt.yticks([])\n",
    "ax1 = fig.add_axes([0.89, 0.1, 0.035, 0.8])\n",
    "cbar = plt.colorbar(P,ax1)\n",
    "cbar.ax.tick_params(labelsize=15)\n",
    "plt.show()"
   ]
  },
  {
   "cell_type": "code",
   "execution_count": 7,
   "metadata": {},
   "outputs": [
    {
     "data": {
      "image/png": "[encoded data removed]",
      "text/plain": [
       "<Figure size 396x360 with 2 Axes>"
      ]
     },
     "metadata": {
      "needs_background": "light"
     },
     "output_type": "display_data"
    }
   ],
   "source": [
    "# Let's now plot the correlation matrix : Sij/sqrt(Sii*Sjj)\n",
    "#Compute the correlation matrix\n",
    "nzbins = len(zstakes) - 1\n",
    "correl = np.zeros((nzbins,nzbins))\n",
    "for i in range(nzbins):\n",
    "    for j in range(nzbins):\n",
    "        correl[i,j] = Sij[i,j] / np.sqrt(Sij[i,i]*Sij[j,j])\n",
    "#Plot it\n",
    "fig = plt.figure(figsize=(5.5,5))\n",
    "P = plt.imshow(correl,interpolation='none',cmap='bwr',vmin=-1,vmax=1,extent=[zmin,zmax,zmax,zmin])\n",
    "plt.xticks([]) ; plt.yticks([])\n",
    "ax1 = fig.add_axes([0.89, 0.1, 0.035, 0.8])\n",
    "cbar = plt.colorbar(P,ax1)\n",
    "cbar.ax.tick_params(labelsize=15)\n",
    "plt.show()"
   ]
  },
  {
   "cell_type": "markdown",
   "metadata": {},
   "source": [
    "### Example 2: Find the characteristic multipole ell_SSC depending on redshift"
   ]
  },
  {
   "cell_type": "code",
   "execution_count": 8,
   "metadata": {},
   "outputs": [],
   "source": [
    "# The multipole where the SSC decreases the S/N by a factor 2 compared to the Gaussian cosmic variance-limited case\n",
    "# Defined in Eq.46 of the article (arXiv:1809.05437)\n",
    "#Compute it\n",
    "fsky    = 1.\n",
    "Nprobes = 1.\n",
    "Resp    = 5.\n",
    "ell_SSC = np.zeros(nzbins)\n",
    "for i in range(nzbins):\n",
    "    ell_SSC[i] = np.sqrt(2./(Nprobes*Resp**2*fsky*Sij[i,i]))"
   ]
  },
  {
   "cell_type": "code",
   "execution_count": 9,
   "metadata": {},
   "outputs": [
    {
     "data": {
      "image/png": "[encoded data removed]",
      "text/plain": [
       "<Figure size 432x288 with 1 Axes>"
      ]
     },
     "metadata": {
      "needs_background": "light"
     },
     "output_type": "display_data"
    }
   ],
   "source": [
    "# Plot it as a function of redshift\n",
    "zcenter = (zstakes[1:]+zstakes[:-1])/2.\n",
    "plt.plot(zcenter,ell_SSC,lw=3)\n",
    "plt.xlabel('z',fontsize=20) ; plt.ylabel(r'$\\ell_\\mathrm{SSC}$',fontsize=20)\n",
    "plt.show()"
   ]
  },
  {
   "cell_type": "markdown",
   "metadata": {},
   "source": [
    "so SSC starts to dominate for multipoles above a few hundred, i.e. sub-degree scale in real space"
   ]
  },
  {
   "cell_type": "markdown",
   "metadata": {},
   "source": [
    "### Example 3: Find the critical density of clusters where SSC/sample variance surpasses shot-noise/Poisson"
   ]
  },
  {
   "cell_type": "code",
   "execution_count": 10,
   "metadata": {},
   "outputs": [],
   "source": [
    "# If Ncl is the cluster count (per steradian), then the shot-noise/Poisson variance is Cov_shot(Ncl)=Ncl/4pi\n",
    "# and the SSC/sample variance is Cov_SSC = b^2 Ncl^2 * Sij\n",
    "# the latter dominates shot-noise when Ncl >= Ncrit = 1./(4pi*b^2*Sij)\n",
    "\n",
    "#Compute Ncrit\n",
    "bcl = 5.                                  # Average cluster bias\n",
    "Ncrit = np.zeros(nzbins)                  # Number density per sterad\n",
    "for i in range(nzbins):\n",
    "    Ncrit[i] = 1./(4.*pi*bcl**2*Sij[i,i])\n",
    "Ncrit_deg2 = Ncrit * (pi/180.)**2         # Number density per deg^2"
   ]
  },
  {
   "cell_type": "code",
   "execution_count": 11,
   "metadata": {},
   "outputs": [
    {
     "data": {
      "image/png": "[encoded data removed]",
      "text/plain": [
       "<Figure size 432x288 with 1 Axes>"
      ]
     },
     "metadata": {
      "needs_background": "light"
     },
     "output_type": "display_data"
    }
   ],
   "source": [
    "# Plot it as a function of redshift\n",
    "plt.plot(zcenter,Ncrit_deg2,lw=3)\n",
    "plt.xlabel('z',fontsize=20) ; plt.ylabel(r'$N_\\mathrm{crit}$ [deg$^{-2}$]',fontsize=20)\n",
    "#plt.savefig(\"Ncrit-halos-vs-z.png\",bbox_inches='tight')\n",
    "plt.show()"
   ]
  },
  {
   "cell_type": "markdown",
   "metadata": {},
   "source": [
    "so SSC dominates when we detect more than a few clusters per square degree"
   ]
  }
 ],
 "metadata": {
  "kernelspec": {
   "display_name": "Python 3",
   "language": "python",
   "name": "python3"
  },
  "language_info": {
   "codemirror_mode": {
    "name": "ipython",
    "version": 3
   },
   "file_extension": ".py",
   "mimetype": "text/x-python",
   "name": "python",
   "nbconvert_exporter": "python",
   "pygments_lexer": "ipython3",
   "version": "3.8.10"
  }
 },
 "nbformat": 4,
 "nbformat_minor": 2
}
