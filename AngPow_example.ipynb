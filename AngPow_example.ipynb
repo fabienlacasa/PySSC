{
 "cells": [
  {
   "cell_type": "code",
   "execution_count": 4,
   "metadata": {},
   "outputs": [],
   "source": [
    "import math ; pi=math.pi\n",
    "import numpy as np\n",
    "import matplotlib.pyplot as plt\n",
    "import itertools\n",
    "%matplotlib widget\n",
    "plt.rcParams['mathtext.fontset'] = 'stix'\n",
    "plt.rcParams['font.family'] = 'STIXGeneral'\n",
    "import time\n",
    "import json\n",
    "import imp\n",
    "np.warnings.filterwarnings('ignore')\n",
    "import PySSC\n",
    "import PySSC_AP"
   ]
  },
  {
   "cell_type": "code",
   "execution_count": 5,
   "metadata": {},
   "outputs": [],
   "source": [
    "# If you want to change cosmology, specify the parameters with a dictionnary in the format of CLASS :\n",
    "params = {'omega_b':0.022,'omega_cdm':0.12,'H0':67.,'n_s':0.96,'sigma8':0.81}"
   ]
  },
  {
   "cell_type": "code",
   "execution_count": 6,
   "metadata": {},
   "outputs": [],
   "source": [
    "zstakes = np.linspace(0.2,1.5,num=14)\n",
    "zmin = np.min(zstakes) ; zmax = np.max(zstakes)\n",
    "# we have zmin zmax and 14 intermediates redshifts that define some boundaries"
   ]
  },
  {
   "cell_type": "code",
   "execution_count": 7,
   "metadata": {},
   "outputs": [],
   "source": [
    "# Define redshift range\n",
    "nz       = 500\n",
    "z_arr    = np.linspace(0,2,num=nz+1)[1:] # Redshifts must be > 0"
   ]
  },
  {
   "cell_type": "markdown",
   "metadata": {},
   "source": [
    "# TopHat window"
   ]
  },
  {
   "cell_type": "code",
   "execution_count": 79,
   "metadata": {},
   "outputs": [],
   "source": [
    "nbins_T   = len(zstakes)-1\n",
    "windows_T = np.zeros((nbins_T,nz))\n",
    "for i in range(nbins_T):\n",
    "    zminbin = zstakes[i] ; zmaxbin = zstakes[i+1] ; Dz = zmaxbin-zminbin\n",
    "    for iz in range(nz):\n",
    "        z = z_arr[iz]\n",
    "        if ((z>zminbin) and (z<=zmaxbin)):\n",
    "            windows_T[i,iz] = 1/Dz"
   ]
  },
  {
   "cell_type": "code",
   "execution_count": 92,
   "metadata": {},
   "outputs": [
    {
     "name": "stdout",
     "output_type": "stream",
     "text": [
      "5.249346733093262\n",
      "Using mask map, given as a fits file\n",
      "f_sky = 1.0000\n",
      "lmax = 1\n",
      "63.853458404541016\n"
     ]
    }
   ],
   "source": [
    "imp.reload(PySSC_AP) #if needed\n",
    "\n",
    "start_time = time.time()\n",
    "Sijw_T = PySSC.Sij(z_arr,windows_T)\n",
    "print(time.time() - start_time)\n",
    "start_time = time.time()\n",
    "Sijw_T_AngPow = PySSC_AP.Sij_AngPow(z_arr,windows_T,clmask=None,mask='./masks/full_sky_map.fits',verbose=True)\n",
    "print(time.time() - start_time)"
   ]
  },
  {
   "cell_type": "code",
   "execution_count": 82,
   "metadata": {},
   "outputs": [],
   "source": [
    "def plot_diag(Sij1,Sij2,name1,name2,ylims):\n",
    "    fig, (ax1,ax2) = plt.subplots(2,1, sharex=True, gridspec_kw=dict(height_ratios=[2,1]),figsize=(10,5))\n",
    "    nbins = len(np.diag(Sij1))\n",
    "    ax1.semilogy(np.arange(nbins),np.diag(Sij1),label='%s'%name1)\n",
    "    ax1.plot(np.arange(nbins),np.diag(Sij2),label='%s'%name2)\n",
    "    ax2.set_xlabel('bins')\n",
    "    ax1.set_ylabel('$S_{ii}$')\n",
    "    ax2.set_ylabel('dev in $[\\%]$')\n",
    "    ax1.legend()\n",
    "    ax1.grid(alpha=0.2); ax2.grid(alpha=0.2)\n",
    "    ax2.set_ylim(ylims)\n",
    "    ax2.plot(np.arange(nbins),100*(np.diag(Sij1)/np.diag(Sij2)-1))\n",
    "    ax2.plot(np.arange(nbins),np.zeros(nbins),'r--',color='black',linewidth=0.7)\n",
    "    fig.subplots_adjust(hspace=.0)\n",
    "    fig.show()\n",
    "\n",
    "def plotting_offD(Sij):\n",
    "    cov_vector = []\n",
    "    for j,i in itertools.product(range(Sij.shape[0]),range(Sij.shape[1])):\n",
    "        if i>j:\n",
    "            cov_vector.append(Sij[i,j])\n",
    "    return (np.array(cov_vector));\n",
    "\n",
    "def plot_offdiag(Sij1,Sij2,name1,name2,ylims):\n",
    "    cov_vector1 = plotting_offD(Sij1)\n",
    "    cov_vector2 = plotting_offD(Sij2)\n",
    "    diff = ((Sij1 / Sij2)-1)*100\n",
    "    cov_vector3 = plotting_offD(diff)\n",
    "    fig, (ax1,ax2) = plt.subplots(2,1, sharex=True, gridspec_kw=dict(height_ratios=[2,1]),figsize=(10,5))\n",
    "    ax1.set_ylabel('$S_{ij}$',fontsize=12);ax2.set_ylabel('dev in $[\\%]$',fontsize=11.5)\n",
    "    ax2.set_xlabel('matrix index',fontsize=12)\n",
    "    ax1.semilogy(np.arange(len(cov_vector1)),abs(cov_vector1),linewidth='1',label='%s'%name1)\n",
    "    ax1.semilogy(np.arange(len(cov_vector2)),abs(cov_vector2),'r--',linewidth='0.7',label='%s'%name2)\n",
    "    ax2.plot(np.arange(len(cov_vector3)),cov_vector3,linewidth='1')\n",
    "    ax2.plot(np.arange(len(cov_vector3)),np.zeros(len(cov_vector3)),'r--',color='black',linewidth=0.7)\n",
    "    ax2.set_ylim(ylims)\n",
    "    ax2.fill_between(np.arange(len(cov_vector3)),5,-5,color='silver',alpha=0.5)\n",
    "    ax1.grid(alpha=0.2);    ax2.grid(alpha=0.2)\n",
    "    ax1.legend(fontsize=13,loc=(0.72,0.05))\n",
    "    fig.subplots_adjust(hspace=.0)\n",
    "    fig.show()"
   ]
  },
  {
   "cell_type": "code",
   "execution_count": 83,
   "metadata": {},
   "outputs": [
    {
     "data": {
      "application/vnd.jupyter.widget-view+json": {
       "model_id": "c461004987be43dd99e0d7c71ceba0a9",
       "version_major": 2,
       "version_minor": 0
      },
      "text/plain": [
       "Canvas(toolbar=Toolbar(toolitems=[('Home', 'Reset original view', 'home', 'home'), ('Back', 'Back to previous …"
      ]
     },
     "metadata": {},
     "output_type": "display_data"
    },
    {
     "data": {
      "application/vnd.jupyter.widget-view+json": {
       "model_id": "0cdcd64c8c1f40b4a71e544e0c2ed358",
       "version_major": 2,
       "version_minor": 0
      },
      "text/plain": [
       "Canvas(toolbar=Toolbar(toolitems=[('Home', 'Reset original view', 'home', 'home'), ('Back', 'Back to previous …"
      ]
     },
     "metadata": {},
     "output_type": "display_data"
    }
   ],
   "source": [
    "plot_diag(Sijw_T,Sijw_T_AngPow,'Sijw_T','Sijw_T_AngPow',(-10,10))\n",
    "plot_offdiag(Sijw_T,Sijw_T_AngPow,'Sijw_T','Sijw_T_AngPow',(-50,50))"
   ]
  },
  {
   "cell_type": "markdown",
   "metadata": {},
   "source": [
    "# Gaussian window 1"
   ]
  },
  {
   "cell_type": "code",
   "execution_count": 22,
   "metadata": {},
   "outputs": [
    {
     "data": {
      "application/vnd.jupyter.widget-view+json": {
       "model_id": "88fedc50a47f455086588ab2c7c5a6dc",
       "version_major": 2,
       "version_minor": 0
      },
      "text/plain": [
       "Canvas(toolbar=Toolbar(toolitems=[('Home', 'Reset original view', 'home', 'home'), ('Back', 'Back to previous …"
      ]
     },
     "metadata": {},
     "output_type": "display_data"
    }
   ],
   "source": [
    "sigmaz    = 0.01\n",
    "zcenter_G = [0.4,0.55,0.7,0.85,1.,1.15,1.3,1.45,1.6]\n",
    "nbins_G   = len(zcenter_G)\n",
    "windows_G = np.zeros((nbins_G,nz))\n",
    "for i in range(nbins_G):\n",
    "    windows_G[i,:] = np.exp(-(z_arr-zcenter_G[i])**2/(2*sigmaz**2)) / np.sqrt(2*pi*sigmaz**2)\n",
    "\n",
    "# Plot window functions\n",
    "fig,ax=plt.subplots(1,1)\n",
    "for i in range(nbins_G):\n",
    "    ax.plot(z_arr,windows_G[i,:])\n",
    "ax.set_xlabel('z') ; ax.set_ylabel('$W_i(z)$')\n",
    "fig.show()"
   ]
  },
  {
   "cell_type": "code",
   "execution_count": 23,
   "metadata": {},
   "outputs": [
    {
     "name": "stdout",
     "output_type": "stream",
     "text": [
      "3.8088409900665283\n",
      "Using mask map, given as a fits file\n",
      "f_sky = 1.0000\n",
      "lmax = 1\n",
      "44.787169456481934\n"
     ]
    }
   ],
   "source": [
    "imp.reload(PySSC_AP) #if needed\n",
    "\n",
    "start_time = time.time()\n",
    "Sijw_G = PySSC.Sij(z_arr,windows_G)\n",
    "print(time.time() - start_time)\n",
    "start_time = time.time()\n",
    "Sijw_G_AngPow = PySSC_AP.Sij_AngPow(z_arr,windows_G,clmask=None,mask='./masks/full_sky_map.fits',verbose=True)\n",
    "print(time.time() - start_time)"
   ]
  },
  {
   "cell_type": "code",
   "execution_count": 28,
   "metadata": {},
   "outputs": [
    {
     "data": {
      "application/vnd.jupyter.widget-view+json": {
       "model_id": "6a647256e86e4da4bcc5061fb8cc11eb",
       "version_major": 2,
       "version_minor": 0
      },
      "text/plain": [
       "Canvas(toolbar=Toolbar(toolitems=[('Home', 'Reset original view', 'home', 'home'), ('Back', 'Back to previous …"
      ]
     },
     "metadata": {},
     "output_type": "display_data"
    },
    {
     "data": {
      "application/vnd.jupyter.widget-view+json": {
       "model_id": "6ae172bf93094cf6a27db0bcf37901de",
       "version_major": 2,
       "version_minor": 0
      },
      "text/plain": [
       "Canvas(toolbar=Toolbar(toolitems=[('Home', 'Reset original view', 'home', 'home'), ('Back', 'Back to previous …"
      ]
     },
     "metadata": {},
     "output_type": "display_data"
    }
   ],
   "source": [
    "plot_diag   (Sijw_G,Sijw_G_AngPow,'Sijw_G','Sijw_G_AngPow',(-10,10))\n",
    "plot_offdiag(Sijw_G,Sijw_G_AngPow,'Sijw_G','Sijw_G_AngPow',(-100,100))"
   ]
  },
  {
   "cell_type": "markdown",
   "metadata": {},
   "source": [
    "# Gaussian window 2"
   ]
  },
  {
   "cell_type": "code",
   "execution_count": 29,
   "metadata": {},
   "outputs": [
    {
     "data": {
      "application/vnd.jupyter.widget-view+json": {
       "model_id": "8aba3ffd049649cbad9426e82d4c5367",
       "version_major": 2,
       "version_minor": 0
      },
      "text/plain": [
       "Canvas(toolbar=Toolbar(toolitems=[('Home', 'Reset original view', 'home', 'home'), ('Back', 'Back to previous …"
      ]
     },
     "metadata": {},
     "output_type": "display_data"
    }
   ],
   "source": [
    "sigmaz    = 0.04\n",
    "zcenter_G = [0.4,0.55,0.7,0.85,1.,1.15,1.3,1.45,1.6]\n",
    "nbins_G   = len(zcenter_G)\n",
    "windows_G = np.zeros((nbins_G,nz))\n",
    "for i in range(nbins_G):\n",
    "    windows_G[i,:] = np.exp(-(z_arr-zcenter_G[i])**2/(2*sigmaz**2)) / np.sqrt(2*pi*sigmaz**2)\n",
    "\n",
    "# Plot window functions\n",
    "fig,ax=plt.subplots(1,1)\n",
    "for i in range(nbins_G):\n",
    "    ax.plot(z_arr,windows_G[i,:])\n",
    "ax.set_xlabel('z') ; ax.set_ylabel('$W_i(z)$')\n",
    "fig.show()"
   ]
  },
  {
   "cell_type": "code",
   "execution_count": 30,
   "metadata": {},
   "outputs": [
    {
     "name": "stdout",
     "output_type": "stream",
     "text": [
      "3.956134080886841\n",
      "Using mask map, given as a fits file\n",
      "f_sky = 1.0000\n",
      "lmax = 1\n",
      "48.19994759559631\n"
     ]
    }
   ],
   "source": [
    "imp.reload(PySSC_AP) #if needed\n",
    "\n",
    "start_time = time.time()\n",
    "Sijw_G2 = PySSC.Sij(z_arr,windows_G)\n",
    "print(time.time() - start_time)\n",
    "start_time = time.time()\n",
    "Sijw_G_AngPow2 = PySSC_AP.Sij_AngPow(z_arr,windows_G,clmask=None,mask='./masks/full_sky_map.fits',verbose=True)\n",
    "print(time.time() - start_time)"
   ]
  },
  {
   "cell_type": "code",
   "execution_count": 32,
   "metadata": {},
   "outputs": [
    {
     "data": {
      "application/vnd.jupyter.widget-view+json": {
       "model_id": "8f2f5034b3064196a7ce2c106c919bf6",
       "version_major": 2,
       "version_minor": 0
      },
      "text/plain": [
       "Canvas(toolbar=Toolbar(toolitems=[('Home', 'Reset original view', 'home', 'home'), ('Back', 'Back to previous …"
      ]
     },
     "metadata": {},
     "output_type": "display_data"
    },
    {
     "data": {
      "application/vnd.jupyter.widget-view+json": {
       "model_id": "808161b1f9cd4a94a499f4dee22460ab",
       "version_major": 2,
       "version_minor": 0
      },
      "text/plain": [
       "Canvas(toolbar=Toolbar(toolitems=[('Home', 'Reset original view', 'home', 'home'), ('Back', 'Back to previous …"
      ]
     },
     "metadata": {},
     "output_type": "display_data"
    }
   ],
   "source": [
    "plot_diag   (Sijw_G2,Sijw_G_AngPow2,'Sijw_G2','Sijw_G_AngPow2',(-25,3))\n",
    "plot_offdiag(Sijw_G2,Sijw_G_AngPow2,'Sijw_G2','Sijw_G_AngPow2',(-10,10))"
   ]
  },
  {
   "cell_type": "markdown",
   "metadata": {},
   "source": [
    "# Partial sky, same examples as \"Partsky_examples.ipynb\""
   ]
  },
  {
   "cell_type": "code",
   "execution_count": 36,
   "metadata": {},
   "outputs": [
    {
     "data": {
      "text/plain": [
       "<module 'PySSC' from '/renoir/baratta/software/PySSC/PySSC.py'>"
      ]
     },
     "execution_count": 36,
     "metadata": {},
     "output_type": "execute_result"
    }
   ],
   "source": [
    "imp.reload(PySSC_AP) #if needed\n",
    "imp.reload(PySSC)"
   ]
  },
  {
   "cell_type": "code",
   "execution_count": 37,
   "metadata": {},
   "outputs": [],
   "source": [
    "# Redshift bins\n",
    "zstakes = np.linspace(0.2,1.5,num=14)\n",
    "zmin = np.min(zstakes) ; zmax = np.max(zstakes)\n",
    "# Window function\n",
    "nz       = 500\n",
    "z_arr    = np.linspace(0,2,num=nz+1)[1:] # Redshifts must be > 0\n",
    "nbins_T   = len(zstakes)-1\n",
    "windows_T = np.zeros((nbins_T,nz))\n",
    "for i in range(nbins_T):\n",
    "    zminbin = zstakes[i] ; zmaxbin = zstakes[i+1] ; Dz = zmaxbin-zminbin\n",
    "    for iz in range(nz):\n",
    "        z = z_arr[iz]\n",
    "        if ((z>zminbin) and (z<=zmaxbin)):\n",
    "            windows_T[i,iz] = 1/Dz"
   ]
  },
  {
   "cell_type": "markdown",
   "metadata": {},
   "source": [
    "## Comparison of Sij matrix for full sky and partial sky Sij for full-sky mask"
   ]
  },
  {
   "cell_type": "code",
   "execution_count": 38,
   "metadata": {
    "scrolled": true
   },
   "outputs": [
    {
     "name": "stdout",
     "output_type": "stream",
     "text": [
      "Full sky Sij\n",
      "Partial sky Sij\n",
      "AngPow Sij\n",
      "Using mask map, given as a fits file\n",
      "f_sky = 1.0000\n",
      "lmax = 1\n",
      "Sij full sky took: 42.6 secs, part sky 138.1 secs, AngPow 134.9 secs\n"
     ]
    }
   ],
   "source": [
    "# full sky Sij\n",
    "t0 = time.clock()\n",
    "print('Full sky Sij')\n",
    "Sijw_full = PySSC.Sij(z_arr,windows_T)\n",
    "# partial sky Sij with full-sky mask\n",
    "t1 = time.clock()\n",
    "print('Partial sky Sij')\n",
    "Sijw_part = PySSC.Sij_psky(z_arr,windows_T,clmask=None,mask='./masks/full_sky_map.fits') #long computation\n",
    "t2 = time.clock()\n",
    "print('AngPow Sij')\n",
    "Sijw_AP = PySSC_AP.Sij_AngPow(z_arr,windows_T,clmask=None,mask='./masks/full_sky_map.fits',verbose=True)\n",
    "t3 = time.clock()\n",
    "print('Sij full sky took: %.1f secs, part sky %.1f secs, AngPow %.1f secs' %(t1-t0,t2-t1,t3-t2))"
   ]
  },
  {
   "cell_type": "code",
   "execution_count": 39,
   "metadata": {},
   "outputs": [
    {
     "data": {
      "application/vnd.jupyter.widget-view+json": {
       "model_id": "ed6674a460e14aa48a8d964af5449068",
       "version_major": 2,
       "version_minor": 0
      },
      "text/plain": [
       "Canvas(toolbar=Toolbar(toolitems=[('Home', 'Reset original view', 'home', 'home'), ('Back', 'Back to previous …"
      ]
     },
     "metadata": {},
     "output_type": "display_data"
    }
   ],
   "source": [
    "# Plotting the two matrices\n",
    "fig,axes=plt.subplots(nrows=1,ncols=3,figsize=(8,3.5))\n",
    "im = axes[0].imshow(np.log(abs(Sijw_full)),interpolation='none',cmap='bwr',extent=[zmin,zmax,zmax,zmin],vmin=-20,vmax=-10)\n",
    "im2 = axes[1].imshow(np.log(abs(Sijw_part)),interpolation='none',cmap='bwr',extent=[zmin,zmax,zmax,zmin],vmin=-20,vmax=-10)\n",
    "im3 = axes[2].imshow(np.log(abs(Sijw_AP)),interpolation='none',cmap='bwr',extent=[zmin,zmax,zmax,zmin],vmin=-20,vmax=-10)\n",
    "for ax in axes:\n",
    "    ax.get_xaxis().set_ticks([])\n",
    "    ax.get_yaxis().set_ticks([])\n",
    "axes[0].set_title('Full sky Sij')\n",
    "axes[1].set_title('Partial sky Sij with full sky mask')\n",
    "axes[2].set_title('AngPow Sij with full sky mask')\n",
    "fig.subplots_adjust(left=0.02,bottom=0.08,top=0.9,wspace=0.002)\n",
    "cbar_ax = fig.add_axes([0.9, 0.08, 0.02, 0.87])\n",
    "c_bar=fig.colorbar(im,cax=cbar_ax,fraction=.5)"
   ]
  },
  {
   "cell_type": "code",
   "execution_count": 41,
   "metadata": {},
   "outputs": [
    {
     "data": {
      "application/vnd.jupyter.widget-view+json": {
       "model_id": "0ed53476dd804967992e390dee196e72",
       "version_major": 2,
       "version_minor": 0
      },
      "text/plain": [
       "Canvas(toolbar=Toolbar(toolitems=[('Home', 'Reset original view', 'home', 'home'), ('Back', 'Back to previous …"
      ]
     },
     "metadata": {},
     "output_type": "display_data"
    },
    {
     "data": {
      "application/vnd.jupyter.widget-view+json": {
       "model_id": "af326f1163074dc19c48b20d7f9a9032",
       "version_major": 2,
       "version_minor": 0
      },
      "text/plain": [
       "Canvas(toolbar=Toolbar(toolitems=[('Home', 'Reset original view', 'home', 'home'), ('Back', 'Back to previous …"
      ]
     },
     "metadata": {},
     "output_type": "display_data"
    }
   ],
   "source": [
    "plot_diag   (Sijw_part,Sijw_AP,'Sijw_part','Sijw_AP',(-10,3))\n",
    "plot_offdiag(Sijw_part,Sijw_AP,'Sijw_part','Sijw_AP',(-30,30))"
   ]
  },
  {
   "cell_type": "markdown",
   "metadata": {},
   "source": [
    "## Partial sky Sij for DES mask"
   ]
  },
  {
   "cell_type": "code",
   "execution_count": 42,
   "metadata": {},
   "outputs": [
    {
     "name": "stdout",
     "output_type": "stream",
     "text": [
      "Using mask map, given as a fits file\n",
      "f_sky = 0.1207\n",
      "lmax = 32\n",
      "Computed in 4.2 minutes\n",
      "Using mask map, given as a fits file\n",
      "f_sky = 0.1207\n",
      "lmax = 32\n",
      "Computed in 2.6 minutes\n"
     ]
    }
   ],
   "source": [
    "t0 = time.clock()\n",
    "Sijw_part_DES = PySSC.Sij_psky(z_arr,windows_T,mask='./masks/DES-mask-simple-ring-1024.fits',verbose=True)\n",
    "t1 = time.clock()\n",
    "print('Computed in %.1f minutes' %((t1-t0)/60))\n",
    "t0 = time.clock()\n",
    "Sijw_AngPow_DES = PySSC_AP.Sij_AngPow(z_arr,windows_T,mask='./masks/DES-mask-simple-ring-1024.fits',verbose=True)\n",
    "t1 = time.clock()\n",
    "print('Computed in %.1f minutes' %((t1-t0)/60))"
   ]
  },
  {
   "cell_type": "code",
   "execution_count": 43,
   "metadata": {},
   "outputs": [
    {
     "data": {
      "application/vnd.jupyter.widget-view+json": {
       "model_id": "677a5ce0ab194da09036967bb093c285",
       "version_major": 2,
       "version_minor": 0
      },
      "text/plain": [
       "Canvas(toolbar=Toolbar(toolitems=[('Home', 'Reset original view', 'home', 'home'), ('Back', 'Back to previous …"
      ]
     },
     "metadata": {},
     "output_type": "display_data"
    }
   ],
   "source": [
    "# Plotting the two matrices\n",
    "fig,axes=plt.subplots(nrows=1,ncols=2,figsize=(8,3.5))\n",
    "im = axes[0].imshow(np.log(abs(Sijw_part_DES)),interpolation='none',cmap='bwr',extent=[zmin,zmax,zmax,zmin],vmin=-20,vmax=-10)\n",
    "im2 = axes[1].imshow(np.log(abs(Sijw_AngPow_DES)),interpolation='none',cmap='bwr',extent=[zmin,zmax,zmax,zmin],vmin=-20,vmax=-10)\n",
    "for ax in axes:\n",
    "    ax.get_xaxis().set_ticks([])\n",
    "    ax.get_yaxis().set_ticks([])\n",
    "axes[0].set_title('Sij for DES mask , partsky')\n",
    "axes[1].set_title('Sij for DES mask , AngPow')\n",
    "fig.subplots_adjust(left=0.02,bottom=0.08,top=0.9,wspace=0.002)\n",
    "cbar_ax = fig.add_axes([0.9, 0.08, 0.02, 0.87])\n",
    "c_bar=fig.colorbar(im,cax=cbar_ax,fraction=.5)"
   ]
  },
  {
   "cell_type": "code",
   "execution_count": 48,
   "metadata": {},
   "outputs": [
    {
     "data": {
      "application/vnd.jupyter.widget-view+json": {
       "model_id": "c017d0675ec3482d9f57af99dc7feaf5",
       "version_major": 2,
       "version_minor": 0
      },
      "text/plain": [
       "Canvas(toolbar=Toolbar(toolitems=[('Home', 'Reset original view', 'home', 'home'), ('Back', 'Back to previous …"
      ]
     },
     "metadata": {},
     "output_type": "display_data"
    },
    {
     "data": {
      "application/vnd.jupyter.widget-view+json": {
       "model_id": "ae82c3f0726a49bc8df5b9160ce77717",
       "version_major": 2,
       "version_minor": 0
      },
      "text/plain": [
       "Canvas(toolbar=Toolbar(toolitems=[('Home', 'Reset original view', 'home', 'home'), ('Back', 'Back to previous …"
      ]
     },
     "metadata": {},
     "output_type": "display_data"
    }
   ],
   "source": [
    "plot_diag   (Sijw_part_DES,Sijw_AngPow_DES,'Sijw_part_DES','Sijw_AngPow_DES',(-10,3))\n",
    "plot_offdiag(Sijw_part_DES,Sijw_AngPow_DES,'Sijw_part_DES','Sijw_AngPow_DES',(-30,30))"
   ]
  },
  {
   "cell_type": "markdown",
   "metadata": {},
   "source": [
    "## Partial sky Sij for Euclid mask"
   ]
  },
  {
   "cell_type": "code",
   "execution_count": 84,
   "metadata": {},
   "outputs": [
    {
     "name": "stdout",
     "output_type": "stream",
     "text": [
      "Using mask map, given as a fits file\n",
      "f_sky = 0.3762\n",
      "lmax = 27\n",
      "Computed in 2.4 minutes\n",
      "Using mask map, given as a fits file\n",
      "f_sky = 0.3762\n",
      "lmax = 27\n",
      "Computed in 0.9 minutes\n"
     ]
    }
   ],
   "source": [
    "t0 = time.clock()\n",
    "Sijw_part_Euclid = PySSC.Sij_psky(z_arr,windows_T,mask='./masks/Euclid_map_WIDE_SURVEY.fits',verbose=True)\n",
    "t1 = time.clock()\n",
    "print('Computed in %.1f minutes' %((t1-t0)/60))\n",
    "t0 = time.clock()\n",
    "Sijw_AngPow_Euclid = PySSC_AP.Sij_AngPow(z_arr,windows_T,mask='./masks/Euclid_map_WIDE_SURVEY.fits',verbose=True)\n",
    "t1 = time.clock()\n",
    "print('Computed in %.1f minutes' %((t1-t0)/60))"
   ]
  },
  {
   "cell_type": "code",
   "execution_count": 85,
   "metadata": {},
   "outputs": [
    {
     "data": {
      "application/vnd.jupyter.widget-view+json": {
       "model_id": "73ad8b56760442768a9e579dcd079ce8",
       "version_major": 2,
       "version_minor": 0
      },
      "text/plain": [
       "Canvas(toolbar=Toolbar(toolitems=[('Home', 'Reset original view', 'home', 'home'), ('Back', 'Back to previous …"
      ]
     },
     "metadata": {},
     "output_type": "display_data"
    }
   ],
   "source": [
    "# Plotting the two matrices\n",
    "fig,axes=plt.subplots(nrows=1,ncols=2,figsize=(8,3.5))\n",
    "im = axes[0].imshow(np.log(abs(Sijw_part_Euclid)),interpolation='none',cmap='bwr',extent=[zmin,zmax,zmax,zmin],vmin=-20,vmax=-10)\n",
    "im2 = axes[1].imshow(np.log(abs(Sijw_AngPow_Euclid)),interpolation='none',cmap='bwr',extent=[zmin,zmax,zmax,zmin],vmin=-20,vmax=-10)\n",
    "for ax in axes:\n",
    "    ax.get_xaxis().set_ticks([])\n",
    "    ax.get_yaxis().set_ticks([])\n",
    "axes[0].set_title('Sij for Euclid mask , partsky')\n",
    "axes[1].set_title('Sij for Euclid mask , AngPow')\n",
    "fig.subplots_adjust(left=0.02,bottom=0.08,top=0.9,wspace=0.002)\n",
    "cbar_ax = fig.add_axes([0.9, 0.08, 0.02, 0.87])\n",
    "c_bar=fig.colorbar(im,cax=cbar_ax,fraction=.5)"
   ]
  },
  {
   "cell_type": "code",
   "execution_count": 86,
   "metadata": {},
   "outputs": [
    {
     "data": {
      "application/vnd.jupyter.widget-view+json": {
       "model_id": "7be9a75d9f924a4fab88d49766c550f9",
       "version_major": 2,
       "version_minor": 0
      },
      "text/plain": [
       "Canvas(toolbar=Toolbar(toolitems=[('Home', 'Reset original view', 'home', 'home'), ('Back', 'Back to previous …"
      ]
     },
     "metadata": {},
     "output_type": "display_data"
    },
    {
     "data": {
      "application/vnd.jupyter.widget-view+json": {
       "model_id": "53f6ead3be1d434d906bc574e0c1c61d",
       "version_major": 2,
       "version_minor": 0
      },
      "text/plain": [
       "Canvas(toolbar=Toolbar(toolitems=[('Home', 'Reset original view', 'home', 'home'), ('Back', 'Back to previous …"
      ]
     },
     "metadata": {},
     "output_type": "display_data"
    }
   ],
   "source": [
    "plot_diag   (Sijw_part_Euclid,Sijw_AngPow_Euclid,'Sijw_part_Euclid','Sijw_AngPow_Euclid',(-10,3))\n",
    "plot_offdiag(Sijw_part_Euclid,Sijw_AngPow_Euclid,'Sijw_part_Euclid','Sijw_AngPow_Euclid',(-30,30))"
   ]
  },
  {
   "cell_type": "markdown",
   "metadata": {},
   "source": [
    "## Partial sky Sij for 5 degrees patch"
   ]
  },
  {
   "cell_type": "code",
   "execution_count": 87,
   "metadata": {},
   "outputs": [
    {
     "name": "stdout",
     "output_type": "stream",
     "text": [
      "Using mask map, given as a fits file\n",
      "f_sky = 0.0019\n",
      "lmax = 136\n",
      "Computed in 10.3 minutes\n",
      "Using mask map, given as a fits file\n",
      "f_sky = 0.0019\n",
      "lmax = 136\n",
      "Computed in 2.3 minutes\n"
     ]
    }
   ],
   "source": [
    "t0 = time.clock()\n",
    "Sijw_part_5d = PySSC.Sij_psky(z_arr,windows_T,mask='./masks/circular-mask_5deg.fits',verbose=True)\n",
    "t1 = time.clock()\n",
    "print('Computed in %.1f minutes' %((t1-t0)/60))\n",
    "t0 = time.clock()\n",
    "Sijw_AngPow_5d = PySSC_AP.Sij_AngPow(z_arr,windows_T,mask='./masks/circular-mask_5deg.fits',verbose=True)\n",
    "t1 = time.clock()\n",
    "print('Computed in %.1f minutes' %((t1-t0)/60))"
   ]
  },
  {
   "cell_type": "code",
   "execution_count": 88,
   "metadata": {},
   "outputs": [
    {
     "data": {
      "application/vnd.jupyter.widget-view+json": {
       "model_id": "7eee7177fa1f4a5c87e18653da070261",
       "version_major": 2,
       "version_minor": 0
      },
      "text/plain": [
       "Canvas(toolbar=Toolbar(toolitems=[('Home', 'Reset original view', 'home', 'home'), ('Back', 'Back to previous …"
      ]
     },
     "metadata": {},
     "output_type": "display_data"
    }
   ],
   "source": [
    "# Plotting the two matrices\n",
    "fig,axes=plt.subplots(nrows=1,ncols=2,figsize=(8,3.5))\n",
    "im = axes[0].imshow(np.log(abs(Sijw_part_5d)),interpolation='none',cmap='bwr',extent=[zmin,zmax,zmax,zmin],vmin=-20,vmax=-10)\n",
    "im2 = axes[1].imshow(np.log(abs(Sijw_AngPow_5d)),interpolation='none',cmap='bwr',extent=[zmin,zmax,zmax,zmin],vmin=-20,vmax=-10)\n",
    "for ax in axes:\n",
    "    ax.get_xaxis().set_ticks([])\n",
    "    ax.get_yaxis().set_ticks([])\n",
    "axes[0].set_title('Sij for Euclid mask , partsky')\n",
    "axes[1].set_title('Sij for Euclid mask , AngPow')\n",
    "fig.subplots_adjust(left=0.02,bottom=0.08,top=0.9,wspace=0.002)\n",
    "cbar_ax = fig.add_axes([0.9, 0.08, 0.02, 0.87])\n",
    "c_bar=fig.colorbar(im,cax=cbar_ax,fraction=.5)"
   ]
  },
  {
   "cell_type": "code",
   "execution_count": 89,
   "metadata": {},
   "outputs": [
    {
     "data": {
      "application/vnd.jupyter.widget-view+json": {
       "model_id": "49061c740f834e5a8d03e686aaab735a",
       "version_major": 2,
       "version_minor": 0
      },
      "text/plain": [
       "Canvas(toolbar=Toolbar(toolitems=[('Home', 'Reset original view', 'home', 'home'), ('Back', 'Back to previous …"
      ]
     },
     "metadata": {},
     "output_type": "display_data"
    },
    {
     "data": {
      "application/vnd.jupyter.widget-view+json": {
       "model_id": "e1cd382979ba4f15b76bb0a1de67af71",
       "version_major": 2,
       "version_minor": 0
      },
      "text/plain": [
       "Canvas(toolbar=Toolbar(toolitems=[('Home', 'Reset original view', 'home', 'home'), ('Back', 'Back to previous …"
      ]
     },
     "metadata": {},
     "output_type": "display_data"
    }
   ],
   "source": [
    "plot_diag   (Sijw_part_5d,Sijw_AngPow_5d,'Sijw_part_5d','Sijw_AngPow_5d',(-10,3))\n",
    "plot_offdiag(Sijw_part_5d,Sijw_AngPow_5d,'Sijw_part_5d','Sijw_AngPow_5d',(-100,100))"
   ]
  },
  {
   "cell_type": "markdown",
   "metadata": {},
   "source": [
    "# Same but with gaussian window"
   ]
  },
  {
   "cell_type": "code",
   "execution_count": 90,
   "metadata": {},
   "outputs": [],
   "source": [
    "#Top-hat window functions have no interest here, since the cross-spectra would be basically zero\n",
    "#So we go for Gaussian window functions\n",
    "sigmaz    = 0.05\n",
    "zcenter_G = [0.4,0.55,0.7,0.85,1.,1.15,1.3,1.45,1.6]\n",
    "nbins_G   = len(zcenter_G)\n",
    "windows_G = np.zeros((nbins_G,nz))\n",
    "for i in range(nbins_G):\n",
    "    windows_G[i,:] = np.exp(-(z_arr-zcenter_G[i])**2/(2*sigmaz**2)) / np.sqrt(2*pi*sigmaz**2)\n",
    "\n",
    "# Plot window functions\n",
    "for i in range(nbins_G):\n",
    "    plt.plot(z_arr,windows_G[i,:])\n",
    "plt.xlabel('z') ; plt.ylabel('$W_i(z)$')\n",
    "plt.show()"
   ]
  },
  {
   "cell_type": "code",
   "execution_count": 91,
   "metadata": {
    "scrolled": true
   },
   "outputs": [
    {
     "name": "stdout",
     "output_type": "stream",
     "text": [
      "Full sky Sij\n",
      "Partial sky Sij\n",
      "AngPow Sij\n",
      "Using mask map, given as a fits file\n",
      "f_sky = 1.0000\n",
      "lmax = 1\n",
      "Sij full sky took: 41.2 secs, part sky 132.3 secs, AngPow 142.4 secs\n"
     ]
    }
   ],
   "source": [
    "# full sky Sij\n",
    "t0 = time.clock()\n",
    "print('Full sky Sij')\n",
    "Sijw_fullG = PySSC.Sij(z_arr,windows_G)\n",
    "# partial sky Sij with full-sky mask\n",
    "t1 = time.clock()\n",
    "print('Partial sky Sij')\n",
    "Sijw_partG = PySSC.Sij_psky(z_arr,windows_G,clmask=None,mask='./masks/full_sky_map.fits') #long computation\n",
    "t2 = time.clock()\n",
    "print('AngPow Sij')\n",
    "Sijw_APG = PySSC_AP.Sij_AngPow(z_arr,windows_G,clmask=None,mask='./masks/full_sky_map.fits',verbose=True)\n",
    "t3 = time.clock()\n",
    "print('Sij full sky took: %.1f secs, part sky %.1f secs, AngPow %.1f secs' %(t1-t0,t2-t1,t3-t2))"
   ]
  },
  {
   "cell_type": "code",
   "execution_count": 61,
   "metadata": {},
   "outputs": [
    {
     "data": {
      "application/vnd.jupyter.widget-view+json": {
       "model_id": "f2408cfa254b4a179469f85417a69aeb",
       "version_major": 2,
       "version_minor": 0
      },
      "text/plain": [
       "Canvas(toolbar=Toolbar(toolitems=[('Home', 'Reset original view', 'home', 'home'), ('Back', 'Back to previous …"
      ]
     },
     "metadata": {},
     "output_type": "display_data"
    }
   ],
   "source": [
    "# Plotting the two matrices\n",
    "fig,axes=plt.subplots(nrows=1,ncols=3,figsize=(8,3.5))\n",
    "im = axes[0].imshow(np.log(abs(Sijw_fullG)),interpolation='none',cmap='bwr',extent=[zmin,zmax,zmax,zmin],vmin=-20,vmax=-10)\n",
    "im2 = axes[1].imshow(np.log(abs(Sijw_partG)),interpolation='none',cmap='bwr',extent=[zmin,zmax,zmax,zmin],vmin=-20,vmax=-10)\n",
    "im3 = axes[2].imshow(np.log(abs(Sijw_APG)),interpolation='none',cmap='bwr',extent=[zmin,zmax,zmax,zmin],vmin=-20,vmax=-10)\n",
    "for ax in axes:\n",
    "    ax.get_xaxis().set_ticks([])\n",
    "    ax.get_yaxis().set_ticks([])\n",
    "axes[0].set_title('Full sky Sij')\n",
    "axes[1].set_title('Partial sky Sij with full sky mask')\n",
    "axes[2].set_title('AngPow Sij with full sky mask')\n",
    "fig.subplots_adjust(left=0.02,bottom=0.08,top=0.9,wspace=0.002)\n",
    "cbar_ax = fig.add_axes([0.9, 0.08, 0.02, 0.87])\n",
    "c_bar=fig.colorbar(im,cax=cbar_ax,fraction=.5)"
   ]
  },
  {
   "cell_type": "code",
   "execution_count": 64,
   "metadata": {},
   "outputs": [
    {
     "data": {
      "application/vnd.jupyter.widget-view+json": {
       "model_id": "7fedc9071d234839afe5472bd319a99f",
       "version_major": 2,
       "version_minor": 0
      },
      "text/plain": [
       "Canvas(toolbar=Toolbar(toolitems=[('Home', 'Reset original view', 'home', 'home'), ('Back', 'Back to previous …"
      ]
     },
     "metadata": {},
     "output_type": "display_data"
    },
    {
     "data": {
      "application/vnd.jupyter.widget-view+json": {
       "model_id": "5c13a5cb9ae3452d8a80d5d5f46b97f2",
       "version_major": 2,
       "version_minor": 0
      },
      "text/plain": [
       "Canvas(toolbar=Toolbar(toolitems=[('Home', 'Reset original view', 'home', 'home'), ('Back', 'Back to previous …"
      ]
     },
     "metadata": {},
     "output_type": "display_data"
    }
   ],
   "source": [
    "plot_diag   (Sijw_partG,Sijw_APG,'Sijw_partG','Sijw_APG',(-40,3))\n",
    "plot_offdiag(Sijw_partG,Sijw_APG,'Sijw_partG','Sijw_APG',(-10,10))"
   ]
  },
  {
   "cell_type": "markdown",
   "metadata": {},
   "source": [
    "## Partial sky Sij for DES mask"
   ]
  },
  {
   "cell_type": "code",
   "execution_count": 65,
   "metadata": {},
   "outputs": [
    {
     "name": "stdout",
     "output_type": "stream",
     "text": [
      "Using mask map, given as a fits file\n",
      "f_sky = 0.1207\n",
      "lmax = 32\n",
      "Computed in 3.8 minutes\n",
      "Using mask map, given as a fits file\n",
      "f_sky = 0.1207\n",
      "lmax = 32\n",
      "Computed in 2.4 minutes\n"
     ]
    }
   ],
   "source": [
    "t0 = time.clock()\n",
    "Sijw_part_DESG = PySSC.Sij_psky(z_arr,windows_G,mask='./masks/DES-mask-simple-ring-1024.fits',verbose=True)\n",
    "t1 = time.clock()\n",
    "print('Computed in %.1f minutes' %((t1-t0)/60))\n",
    "t0 = time.clock()\n",
    "Sijw_AngPow_DESG = PySSC_AP.Sij_AngPow(z_arr,windows_G,mask='./masks/DES-mask-simple-ring-1024.fits',verbose=True)\n",
    "t1 = time.clock()\n",
    "print('Computed in %.1f minutes' %((t1-t0)/60))"
   ]
  },
  {
   "cell_type": "code",
   "execution_count": 66,
   "metadata": {},
   "outputs": [
    {
     "data": {
      "application/vnd.jupyter.widget-view+json": {
       "model_id": "d02e465e6a314241b8f13edb664160d0",
       "version_major": 2,
       "version_minor": 0
      },
      "text/plain": [
       "Canvas(toolbar=Toolbar(toolitems=[('Home', 'Reset original view', 'home', 'home'), ('Back', 'Back to previous …"
      ]
     },
     "metadata": {},
     "output_type": "display_data"
    }
   ],
   "source": [
    "# Plotting the two matrices\n",
    "fig,axes=plt.subplots(nrows=1,ncols=2,figsize=(8,3.5))\n",
    "im = axes[0].imshow(np.log(abs(Sijw_part_DESG)),interpolation='none',cmap='bwr',extent=[zmin,zmax,zmax,zmin],vmin=-20,vmax=-10)\n",
    "im2 = axes[1].imshow(np.log(abs(Sijw_AngPow_DESG)),interpolation='none',cmap='bwr',extent=[zmin,zmax,zmax,zmin],vmin=-20,vmax=-10)\n",
    "for ax in axes:\n",
    "    ax.get_xaxis().set_ticks([])\n",
    "    ax.get_yaxis().set_ticks([])\n",
    "axes[0].set_title('Sij for DES mask , partsky')\n",
    "axes[1].set_title('Sij for DES mask , AngPow')\n",
    "fig.subplots_adjust(left=0.02,bottom=0.08,top=0.9,wspace=0.002)\n",
    "cbar_ax = fig.add_axes([0.9, 0.08, 0.02, 0.87])\n",
    "c_bar=fig.colorbar(im,cax=cbar_ax,fraction=.5)"
   ]
  },
  {
   "cell_type": "code",
   "execution_count": 67,
   "metadata": {},
   "outputs": [
    {
     "data": {
      "application/vnd.jupyter.widget-view+json": {
       "model_id": "ce4105977e8b4147bbb60c95bcb831b1",
       "version_major": 2,
       "version_minor": 0
      },
      "text/plain": [
       "Canvas(toolbar=Toolbar(toolitems=[('Home', 'Reset original view', 'home', 'home'), ('Back', 'Back to previous …"
      ]
     },
     "metadata": {},
     "output_type": "display_data"
    },
    {
     "data": {
      "application/vnd.jupyter.widget-view+json": {
       "model_id": "ba7e8993b013449b9ea3877e9fba525c",
       "version_major": 2,
       "version_minor": 0
      },
      "text/plain": [
       "Canvas(toolbar=Toolbar(toolitems=[('Home', 'Reset original view', 'home', 'home'), ('Back', 'Back to previous …"
      ]
     },
     "metadata": {},
     "output_type": "display_data"
    }
   ],
   "source": [
    "plot_diag   (Sijw_part_DESG,Sijw_AngPow_DESG,'Sijw_part_DESG','Sijw_AngPow_DESG',(-40,3))\n",
    "plot_offdiag(Sijw_part_DESG,Sijw_AngPow_DESG,'Sijw_part_DESG','Sijw_AngPow_DESG',(-10,10))"
   ]
  },
  {
   "cell_type": "markdown",
   "metadata": {},
   "source": [
    "## Partial sky Sij for Euclid mask"
   ]
  },
  {
   "cell_type": "code",
   "execution_count": 68,
   "metadata": {},
   "outputs": [
    {
     "name": "stdout",
     "output_type": "stream",
     "text": [
      "Using mask map, given as a fits file\n",
      "f_sky = 0.3762\n",
      "lmax = 27\n",
      "Computed in 1.9 minutes\n",
      "Using mask map, given as a fits file\n",
      "f_sky = 0.3762\n",
      "lmax = 27\n",
      "Computed in 0.9 minutes\n"
     ]
    }
   ],
   "source": [
    "t0 = time.clock()\n",
    "Sijw_part_EuclidG = PySSC.Sij_psky(z_arr,windows_G,mask='./masks/Euclid_map_WIDE_SURVEY.fits',verbose=True)\n",
    "t1 = time.clock()\n",
    "print('Computed in %.1f minutes' %((t1-t0)/60))\n",
    "t0 = time.clock()\n",
    "Sijw_AngPow_EuclidG = PySSC_AP.Sij_AngPow(z_arr,windows_G,mask='./masks/Euclid_map_WIDE_SURVEY.fits',verbose=True)\n",
    "t1 = time.clock()\n",
    "print('Computed in %.1f minutes' %((t1-t0)/60))"
   ]
  },
  {
   "cell_type": "code",
   "execution_count": 69,
   "metadata": {},
   "outputs": [
    {
     "data": {
      "application/vnd.jupyter.widget-view+json": {
       "model_id": "ab29d4b992d44e10a4e1b40b01dce394",
       "version_major": 2,
       "version_minor": 0
      },
      "text/plain": [
       "Canvas(toolbar=Toolbar(toolitems=[('Home', 'Reset original view', 'home', 'home'), ('Back', 'Back to previous …"
      ]
     },
     "metadata": {},
     "output_type": "display_data"
    }
   ],
   "source": [
    "# Plotting the two matrices\n",
    "fig,axes=plt.subplots(nrows=1,ncols=2,figsize=(8,3.5))\n",
    "im = axes[0].imshow(np.log(abs(Sijw_part_EuclidG)),interpolation='none',cmap='bwr',extent=[zmin,zmax,zmax,zmin],vmin=-20,vmax=-10)\n",
    "im2 = axes[1].imshow(np.log(abs(Sijw_AngPow_EuclidG)),interpolation='none',cmap='bwr',extent=[zmin,zmax,zmax,zmin],vmin=-20,vmax=-10)\n",
    "for ax in axes:\n",
    "    ax.get_xaxis().set_ticks([])\n",
    "    ax.get_yaxis().set_ticks([])\n",
    "axes[0].set_title('Sij for Euclid mask , partsky')\n",
    "axes[1].set_title('Sij for Euclid mask , AngPow')\n",
    "fig.subplots_adjust(left=0.02,bottom=0.08,top=0.9,wspace=0.002)\n",
    "cbar_ax = fig.add_axes([0.9, 0.08, 0.02, 0.87])\n",
    "c_bar=fig.colorbar(im,cax=cbar_ax,fraction=.5)"
   ]
  },
  {
   "cell_type": "code",
   "execution_count": 71,
   "metadata": {},
   "outputs": [
    {
     "data": {
      "application/vnd.jupyter.widget-view+json": {
       "model_id": "e12c7f6b9ca64dbc84a677e58bad0d7a",
       "version_major": 2,
       "version_minor": 0
      },
      "text/plain": [
       "Canvas(toolbar=Toolbar(toolitems=[('Home', 'Reset original view', 'home', 'home'), ('Back', 'Back to previous …"
      ]
     },
     "metadata": {},
     "output_type": "display_data"
    },
    {
     "data": {
      "application/vnd.jupyter.widget-view+json": {
       "model_id": "63711e7efce742c1af6b90cf2fa482fc",
       "version_major": 2,
       "version_minor": 0
      },
      "text/plain": [
       "Canvas(toolbar=Toolbar(toolitems=[('Home', 'Reset original view', 'home', 'home'), ('Back', 'Back to previous …"
      ]
     },
     "metadata": {},
     "output_type": "display_data"
    }
   ],
   "source": [
    "plot_diag   (Sijw_part_EuclidG,Sijw_AngPow_EuclidG,'Sijw_part_EuclidG','Sijw_AngPow_EuclidG',(-40,3))\n",
    "plot_offdiag(Sijw_part_EuclidG,Sijw_AngPow_EuclidG,'Sijw_part_EuclidG','Sijw_AngPow_EuclidG',(-10,10))"
   ]
  },
  {
   "cell_type": "markdown",
   "metadata": {},
   "source": [
    "## Partial sky Sij for 5 degrees patch"
   ]
  },
  {
   "cell_type": "code",
   "execution_count": 74,
   "metadata": {},
   "outputs": [
    {
     "name": "stdout",
     "output_type": "stream",
     "text": [
      "Computed in 0.0 minutes\n",
      "Using mask map, given as a fits file\n",
      "f_sky = 0.0019\n",
      "lmax = 136\n",
      "Computed in 2.5 minutes\n"
     ]
    }
   ],
   "source": [
    "t0 = time.clock()\n",
    "Sijw_part_5dG = PySSC.Sij_psky(z_arr,windows_G,mask='./masks/circular-mask_5deg.fits',verbose=True)\n",
    "t1 = time.clock()\n",
    "print('Computed in %.1f minutes' %((t1-t0)/60))\n",
    "t0 = time.clock()\n",
    "Sijw_AngPow_5dG = PySSC_AP.Sij_AngPow(z_arr,windows_G,mask='./masks/circular-mask_5deg.fits',verbose=True)\n",
    "t1 = time.clock()\n",
    "print('Computed in %.1f minutes' %((t1-t0)/60))"
   ]
  },
  {
   "cell_type": "code",
   "execution_count": 75,
   "metadata": {},
   "outputs": [
    {
     "data": {
      "application/vnd.jupyter.widget-view+json": {
       "model_id": "4ab3f9608a2d468bb9709133eb332c7b",
       "version_major": 2,
       "version_minor": 0
      },
      "text/plain": [
       "Canvas(toolbar=Toolbar(toolitems=[('Home', 'Reset original view', 'home', 'home'), ('Back', 'Back to previous …"
      ]
     },
     "metadata": {},
     "output_type": "display_data"
    }
   ],
   "source": [
    "# Plotting the two matrices\n",
    "fig,axes=plt.subplots(nrows=1,ncols=2,figsize=(8,3.5))\n",
    "im = axes[0].imshow(np.log(abs(Sijw_part_5dG)),interpolation='none',cmap='bwr',extent=[zmin,zmax,zmax,zmin],vmin=-20,vmax=-10)\n",
    "im2 = axes[1].imshow(np.log(abs(Sijw_AngPow_5dG)),interpolation='none',cmap='bwr',extent=[zmin,zmax,zmax,zmin],vmin=-20,vmax=-10)\n",
    "for ax in axes:\n",
    "    ax.get_xaxis().set_ticks([])\n",
    "    ax.get_yaxis().set_ticks([])\n",
    "axes[0].set_title('Sij for Euclid mask , partsky')\n",
    "axes[1].set_title('Sij for Euclid mask , AngPow')\n",
    "fig.subplots_adjust(left=0.02,bottom=0.08,top=0.9,wspace=0.002)\n",
    "cbar_ax = fig.add_axes([0.9, 0.08, 0.02, 0.87])\n",
    "c_bar=fig.colorbar(im,cax=cbar_ax,fraction=.5)"
   ]
  },
  {
   "cell_type": "code",
   "execution_count": 77,
   "metadata": {},
   "outputs": [
    {
     "data": {
      "application/vnd.jupyter.widget-view+json": {
       "model_id": "1c080be40095445ca26d83cf6d84834d",
       "version_major": 2,
       "version_minor": 0
      },
      "text/plain": [
       "Canvas(toolbar=Toolbar(toolitems=[('Home', 'Reset original view', 'home', 'home'), ('Back', 'Back to previous …"
      ]
     },
     "metadata": {},
     "output_type": "display_data"
    },
    {
     "data": {
      "application/vnd.jupyter.widget-view+json": {
       "model_id": "86c70a90c45146e092bd5f2ecd360645",
       "version_major": 2,
       "version_minor": 0
      },
      "text/plain": [
       "Canvas(toolbar=Toolbar(toolitems=[('Home', 'Reset original view', 'home', 'home'), ('Back', 'Back to previous …"
      ]
     },
     "metadata": {},
     "output_type": "display_data"
    }
   ],
   "source": [
    "plot_diag   (Sijw_part_5dG,Sijw_AngPow_5dG,'Sijw_part_5dG','Sijw_AngPow_5dG',(-40,3))\n",
    "plot_offdiag(Sijw_part_5dG,Sijw_AngPow_5dG,'Sijw_part_5dG','Sijw_AngPow_5dG',(-50,50))"
   ]
  },
  {
   "cell_type": "code",
   "execution_count": null,
   "metadata": {},
   "outputs": [],
   "source": []
  }
 ],
 "metadata": {
  "kernelspec": {
   "display_name": "Python 3",
   "language": "python",
   "name": "python3"
  },
  "language_info": {
   "codemirror_mode": {
    "name": "ipython",
    "version": 3
   },
   "file_extension": ".py",
   "mimetype": "text/x-python",
   "name": "python",
   "nbconvert_exporter": "python",
   "pygments_lexer": "ipython3",
   "version": "3.7.4"
  }
 },
 "nbformat": 4,
 "nbformat_minor": 4
}
