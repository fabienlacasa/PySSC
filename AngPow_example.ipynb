{
 "cells": [
  {
   "cell_type": "code",
   "execution_count": 396,
   "metadata": {},
   "outputs": [],
   "source": [
    "import math ; pi=math.pi\n",
    "import numpy as np\n",
    "import matplotlib.pyplot as plt\n",
    "import itertools\n",
    "%matplotlib widget\n",
    "plt.rcParams['mathtext.fontset'] = 'stix'\n",
    "plt.rcParams['font.family'] = 'STIXGeneral'\n",
    "import time\n",
    "import json\n",
    "import imp\n",
    "np.warnings.filterwarnings('ignore')\n",
    "import PySSC\n",
    "import PySSC_AP"
   ]
  },
  {
   "cell_type": "code",
   "execution_count": 397,
   "metadata": {},
   "outputs": [],
   "source": [
    "def plot_diag(Sij1,Sij2,name1,name2,ylims):\n",
    "    fig, (ax1,ax2) = plt.subplots(2,1, sharex=True, gridspec_kw=dict(height_ratios=[2,1]),figsize=(10,5))\n",
    "    nbins = len(np.diag(Sij1))\n",
    "    ax1.semilogy(np.arange(nbins),np.diag(Sij1),label='%s'%name1)\n",
    "    ax1.plot(np.arange(nbins),np.diag(Sij2),label='%s'%name2)\n",
    "    ax2.set_xlabel('bins')\n",
    "    ax1.set_ylabel('$S_{ii}$')\n",
    "    ax2.set_ylabel('dev in $[\\%]$')\n",
    "    ax1.legend()\n",
    "    ax1.grid(alpha=0.2); ax2.grid(alpha=0.2)\n",
    "    ax2.set_ylim(ylims)\n",
    "    ax2.plot(np.arange(nbins),100*(np.diag(Sij1)/np.diag(Sij2)-1),'.')\n",
    "    ax2.plot(np.arange(nbins),np.zeros(nbins),'r--',color='black',linewidth=0.7)\n",
    "    fig.subplots_adjust(hspace=.0)\n",
    "    fig.show()\n",
    "\n",
    "def plotting_offD(Sij):\n",
    "    cov_vector = []\n",
    "    for j,i in itertools.product(range(Sij.shape[0]),range(Sij.shape[1])):\n",
    "        if i>=j:\n",
    "            cov_vector.append(Sij[i,j])\n",
    "    return (np.array(cov_vector));\n",
    "\n",
    "def plot_offdiag(Sij1,Sij2,name1,name2,ylims):\n",
    "    cov_vector1 = plotting_offD(Sij1)\n",
    "    cov_vector2 = plotting_offD(Sij2)\n",
    "    diff = ((Sij1 / Sij2)-1)*100\n",
    "    cov_vector3 = plotting_offD(diff)\n",
    "    fig, (ax1,ax2) = plt.subplots(2,1, sharex=True, gridspec_kw=dict(height_ratios=[2,1]),figsize=(10,5))\n",
    "    ax1.set_ylabel('$S_{ij}$',fontsize=12);ax2.set_ylabel('dev in $[\\%]$',fontsize=11.5)\n",
    "    ax2.set_xlabel('matrix index',fontsize=12)\n",
    "    ax1.semilogy(np.arange(len(cov_vector1)),abs(cov_vector1),linewidth='1',label='%s'%name1)\n",
    "    ax1.semilogy(np.arange(len(cov_vector2)),abs(cov_vector2),'r--',linewidth='0.7',label='%s'%name2)\n",
    "    ax2.plot(np.arange(len(cov_vector3)),cov_vector3,'.')\n",
    "    ax2.plot(np.arange(len(cov_vector3)),np.zeros(len(cov_vector3)),'r--',color='black',linewidth=0.7)\n",
    "    ax2.set_ylim(ylims)\n",
    "    ax2.fill_between(np.arange(len(cov_vector3)),5,-5,color='silver',alpha=0.5)\n",
    "    ax1.grid(alpha=0.2);    ax2.grid(alpha=0.2)\n",
    "    ax1.legend(fontsize=13,loc=(0.72,0.05))\n",
    "    fig.subplots_adjust(hspace=.0)\n",
    "    fig.show()"
   ]
  },
  {
   "cell_type": "code",
   "execution_count": 398,
   "metadata": {},
   "outputs": [],
   "source": [
    "# If you want to change cosmology, specify the parameters with a dictionnary in the format of CLASS :\n",
    "params = {'omega_b':0.022,'omega_cdm':0.12,'H0':67.,'n_s':0.96,'sigma8':0.81}"
   ]
  },
  {
   "cell_type": "code",
   "execution_count": 399,
   "metadata": {},
   "outputs": [],
   "source": [
    "zstakes = np.linspace(0.2,1.5,num=14)\n",
    "zmin = np.min(zstakes) ; zmax = np.max(zstakes)\n",
    "# we have zmin zmax and 14 intermediates redshifts that define some boundaries"
   ]
  },
  {
   "cell_type": "code",
   "execution_count": 490,
   "metadata": {},
   "outputs": [],
   "source": [
    "# Define redshift range\n",
    "nz       = 700\n",
    "z_arr    = np.linspace(0,2,num=nz+1)[1:] # Redshifts must be > 0"
   ]
  },
  {
   "cell_type": "markdown",
   "metadata": {},
   "source": [
    "# TopHat window"
   ]
  },
  {
   "cell_type": "code",
   "execution_count": 491,
   "metadata": {},
   "outputs": [],
   "source": [
    "nbins_T   = len(zstakes)-1\n",
    "windows_T = np.zeros((nbins_T,nz))\n",
    "for i in range(nbins_T):\n",
    "    zminbin = zstakes[i] ; zmaxbin = zstakes[i+1] ; Dz = zmaxbin-zminbin\n",
    "    for iz in range(nz):\n",
    "        z = z_arr[iz]\n",
    "        if ((z>zminbin) and (z<=zmaxbin)):\n",
    "            windows_T[i,iz] = 1/Dz"
   ]
  },
  {
   "cell_type": "code",
   "execution_count": 492,
   "metadata": {},
   "outputs": [
    {
     "name": "stdout",
     "output_type": "stream",
     "text": [
      "3.616166353225708\n",
      "59.86253118515015\n"
     ]
    }
   ],
   "source": [
    "imp.reload(PySSC_AP) #if needed\n",
    "\n",
    "start_time = time.time()\n",
    "Sijw_T = PySSC.Sij(z_arr,windows_T)\n",
    "print(time.time() - start_time)\n",
    "start_time = time.time()\n",
    "Sijw_T_AngPow = PySSC_AP.Sij_AngPow_psky(z_arr,windows_T)\n",
    "print(time.time() - start_time)"
   ]
  },
  {
   "cell_type": "code",
   "execution_count": 493,
   "metadata": {},
   "outputs": [
    {
     "data": {
      "application/vnd.jupyter.widget-view+json": {
       "model_id": "421f77148191401292654a8bdb26ff88",
       "version_major": 2,
       "version_minor": 0
      },
      "text/plain": [
       "Canvas(toolbar=Toolbar(toolitems=[('Home', 'Reset original view', 'home', 'home'), ('Back', 'Back to previous …"
      ]
     },
     "metadata": {},
     "output_type": "display_data"
    },
    {
     "data": {
      "application/vnd.jupyter.widget-view+json": {
       "model_id": "b92815a7b00b41a18da375936e5b5fd8",
       "version_major": 2,
       "version_minor": 0
      },
      "text/plain": [
       "Canvas(toolbar=Toolbar(toolitems=[('Home', 'Reset original view', 'home', 'home'), ('Back', 'Back to previous …"
      ]
     },
     "metadata": {},
     "output_type": "display_data"
    }
   ],
   "source": [
    "plot_diag(Sijw_T,Sijw_T_AngPow,'Sijw_T','Sijw_T_AngPow',(-10,10))\n",
    "plot_offdiag(Sijw_T,Sijw_T_AngPow,'Sijw_T','Sijw_T_AngPow',(-50,50))"
   ]
  },
  {
   "cell_type": "markdown",
   "metadata": {},
   "source": [
    "# Gaussian window 1"
   ]
  },
  {
   "cell_type": "code",
   "execution_count": 494,
   "metadata": {},
   "outputs": [
    {
     "data": {
      "application/vnd.jupyter.widget-view+json": {
       "model_id": "5b41df664c454fad909db09c116382b9",
       "version_major": 2,
       "version_minor": 0
      },
      "text/plain": [
       "Canvas(toolbar=Toolbar(toolitems=[('Home', 'Reset original view', 'home', 'home'), ('Back', 'Back to previous …"
      ]
     },
     "metadata": {},
     "output_type": "display_data"
    }
   ],
   "source": [
    "sigmaz    = 0.01\n",
    "zcenter_G = [0.4,0.55,0.7,0.85,1.,1.15,1.3,1.45,1.6]\n",
    "nbins_G   = len(zcenter_G)\n",
    "windows_G = np.zeros((nbins_G,nz))\n",
    "for i in range(nbins_G):\n",
    "    windows_G[i,:] = np.exp(-(z_arr-zcenter_G[i])**2/(2*sigmaz**2)) / np.sqrt(2*pi*sigmaz**2)\n",
    "\n",
    "# Plot window functions\n",
    "fig,ax=plt.subplots(1,1)\n",
    "for i in range(nbins_G):\n",
    "    ax.plot(z_arr,windows_G[i,:])\n",
    "ax.set_xlabel('z') ; ax.set_ylabel('$W_i(z)$')\n",
    "fig.show()"
   ]
  },
  {
   "cell_type": "code",
   "execution_count": 495,
   "metadata": {},
   "outputs": [
    {
     "name": "stdout",
     "output_type": "stream",
     "text": [
      "3.12756609916687\n",
      "33.819353103637695\n"
     ]
    }
   ],
   "source": [
    "imp.reload(PySSC_AP) #if needed\n",
    "imp.reload(PySSC)\n",
    "\n",
    "start_time = time.time()\n",
    "Sijw_G = PySSC.Sij(z_arr,windows_G)\n",
    "print(time.time() - start_time)\n",
    "start_time = time.time()\n",
    "Sijw_G_AngPow = PySSC_AP.Sij_AngPow_psky(z_arr,windows_G)\n",
    "print(time.time() - start_time)"
   ]
  },
  {
   "cell_type": "code",
   "execution_count": 496,
   "metadata": {},
   "outputs": [
    {
     "data": {
      "application/vnd.jupyter.widget-view+json": {
       "model_id": "4df9765b4db34aa4a6719dafad33a6ba",
       "version_major": 2,
       "version_minor": 0
      },
      "text/plain": [
       "Canvas(toolbar=Toolbar(toolitems=[('Home', 'Reset original view', 'home', 'home'), ('Back', 'Back to previous …"
      ]
     },
     "metadata": {},
     "output_type": "display_data"
    },
    {
     "data": {
      "application/vnd.jupyter.widget-view+json": {
       "model_id": "1c5d597bb1d24789a6ea66520cd79de8",
       "version_major": 2,
       "version_minor": 0
      },
      "text/plain": [
       "Canvas(toolbar=Toolbar(toolitems=[('Home', 'Reset original view', 'home', 'home'), ('Back', 'Back to previous …"
      ]
     },
     "metadata": {},
     "output_type": "display_data"
    }
   ],
   "source": [
    "plot_diag   (Sijw_G,Sijw_G_AngPow,'Sijw_G','Sijw_G_AngPow',(-10,10))\n",
    "plot_offdiag(Sijw_G,Sijw_G_AngPow,'Sijw_G','Sijw_G_AngPow',(-100,100))"
   ]
  },
  {
   "cell_type": "markdown",
   "metadata": {},
   "source": [
    "# Gaussian window 2"
   ]
  },
  {
   "cell_type": "code",
   "execution_count": 497,
   "metadata": {},
   "outputs": [
    {
     "data": {
      "application/vnd.jupyter.widget-view+json": {
       "model_id": "69b638486b0146ae855f59be1baabc4b",
       "version_major": 2,
       "version_minor": 0
      },
      "text/plain": [
       "Canvas(toolbar=Toolbar(toolitems=[('Home', 'Reset original view', 'home', 'home'), ('Back', 'Back to previous …"
      ]
     },
     "metadata": {},
     "output_type": "display_data"
    }
   ],
   "source": [
    "sigmaz    = 0.04\n",
    "zcenter_G = [0.4,0.55,0.7,0.85,1.,1.15,1.3,1.45,1.6]\n",
    "nbins_G   = len(zcenter_G)\n",
    "windows_G = np.zeros((nbins_G,nz))\n",
    "for i in range(nbins_G):\n",
    "    windows_G[i,:] = np.exp(-(z_arr-zcenter_G[i])**2/(2*sigmaz**2)) / np.sqrt(2*pi*sigmaz**2)\n",
    "\n",
    "# Plot window functions\n",
    "fig,ax=plt.subplots(1,1)\n",
    "for i in range(nbins_G):\n",
    "    ax.plot(z_arr,windows_G[i,:])\n",
    "ax.set_xlabel('z') ; ax.set_ylabel('$W_i(z)$')\n",
    "fig.show()"
   ]
  },
  {
   "cell_type": "code",
   "execution_count": 498,
   "metadata": {},
   "outputs": [
    {
     "name": "stdout",
     "output_type": "stream",
     "text": [
      "2.9394166469573975\n",
      "30.949292182922363\n"
     ]
    }
   ],
   "source": [
    "imp.reload(PySSC_AP) #if needed\n",
    "imp.reload(PySSC)\n",
    "\n",
    "start_time = time.time()\n",
    "Sijw_G2 = PySSC.Sij(z_arr,windows_G)\n",
    "print(time.time() - start_time)\n",
    "start_time = time.time()\n",
    "Sijw_G_AngPow2 = PySSC_AP.Sij_AngPow_psky(z_arr,windows_G)\n",
    "print(time.time() - start_time)"
   ]
  },
  {
   "cell_type": "code",
   "execution_count": 499,
   "metadata": {},
   "outputs": [
    {
     "data": {
      "application/vnd.jupyter.widget-view+json": {
       "model_id": "3ba92ee6203e4d96b570773adba4aa56",
       "version_major": 2,
       "version_minor": 0
      },
      "text/plain": [
       "Canvas(toolbar=Toolbar(toolitems=[('Home', 'Reset original view', 'home', 'home'), ('Back', 'Back to previous …"
      ]
     },
     "metadata": {},
     "output_type": "display_data"
    },
    {
     "data": {
      "application/vnd.jupyter.widget-view+json": {
       "model_id": "3551db6b5707452a99aec86ebb9ed170",
       "version_major": 2,
       "version_minor": 0
      },
      "text/plain": [
       "Canvas(toolbar=Toolbar(toolitems=[('Home', 'Reset original view', 'home', 'home'), ('Back', 'Back to previous …"
      ]
     },
     "metadata": {},
     "output_type": "display_data"
    }
   ],
   "source": [
    "plot_diag   (Sijw_G2,Sijw_G_AngPow2,'Sijw_G2','Sijw_G_AngPow2',(-20,20))\n",
    "plot_offdiag(Sijw_G2,Sijw_G_AngPow2,'Sijw_G2','Sijw_G_AngPow2',(-20,20))"
   ]
  },
  {
   "cell_type": "markdown",
   "metadata": {},
   "source": [
    "# Partial sky, same examples as \"Partsky_examples.ipynb\""
   ]
  },
  {
   "cell_type": "code",
   "execution_count": 427,
   "metadata": {},
   "outputs": [
    {
     "data": {
      "text/plain": [
       "<module 'PySSC' from '/renoir/baratta/software/PySSC/PySSC.py'>"
      ]
     },
     "execution_count": 427,
     "metadata": {},
     "output_type": "execute_result"
    }
   ],
   "source": [
    "imp.reload(PySSC_AP) #if needed\n",
    "imp.reload(PySSC)"
   ]
  },
  {
   "cell_type": "code",
   "execution_count": 428,
   "metadata": {},
   "outputs": [],
   "source": [
    "# Redshift bins\n",
    "zstakes = np.linspace(0.2,1.5,num=14)\n",
    "zmin = np.min(zstakes) ; zmax = np.max(zstakes)\n",
    "# Window function\n",
    "nz       = 500\n",
    "z_arr    = np.linspace(0,2,num=nz+1)[1:] # Redshifts must be > 0\n",
    "nbins_T   = len(zstakes)-1\n",
    "windows_T = np.zeros((nbins_T,nz))\n",
    "for i in range(nbins_T):\n",
    "    zminbin = zstakes[i] ; zmaxbin = zstakes[i+1] ; Dz = zmaxbin-zminbin\n",
    "    for iz in range(nz):\n",
    "        z = z_arr[iz]\n",
    "        if ((z>zminbin) and (z<=zmaxbin)):\n",
    "            windows_T[i,iz] = 1/Dz"
   ]
  },
  {
   "cell_type": "markdown",
   "metadata": {},
   "source": [
    "## Comparison of Sij matrix for full sky and partial sky Sij for full-sky mask"
   ]
  },
  {
   "cell_type": "code",
   "execution_count": 429,
   "metadata": {
    "scrolled": true
   },
   "outputs": [
    {
     "name": "stdout",
     "output_type": "stream",
     "text": [
      "Full sky Sij\n",
      "Partial sky Sij\n",
      "0.5592684397700074\n",
      "AngPow Sij\n",
      "Using mask map, given as a fits file\n",
      "f_sky = 1.0000\n",
      "lmax = 1\n",
      "Sij full sky took: 17.9 secs, part sky 93.2 secs, AngPow 95.3 secs\n"
     ]
    }
   ],
   "source": [
    "# full sky Sij\n",
    "t0 = time.clock()\n",
    "print('Full sky Sij')\n",
    "Sijw_full = PySSC.Sij(z_arr,windows_T)\n",
    "# partial sky Sij with full-sky mask\n",
    "t1 = time.clock()\n",
    "print('Partial sky Sij')\n",
    "Sijw_part = PySSC.Sij_psky(z_arr,windows_T,clmask=None,mask='./masks/full_sky_map.fits') #long computation\n",
    "t2 = time.clock()\n",
    "print('AngPow Sij')\n",
    "Sijw_AP = PySSC_AP.Sij_AngPow(z_arr,windows_T,clmask=None,mask='./masks/full_sky_map.fits',verbose=True)\n",
    "t3 = time.clock()\n",
    "print('Sij full sky took: %.1f secs, part sky %.1f secs, AngPow %.1f secs' %(t1-t0,t2-t1,t3-t2))"
   ]
  },
  {
   "cell_type": "code",
   "execution_count": 19,
   "metadata": {},
   "outputs": [
    {
     "data": {
      "application/vnd.jupyter.widget-view+json": {
       "model_id": "",
       "version_major": 2,
       "version_minor": 0
      },
      "text/plain": [
       "Canvas(toolbar=Toolbar(toolitems=[('Home', 'Reset original view', 'home', 'home'), ('Back', 'Back to previous …"
      ]
     },
     "metadata": {},
     "output_type": "display_data"
    }
   ],
   "source": [
    "# Plotting the two matrices\n",
    "fig,axes=plt.subplots(nrows=1,ncols=3,figsize=(8,3.5))\n",
    "im = axes[0].imshow(np.log(abs(Sijw_full)),interpolation='none',cmap='bwr',extent=[zmin,zmax,zmax,zmin],vmin=-20,vmax=-10)\n",
    "im2 = axes[1].imshow(np.log(abs(Sijw_part)),interpolation='none',cmap='bwr',extent=[zmin,zmax,zmax,zmin],vmin=-20,vmax=-10)\n",
    "im3 = axes[2].imshow(np.log(abs(Sijw_AP)),interpolation='none',cmap='bwr',extent=[zmin,zmax,zmax,zmin],vmin=-20,vmax=-10)\n",
    "for ax in axes:\n",
    "    ax.get_xaxis().set_ticks([])\n",
    "    ax.get_yaxis().set_ticks([])\n",
    "axes[0].set_title('Full sky Sij')\n",
    "axes[1].set_title('Partial sky Sij with full sky mask')\n",
    "axes[2].set_title('AngPow Sij with full sky mask')\n",
    "fig.subplots_adjust(left=0.02,bottom=0.08,top=0.9,wspace=0.002)\n",
    "cbar_ax = fig.add_axes([0.9, 0.08, 0.02, 0.87])\n",
    "c_bar=fig.colorbar(im,cax=cbar_ax,fraction=.5)"
   ]
  },
  {
   "cell_type": "code",
   "execution_count": 20,
   "metadata": {},
   "outputs": [
    {
     "data": {
      "application/vnd.jupyter.widget-view+json": {
       "model_id": "",
       "version_major": 2,
       "version_minor": 0
      },
      "text/plain": [
       "Canvas(toolbar=Toolbar(toolitems=[('Home', 'Reset original view', 'home', 'home'), ('Back', 'Back to previous …"
      ]
     },
     "metadata": {},
     "output_type": "display_data"
    },
    {
     "data": {
      "application/vnd.jupyter.widget-view+json": {
       "model_id": "",
       "version_major": 2,
       "version_minor": 0
      },
      "text/plain": [
       "Canvas(toolbar=Toolbar(toolitems=[('Home', 'Reset original view', 'home', 'home'), ('Back', 'Back to previous …"
      ]
     },
     "metadata": {},
     "output_type": "display_data"
    }
   ],
   "source": [
    "plot_diag   (Sijw_part,Sijw_AP,'Sijw_part','Sijw_AP',(-10,3))\n",
    "plot_offdiag(Sijw_part,Sijw_AP,'Sijw_part','Sijw_AP',(-30,30))"
   ]
  },
  {
   "cell_type": "markdown",
   "metadata": {},
   "source": [
    "## Partial sky Sij for DES mask"
   ]
  },
  {
   "cell_type": "code",
   "execution_count": 21,
   "metadata": {},
   "outputs": [
    {
     "name": "stdout",
     "output_type": "stream",
     "text": [
      "Using mask map, given as a fits file\n",
      "f_sky = 0.1207\n",
      "lmax = 32\n",
      "0.5592684397700074\n",
      "Computed in 7.6 minutes\n",
      "Using mask map, given as a fits file\n",
      "f_sky = 0.1207\n",
      "lmax = 32\n",
      "Computed in 1.6 minutes\n"
     ]
    }
   ],
   "source": [
    "t0 = time.clock()\n",
    "Sijw_part_DES = PySSC.Sij_psky(z_arr,windows_T,mask='./masks/DES-mask-simple-ring-1024.fits',verbose=True)\n",
    "t1 = time.clock()\n",
    "print('Computed in %.1f minutes' %((t1-t0)/60))\n",
    "t0 = time.clock()\n",
    "Sijw_AngPow_DES = PySSC_AP.Sij_AngPow(z_arr,windows_T,mask='./masks/DES-mask-simple-ring-1024.fits',verbose=True)\n",
    "t1 = time.clock()\n",
    "print('Computed in %.1f minutes' %((t1-t0)/60))"
   ]
  },
  {
   "cell_type": "code",
   "execution_count": 22,
   "metadata": {},
   "outputs": [
    {
     "data": {
      "application/vnd.jupyter.widget-view+json": {
       "model_id": "",
       "version_major": 2,
       "version_minor": 0
      },
      "text/plain": [
       "Canvas(toolbar=Toolbar(toolitems=[('Home', 'Reset original view', 'home', 'home'), ('Back', 'Back to previous …"
      ]
     },
     "metadata": {},
     "output_type": "display_data"
    }
   ],
   "source": [
    "# Plotting the two matrices\n",
    "fig,axes=plt.subplots(nrows=1,ncols=2,figsize=(8,3.5))\n",
    "im = axes[0].imshow(np.log(abs(Sijw_part_DES)),interpolation='none',cmap='bwr',extent=[zmin,zmax,zmax,zmin],vmin=-20,vmax=-10)\n",
    "im2 = axes[1].imshow(np.log(abs(Sijw_AngPow_DES)),interpolation='none',cmap='bwr',extent=[zmin,zmax,zmax,zmin],vmin=-20,vmax=-10)\n",
    "for ax in axes:\n",
    "    ax.get_xaxis().set_ticks([])\n",
    "    ax.get_yaxis().set_ticks([])\n",
    "axes[0].set_title('Sij for DES mask , partsky')\n",
    "axes[1].set_title('Sij for DES mask , AngPow')\n",
    "fig.subplots_adjust(left=0.02,bottom=0.08,top=0.9,wspace=0.002)\n",
    "cbar_ax = fig.add_axes([0.9, 0.08, 0.02, 0.87])\n",
    "c_bar=fig.colorbar(im,cax=cbar_ax,fraction=.5)"
   ]
  },
  {
   "cell_type": "code",
   "execution_count": 23,
   "metadata": {},
   "outputs": [
    {
     "data": {
      "application/vnd.jupyter.widget-view+json": {
       "model_id": "",
       "version_major": 2,
       "version_minor": 0
      },
      "text/plain": [
       "Canvas(toolbar=Toolbar(toolitems=[('Home', 'Reset original view', 'home', 'home'), ('Back', 'Back to previous …"
      ]
     },
     "metadata": {},
     "output_type": "display_data"
    },
    {
     "data": {
      "application/vnd.jupyter.widget-view+json": {
       "model_id": "",
       "version_major": 2,
       "version_minor": 0
      },
      "text/plain": [
       "Canvas(toolbar=Toolbar(toolitems=[('Home', 'Reset original view', 'home', 'home'), ('Back', 'Back to previous …"
      ]
     },
     "metadata": {},
     "output_type": "display_data"
    }
   ],
   "source": [
    "plot_diag   (Sijw_part_DES,Sijw_AngPow_DES,'Sijw_part_DES','Sijw_AngPow_DES',(-10,3))\n",
    "plot_offdiag(Sijw_part_DES,Sijw_AngPow_DES,'Sijw_part_DES','Sijw_AngPow_DES',(-30,30))"
   ]
  },
  {
   "cell_type": "markdown",
   "metadata": {},
   "source": [
    "## Partial sky Sij for Euclid mask"
   ]
  },
  {
   "cell_type": "code",
   "execution_count": 24,
   "metadata": {},
   "outputs": [
    {
     "name": "stdout",
     "output_type": "stream",
     "text": [
      "Using mask map, given as a fits file\n",
      "f_sky = 0.3762\n",
      "lmax = 27\n",
      "0.5592684397700074\n",
      "Computed in 5.5 minutes\n",
      "Using mask map, given as a fits file\n",
      "f_sky = 0.3762\n",
      "lmax = 27\n",
      "Computed in 0.4 minutes\n"
     ]
    }
   ],
   "source": [
    "t0 = time.clock()\n",
    "Sijw_part_Euclid = PySSC.Sij_psky(z_arr,windows_T,mask='./masks/Euclid_map_WIDE_SURVEY.fits',verbose=True)\n",
    "t1 = time.clock()\n",
    "print('Computed in %.1f minutes' %((t1-t0)/60))\n",
    "t0 = time.clock()\n",
    "Sijw_AngPow_Euclid = PySSC_AP.Sij_AngPow(z_arr,windows_T,mask='./masks/Euclid_map_WIDE_SURVEY.fits',verbose=True)\n",
    "t1 = time.clock()\n",
    "print('Computed in %.1f minutes' %((t1-t0)/60))"
   ]
  },
  {
   "cell_type": "code",
   "execution_count": 25,
   "metadata": {},
   "outputs": [
    {
     "data": {
      "application/vnd.jupyter.widget-view+json": {
       "model_id": "",
       "version_major": 2,
       "version_minor": 0
      },
      "text/plain": [
       "Canvas(toolbar=Toolbar(toolitems=[('Home', 'Reset original view', 'home', 'home'), ('Back', 'Back to previous …"
      ]
     },
     "metadata": {},
     "output_type": "display_data"
    }
   ],
   "source": [
    "# Plotting the two matrices\n",
    "fig,axes=plt.subplots(nrows=1,ncols=2,figsize=(8,3.5))\n",
    "im = axes[0].imshow(np.log(abs(Sijw_part_Euclid)),interpolation='none',cmap='bwr',extent=[zmin,zmax,zmax,zmin],vmin=-20,vmax=-10)\n",
    "im2 = axes[1].imshow(np.log(abs(Sijw_AngPow_Euclid)),interpolation='none',cmap='bwr',extent=[zmin,zmax,zmax,zmin],vmin=-20,vmax=-10)\n",
    "for ax in axes:\n",
    "    ax.get_xaxis().set_ticks([])\n",
    "    ax.get_yaxis().set_ticks([])\n",
    "axes[0].set_title('Sij for Euclid mask , partsky')\n",
    "axes[1].set_title('Sij for Euclid mask , AngPow')\n",
    "fig.subplots_adjust(left=0.02,bottom=0.08,top=0.9,wspace=0.002)\n",
    "cbar_ax = fig.add_axes([0.9, 0.08, 0.02, 0.87])\n",
    "c_bar=fig.colorbar(im,cax=cbar_ax,fraction=.5)"
   ]
  },
  {
   "cell_type": "code",
   "execution_count": 26,
   "metadata": {},
   "outputs": [
    {
     "data": {
      "application/vnd.jupyter.widget-view+json": {
       "model_id": "",
       "version_major": 2,
       "version_minor": 0
      },
      "text/plain": [
       "Canvas(toolbar=Toolbar(toolitems=[('Home', 'Reset original view', 'home', 'home'), ('Back', 'Back to previous …"
      ]
     },
     "metadata": {},
     "output_type": "display_data"
    },
    {
     "data": {
      "application/vnd.jupyter.widget-view+json": {
       "model_id": "",
       "version_major": 2,
       "version_minor": 0
      },
      "text/plain": [
       "Canvas(toolbar=Toolbar(toolitems=[('Home', 'Reset original view', 'home', 'home'), ('Back', 'Back to previous …"
      ]
     },
     "metadata": {},
     "output_type": "display_data"
    }
   ],
   "source": [
    "plot_diag   (Sijw_part_Euclid,Sijw_AngPow_Euclid,'Sijw_part_Euclid','Sijw_AngPow_Euclid',(-10,3))\n",
    "plot_offdiag(Sijw_part_Euclid,Sijw_AngPow_Euclid,'Sijw_part_Euclid','Sijw_AngPow_Euclid',(-30,30))"
   ]
  },
  {
   "cell_type": "markdown",
   "metadata": {},
   "source": [
    "## Partial sky Sij for 5 degrees patch"
   ]
  },
  {
   "cell_type": "code",
   "execution_count": 27,
   "metadata": {},
   "outputs": [
    {
     "name": "stdout",
     "output_type": "stream",
     "text": [
      "Using mask map, given as a fits file\n",
      "f_sky = 0.0019\n",
      "lmax = 136\n",
      "0.5592684397700074\n",
      "Computed in 26.7 minutes\n",
      "Using mask map, given as a fits file\n",
      "f_sky = 0.0019\n",
      "lmax = 136\n",
      "Computed in 1.6 minutes\n"
     ]
    }
   ],
   "source": [
    "t0 = time.clock()\n",
    "Sijw_part_5d = PySSC.Sij_psky(z_arr,windows_T,mask='./masks/circular-mask_5deg.fits',verbose=True)\n",
    "t1 = time.clock()\n",
    "print('Computed in %.1f minutes' %((t1-t0)/60))\n",
    "t0 = time.clock()\n",
    "Sijw_AngPow_5d = PySSC_AP.Sij_AngPow(z_arr,windows_T,mask='./masks/circular-mask_5deg.fits',verbose=True)\n",
    "t1 = time.clock()\n",
    "print('Computed in %.1f minutes' %((t1-t0)/60))"
   ]
  },
  {
   "cell_type": "code",
   "execution_count": 28,
   "metadata": {},
   "outputs": [
    {
     "data": {
      "application/vnd.jupyter.widget-view+json": {
       "model_id": "",
       "version_major": 2,
       "version_minor": 0
      },
      "text/plain": [
       "Canvas(toolbar=Toolbar(toolitems=[('Home', 'Reset original view', 'home', 'home'), ('Back', 'Back to previous …"
      ]
     },
     "metadata": {},
     "output_type": "display_data"
    }
   ],
   "source": [
    "# Plotting the two matrices\n",
    "fig,axes=plt.subplots(nrows=1,ncols=2,figsize=(8,3.5))\n",
    "im = axes[0].imshow(np.log(abs(Sijw_part_5d)),interpolation='none',cmap='bwr',extent=[zmin,zmax,zmax,zmin],vmin=-20,vmax=-10)\n",
    "im2 = axes[1].imshow(np.log(abs(Sijw_AngPow_5d)),interpolation='none',cmap='bwr',extent=[zmin,zmax,zmax,zmin],vmin=-20,vmax=-10)\n",
    "for ax in axes:\n",
    "    ax.get_xaxis().set_ticks([])\n",
    "    ax.get_yaxis().set_ticks([])\n",
    "axes[0].set_title('Sij for Euclid mask , partsky')\n",
    "axes[1].set_title('Sij for Euclid mask , AngPow')\n",
    "fig.subplots_adjust(left=0.02,bottom=0.08,top=0.9,wspace=0.002)\n",
    "cbar_ax = fig.add_axes([0.9, 0.08, 0.02, 0.87])\n",
    "c_bar=fig.colorbar(im,cax=cbar_ax,fraction=.5)"
   ]
  },
  {
   "cell_type": "code",
   "execution_count": 29,
   "metadata": {},
   "outputs": [
    {
     "data": {
      "application/vnd.jupyter.widget-view+json": {
       "model_id": "",
       "version_major": 2,
       "version_minor": 0
      },
      "text/plain": [
       "Canvas(toolbar=Toolbar(toolitems=[('Home', 'Reset original view', 'home', 'home'), ('Back', 'Back to previous …"
      ]
     },
     "metadata": {},
     "output_type": "display_data"
    },
    {
     "data": {
      "application/vnd.jupyter.widget-view+json": {
       "model_id": "",
       "version_major": 2,
       "version_minor": 0
      },
      "text/plain": [
       "Canvas(toolbar=Toolbar(toolitems=[('Home', 'Reset original view', 'home', 'home'), ('Back', 'Back to previous …"
      ]
     },
     "metadata": {},
     "output_type": "display_data"
    }
   ],
   "source": [
    "plot_diag   (Sijw_part_5d,Sijw_AngPow_5d,'Sijw_part_5d','Sijw_AngPow_5d',(-10,3))\n",
    "plot_offdiag(Sijw_part_5d,Sijw_AngPow_5d,'Sijw_part_5d','Sijw_AngPow_5d',(-100,100))"
   ]
  },
  {
   "cell_type": "markdown",
   "metadata": {},
   "source": [
    "# Same but with gaussian window"
   ]
  },
  {
   "cell_type": "code",
   "execution_count": 30,
   "metadata": {},
   "outputs": [
    {
     "data": {
      "text/plain": [
       "<module 'PySSC' from '/renoir/baratta/software/PySSC/PySSC.py'>"
      ]
     },
     "execution_count": 30,
     "metadata": {},
     "output_type": "execute_result"
    }
   ],
   "source": [
    "imp.reload(PySSC_AP)\n",
    "imp.reload(PySSC)"
   ]
  },
  {
   "cell_type": "code",
   "execution_count": 31,
   "metadata": {},
   "outputs": [],
   "source": [
    "#Top-hat window functions have no interest here, since the cross-spectra would be basically zero\n",
    "#So we go for Gaussian window functions\n",
    "sigmaz    = 0.05\n",
    "zcenter_G = [0.4,0.55,0.7,0.85,1.,1.15,1.3,1.45,1.6]\n",
    "nbins_G   = len(zcenter_G)\n",
    "windows_G = np.zeros((nbins_G,nz))\n",
    "for i in range(nbins_G):\n",
    "    windows_G[i,:] = np.exp(-(z_arr-zcenter_G[i])**2/(2*sigmaz**2)) / np.sqrt(2*pi*sigmaz**2)\n",
    "\n",
    "# Plot window functions\n",
    "for i in range(nbins_G):\n",
    "    plt.plot(z_arr,windows_G[i,:])\n",
    "plt.xlabel('z') ; plt.ylabel('$W_i(z)$')\n",
    "plt.show()"
   ]
  },
  {
   "cell_type": "code",
   "execution_count": 32,
   "metadata": {
    "scrolled": true
   },
   "outputs": [
    {
     "name": "stdout",
     "output_type": "stream",
     "text": [
      "Full sky Sij\n",
      "Partial sky Sij\n",
      "0.5592684397700074\n",
      "AngPow Sij\n",
      "Using mask map, given as a fits file\n",
      "f_sky = 1.0000\n",
      "lmax = 1\n",
      "Sij full sky took: 18.7 secs, part sky 96.5 secs, AngPow 92.2 secs\n"
     ]
    }
   ],
   "source": [
    "imp.reload(PySSC_AP)\n",
    "imp.reload(PySSC)\n",
    "# full sky Sij\n",
    "t0 = time.clock()\n",
    "print('Full sky Sij')\n",
    "Sijw_fullG = PySSC.Sij(z_arr,windows_G)\n",
    "# partial sky Sij with full-sky mask\n",
    "t1 = time.clock()\n",
    "print('Partial sky Sij')\n",
    "Sijw_partG = PySSC.Sij_psky(z_arr,windows_G,clmask=None,mask='./masks/full_sky_map.fits') #long computation\n",
    "t2 = time.clock()\n",
    "print('AngPow Sij')\n",
    "Sijw_APG = PySSC_AP.Sij_AngPow(z_arr,windows_G,clmask=None,mask='./masks/full_sky_map.fits',verbose=True)\n",
    "t3 = time.clock()\n",
    "print('Sij full sky took: %.1f secs, part sky %.1f secs, AngPow %.1f secs' %(t1-t0,t2-t1,t3-t2))"
   ]
  },
  {
   "cell_type": "code",
   "execution_count": 33,
   "metadata": {},
   "outputs": [
    {
     "data": {
      "application/vnd.jupyter.widget-view+json": {
       "model_id": "",
       "version_major": 2,
       "version_minor": 0
      },
      "text/plain": [
       "Canvas(toolbar=Toolbar(toolitems=[('Home', 'Reset original view', 'home', 'home'), ('Back', 'Back to previous …"
      ]
     },
     "metadata": {},
     "output_type": "display_data"
    }
   ],
   "source": [
    "# Plotting the two matrices\n",
    "fig,axes=plt.subplots(nrows=1,ncols=3,figsize=(8,3.5))\n",
    "im = axes[0].imshow(np.log(abs(Sijw_fullG)),interpolation='none',cmap='bwr',extent=[zmin,zmax,zmax,zmin],vmin=-20,vmax=-10)\n",
    "im2 = axes[1].imshow(np.log(abs(Sijw_partG)),interpolation='none',cmap='bwr',extent=[zmin,zmax,zmax,zmin],vmin=-20,vmax=-10)\n",
    "im3 = axes[2].imshow(np.log(abs(Sijw_APG)),interpolation='none',cmap='bwr',extent=[zmin,zmax,zmax,zmin],vmin=-20,vmax=-10)\n",
    "for ax in axes:\n",
    "    ax.get_xaxis().set_ticks([])\n",
    "    ax.get_yaxis().set_ticks([])\n",
    "axes[0].set_title('Full sky Sij')\n",
    "axes[1].set_title('Partial sky Sij with full sky mask')\n",
    "axes[2].set_title('AngPow Sij with full sky mask')\n",
    "fig.subplots_adjust(left=0.02,bottom=0.08,top=0.9,wspace=0.002)\n",
    "cbar_ax = fig.add_axes([0.9, 0.08, 0.02, 0.87])\n",
    "c_bar=fig.colorbar(im,cax=cbar_ax,fraction=.5)"
   ]
  },
  {
   "cell_type": "code",
   "execution_count": 34,
   "metadata": {},
   "outputs": [
    {
     "data": {
      "application/vnd.jupyter.widget-view+json": {
       "model_id": "",
       "version_major": 2,
       "version_minor": 0
      },
      "text/plain": [
       "Canvas(toolbar=Toolbar(toolitems=[('Home', 'Reset original view', 'home', 'home'), ('Back', 'Back to previous …"
      ]
     },
     "metadata": {},
     "output_type": "display_data"
    },
    {
     "data": {
      "application/vnd.jupyter.widget-view+json": {
       "model_id": "",
       "version_major": 2,
       "version_minor": 0
      },
      "text/plain": [
       "Canvas(toolbar=Toolbar(toolitems=[('Home', 'Reset original view', 'home', 'home'), ('Back', 'Back to previous …"
      ]
     },
     "metadata": {},
     "output_type": "display_data"
    }
   ],
   "source": [
    "plot_diag   (Sijw_partG,Sijw_APG,'Sijw_partG','Sijw_APG',(-10,10))\n",
    "plot_offdiag(Sijw_partG,Sijw_APG,'Sijw_partG','Sijw_APG',(-10,10))"
   ]
  },
  {
   "cell_type": "markdown",
   "metadata": {},
   "source": [
    "## Partial sky Sij for DES mask"
   ]
  },
  {
   "cell_type": "code",
   "execution_count": 35,
   "metadata": {},
   "outputs": [
    {
     "name": "stdout",
     "output_type": "stream",
     "text": [
      "Using mask map, given as a fits file\n",
      "f_sky = 0.1207\n",
      "lmax = 32\n",
      "0.5592684397700074\n",
      "Computed in 6.0 minutes\n",
      "Using mask map, given as a fits file\n",
      "f_sky = 0.1207\n",
      "lmax = 32\n",
      "Computed in 1.6 minutes\n"
     ]
    }
   ],
   "source": [
    "imp.reload(PySSC_AP)\n",
    "t0 = time.clock()\n",
    "Sijw_part_DESG = PySSC.Sij_psky(z_arr,windows_G,mask='./masks/DES-mask-simple-ring-1024.fits',verbose=True)\n",
    "t1 = time.clock()\n",
    "print('Computed in %.1f minutes' %((t1-t0)/60))\n",
    "t0 = time.clock()\n",
    "Sijw_AngPow_DESG = PySSC_AP.Sij_AngPow(z_arr,windows_G,mask='./masks/DES-mask-simple-ring-1024.fits',verbose=True)\n",
    "t1 = time.clock()\n",
    "print('Computed in %.1f minutes' %((t1-t0)/60))"
   ]
  },
  {
   "cell_type": "code",
   "execution_count": 36,
   "metadata": {},
   "outputs": [
    {
     "data": {
      "application/vnd.jupyter.widget-view+json": {
       "model_id": "",
       "version_major": 2,
       "version_minor": 0
      },
      "text/plain": [
       "Canvas(toolbar=Toolbar(toolitems=[('Home', 'Reset original view', 'home', 'home'), ('Back', 'Back to previous …"
      ]
     },
     "metadata": {},
     "output_type": "display_data"
    }
   ],
   "source": [
    "# Plotting the two matrices\n",
    "fig,axes=plt.subplots(nrows=1,ncols=2,figsize=(8,3.5))\n",
    "im = axes[0].imshow(np.log(abs(Sijw_part_DESG)),interpolation='none',cmap='bwr',extent=[zmin,zmax,zmax,zmin],vmin=-20,vmax=-10)\n",
    "im2 = axes[1].imshow(np.log(abs(Sijw_AngPow_DESG)),interpolation='none',cmap='bwr',extent=[zmin,zmax,zmax,zmin],vmin=-20,vmax=-10)\n",
    "for ax in axes:\n",
    "    ax.get_xaxis().set_ticks([])\n",
    "    ax.get_yaxis().set_ticks([])\n",
    "axes[0].set_title('Sij for DES mask , partsky')\n",
    "axes[1].set_title('Sij for DES mask , AngPow')\n",
    "fig.subplots_adjust(left=0.02,bottom=0.08,top=0.9,wspace=0.002)\n",
    "cbar_ax = fig.add_axes([0.9, 0.08, 0.02, 0.87])\n",
    "c_bar=fig.colorbar(im,cax=cbar_ax,fraction=.5)"
   ]
  },
  {
   "cell_type": "code",
   "execution_count": 37,
   "metadata": {},
   "outputs": [
    {
     "data": {
      "application/vnd.jupyter.widget-view+json": {
       "model_id": "",
       "version_major": 2,
       "version_minor": 0
      },
      "text/plain": [
       "Canvas(toolbar=Toolbar(toolitems=[('Home', 'Reset original view', 'home', 'home'), ('Back', 'Back to previous …"
      ]
     },
     "metadata": {},
     "output_type": "display_data"
    },
    {
     "data": {
      "application/vnd.jupyter.widget-view+json": {
       "model_id": "",
       "version_major": 2,
       "version_minor": 0
      },
      "text/plain": [
       "Canvas(toolbar=Toolbar(toolitems=[('Home', 'Reset original view', 'home', 'home'), ('Back', 'Back to previous …"
      ]
     },
     "metadata": {},
     "output_type": "display_data"
    }
   ],
   "source": [
    "plot_diag   (Sijw_part_DESG,Sijw_AngPow_DESG,'Sijw_part_DESG','Sijw_AngPow_DESG',(-10,10))\n",
    "plot_offdiag(Sijw_part_DESG,Sijw_AngPow_DESG,'Sijw_part_DESG','Sijw_AngPow_DESG',(-10,10))"
   ]
  },
  {
   "cell_type": "markdown",
   "metadata": {},
   "source": [
    "## Partial sky Sij for Euclid mask"
   ]
  },
  {
   "cell_type": "code",
   "execution_count": 38,
   "metadata": {},
   "outputs": [
    {
     "name": "stdout",
     "output_type": "stream",
     "text": [
      "Using mask map, given as a fits file\n",
      "f_sky = 0.3762\n",
      "lmax = 27\n",
      "0.5592684397700074\n",
      "Computed in 4.3 minutes\n",
      "Using mask map, given as a fits file\n",
      "f_sky = 0.3762\n",
      "lmax = 27\n",
      "Computed in 0.4 minutes\n"
     ]
    }
   ],
   "source": [
    "t0 = time.clock()\n",
    "Sijw_part_EuclidG = PySSC.Sij_psky(z_arr,windows_G,mask='./masks/Euclid_map_WIDE_SURVEY.fits',verbose=True)\n",
    "t1 = time.clock()\n",
    "print('Computed in %.1f minutes' %((t1-t0)/60))\n",
    "t0 = time.clock()\n",
    "Sijw_AngPow_EuclidG = PySSC_AP.Sij_AngPow(z_arr,windows_G,mask='./masks/Euclid_map_WIDE_SURVEY.fits',verbose=True)\n",
    "t1 = time.clock()\n",
    "print('Computed in %.1f minutes' %((t1-t0)/60))"
   ]
  },
  {
   "cell_type": "code",
   "execution_count": 39,
   "metadata": {},
   "outputs": [
    {
     "data": {
      "application/vnd.jupyter.widget-view+json": {
       "model_id": "",
       "version_major": 2,
       "version_minor": 0
      },
      "text/plain": [
       "Canvas(toolbar=Toolbar(toolitems=[('Home', 'Reset original view', 'home', 'home'), ('Back', 'Back to previous …"
      ]
     },
     "metadata": {},
     "output_type": "display_data"
    }
   ],
   "source": [
    "# Plotting the two matrices\n",
    "fig,axes=plt.subplots(nrows=1,ncols=2,figsize=(8,3.5))\n",
    "im = axes[0].imshow(np.log(abs(Sijw_part_EuclidG)),interpolation='none',cmap='bwr',extent=[zmin,zmax,zmax,zmin],vmin=-20,vmax=-10)\n",
    "im2 = axes[1].imshow(np.log(abs(Sijw_AngPow_EuclidG)),interpolation='none',cmap='bwr',extent=[zmin,zmax,zmax,zmin],vmin=-20,vmax=-10)\n",
    "for ax in axes:\n",
    "    ax.get_xaxis().set_ticks([])\n",
    "    ax.get_yaxis().set_ticks([])\n",
    "axes[0].set_title('Sij for Euclid mask , partsky')\n",
    "axes[1].set_title('Sij for Euclid mask , AngPow')\n",
    "fig.subplots_adjust(left=0.02,bottom=0.08,top=0.9,wspace=0.002)\n",
    "cbar_ax = fig.add_axes([0.9, 0.08, 0.02, 0.87])\n",
    "c_bar=fig.colorbar(im,cax=cbar_ax,fraction=.5)"
   ]
  },
  {
   "cell_type": "code",
   "execution_count": 40,
   "metadata": {},
   "outputs": [
    {
     "data": {
      "application/vnd.jupyter.widget-view+json": {
       "model_id": "",
       "version_major": 2,
       "version_minor": 0
      },
      "text/plain": [
       "Canvas(toolbar=Toolbar(toolitems=[('Home', 'Reset original view', 'home', 'home'), ('Back', 'Back to previous …"
      ]
     },
     "metadata": {},
     "output_type": "display_data"
    },
    {
     "data": {
      "application/vnd.jupyter.widget-view+json": {
       "model_id": "",
       "version_major": 2,
       "version_minor": 0
      },
      "text/plain": [
       "Canvas(toolbar=Toolbar(toolitems=[('Home', 'Reset original view', 'home', 'home'), ('Back', 'Back to previous …"
      ]
     },
     "metadata": {},
     "output_type": "display_data"
    }
   ],
   "source": [
    "plot_diag   (Sijw_part_EuclidG,Sijw_AngPow_EuclidG,'Sijw_part_EuclidG','Sijw_AngPow_EuclidG',(-10,10))\n",
    "plot_offdiag(Sijw_part_EuclidG,Sijw_AngPow_EuclidG,'Sijw_part_EuclidG','Sijw_AngPow_EuclidG',(-10,10))"
   ]
  },
  {
   "cell_type": "markdown",
   "metadata": {},
   "source": [
    "## Partial sky Sij for 5 degrees patch"
   ]
  },
  {
   "cell_type": "code",
   "execution_count": 41,
   "metadata": {},
   "outputs": [
    {
     "name": "stdout",
     "output_type": "stream",
     "text": [
      "Using mask map, given as a fits file\n",
      "f_sky = 0.0019\n",
      "lmax = 136\n",
      "0.5592684397700074\n",
      "Computed in 21.1 minutes\n",
      "Using mask map, given as a fits file\n",
      "f_sky = 0.0019\n",
      "lmax = 136\n",
      "Computed in 1.5 minutes\n"
     ]
    }
   ],
   "source": [
    "t0 = time.clock()\n",
    "Sijw_part_5dG = PySSC.Sij_psky(z_arr,windows_G,mask='./masks/circular-mask_5deg.fits',verbose=True)\n",
    "t1 = time.clock()\n",
    "print('Computed in %.1f minutes' %((t1-t0)/60))\n",
    "t0 = time.clock()\n",
    "Sijw_AngPow_5dG = PySSC_AP.Sij_AngPow(z_arr,windows_G,mask='./masks/circular-mask_5deg.fits',verbose=True)\n",
    "t1 = time.clock()\n",
    "print('Computed in %.1f minutes' %((t1-t0)/60))"
   ]
  },
  {
   "cell_type": "code",
   "execution_count": 42,
   "metadata": {},
   "outputs": [
    {
     "data": {
      "application/vnd.jupyter.widget-view+json": {
       "model_id": "",
       "version_major": 2,
       "version_minor": 0
      },
      "text/plain": [
       "Canvas(toolbar=Toolbar(toolitems=[('Home', 'Reset original view', 'home', 'home'), ('Back', 'Back to previous …"
      ]
     },
     "metadata": {},
     "output_type": "display_data"
    }
   ],
   "source": [
    "# Plotting the two matrices\n",
    "fig,axes=plt.subplots(nrows=1,ncols=2,figsize=(8,3.5))\n",
    "im = axes[0].imshow(np.log(abs(Sijw_part_5dG)),interpolation='none',cmap='bwr',extent=[zmin,zmax,zmax,zmin],vmin=-20,vmax=-10)\n",
    "im2 = axes[1].imshow(np.log(abs(Sijw_AngPow_5dG)),interpolation='none',cmap='bwr',extent=[zmin,zmax,zmax,zmin],vmin=-20,vmax=-10)\n",
    "for ax in axes:\n",
    "    ax.get_xaxis().set_ticks([])\n",
    "    ax.get_yaxis().set_ticks([])\n",
    "axes[0].set_title('Sij for Euclid mask , partsky')\n",
    "axes[1].set_title('Sij for Euclid mask , AngPow')\n",
    "fig.subplots_adjust(left=0.02,bottom=0.08,top=0.9,wspace=0.002)\n",
    "cbar_ax = fig.add_axes([0.9, 0.08, 0.02, 0.87])\n",
    "c_bar=fig.colorbar(im,cax=cbar_ax,fraction=.5)"
   ]
  },
  {
   "cell_type": "code",
   "execution_count": 43,
   "metadata": {},
   "outputs": [
    {
     "data": {
      "application/vnd.jupyter.widget-view+json": {
       "model_id": "",
       "version_major": 2,
       "version_minor": 0
      },
      "text/plain": [
       "Canvas(toolbar=Toolbar(toolitems=[('Home', 'Reset original view', 'home', 'home'), ('Back', 'Back to previous …"
      ]
     },
     "metadata": {},
     "output_type": "display_data"
    },
    {
     "data": {
      "application/vnd.jupyter.widget-view+json": {
       "model_id": "",
       "version_major": 2,
       "version_minor": 0
      },
      "text/plain": [
       "Canvas(toolbar=Toolbar(toolitems=[('Home', 'Reset original view', 'home', 'home'), ('Back', 'Back to previous …"
      ]
     },
     "metadata": {},
     "output_type": "display_data"
    }
   ],
   "source": [
    "plot_diag   (Sijw_part_5dG,Sijw_AngPow_5dG,'Sijw_part_5dG','Sijw_AngPow_5dG',(-10,10))\n",
    "plot_offdiag(Sijw_part_5dG,Sijw_AngPow_5dG,'Sijw_part_5dG','Sijw_AngPow_5dG',(-10,10))"
   ]
  },
  {
   "cell_type": "markdown",
   "metadata": {},
   "source": [
    "# Euclid redshift bins"
   ]
  },
  {
   "cell_type": "code",
   "execution_count": 44,
   "metadata": {},
   "outputs": [],
   "source": [
    "prefix_Euclid='./Euclid_files/'"
   ]
  },
  {
   "cell_type": "markdown",
   "metadata": {},
   "source": [
    "## Photometric bins"
   ]
  },
  {
   "cell_type": "code",
   "execution_count": 45,
   "metadata": {},
   "outputs": [
    {
     "data": {
      "application/vnd.jupyter.widget-view+json": {
       "model_id": "",
       "version_major": 2,
       "version_minor": 0
      },
      "text/plain": [
       "Canvas(toolbar=Toolbar(toolitems=[('Home', 'Reset original view', 'home', 'home'), ('Back', 'Back to previous …"
      ]
     },
     "metadata": {},
     "output_type": "display_data"
    },
    {
     "name": "stdout",
     "output_type": "stream",
     "text": [
      "[0.35   0.5065 0.628  0.737  0.843  0.9525 1.0735 1.217  1.408  1.691 ]\n"
     ]
    }
   ],
   "source": [
    "zarr = np.loadtxt(prefix_Euclid+'n_z_without_1_plus_z.dat',unpack=True,usecols=(0))[100:]\n",
    "window = np.loadtxt(prefix_Euclid+'n_z_without_1_plus_z.dat',unpack=True,usecols=(1,2,3,4,5,6,7,8,9,10))[:,100:]\n",
    "nbins = window.shape[0]\n",
    "zbins = zarr[np.argmax(window,axis=1)]\n",
    "plt.figure()\n",
    "for u,zbin in enumerate(window):\n",
    "\tplt.plot(zarr,zbin,linewidth=2)\n",
    "plt.xlabel(r'$z$',fontsize=20) ; plt.xticks(fontsize=15)\n",
    "plt.ylabel(r'$n(z)$',fontsize=20)\n",
    "# plt.legend(frameon='False',loc='best')\n",
    "plt.xlim([-0.1,3])\n",
    "plt.tight_layout()\n",
    "plt.savefig(prefix_Euclid+'n_z_Euclid_GCphot.png')\n",
    "plt.show()\n",
    "print(zbins)"
   ]
  },
  {
   "cell_type": "code",
   "execution_count": 46,
   "metadata": {},
   "outputs": [
    {
     "name": "stdout",
     "output_type": "stream",
     "text": [
      "Computing partial sky Sijkl for Euclid with PySSC...\n",
      "0.29850746268656714\n",
      "Sij took 15.6 mins\n",
      "Computing partial sky Sijkl for Euclid with AngPow...\n",
      "Sij took 0.5 mins\n"
     ]
    }
   ],
   "source": [
    "imp.reload(PySSC_AP)\n",
    "imp.reload(PySSC)\n",
    "# partial sky Sijkl with Euclid mask\n",
    "t1 = time.clock()\n",
    "print('Computing partial sky Sijkl for Euclid with PySSC...')\n",
    "Sij1_photo_PySSC = PySSC.Sij_psky(zarr,window,clmask=None,mask='./masks/Euclid_map_WIDE_SURVEY.fits') \n",
    "t2 = time.clock()\n",
    "print('Sij took %.1f mins' %((t2-t1)/60))\n",
    "t1 = time.clock()\n",
    "print('Computing partial sky Sijkl for Euclid with AngPow...')\n",
    "Sij1_photo_AngPow = PySSC_AP.Sij_AngPow(zarr,window,clmask=None,mask='./masks/Euclid_map_WIDE_SURVEY.fits') \n",
    "t2 = time.clock()\n",
    "print('Sij took %.1f mins' %((t2-t1)/60))"
   ]
  },
  {
   "cell_type": "code",
   "execution_count": 47,
   "metadata": {},
   "outputs": [
    {
     "data": {
      "application/vnd.jupyter.widget-view+json": {
       "model_id": "",
       "version_major": 2,
       "version_minor": 0
      },
      "text/plain": [
       "Canvas(toolbar=Toolbar(toolitems=[('Home', 'Reset original view', 'home', 'home'), ('Back', 'Back to previous …"
      ]
     },
     "metadata": {},
     "output_type": "display_data"
    },
    {
     "data": {
      "application/vnd.jupyter.widget-view+json": {
       "model_id": "",
       "version_major": 2,
       "version_minor": 0
      },
      "text/plain": [
       "Canvas(toolbar=Toolbar(toolitems=[('Home', 'Reset original view', 'home', 'home'), ('Back', 'Back to previous …"
      ]
     },
     "metadata": {},
     "output_type": "display_data"
    }
   ],
   "source": [
    "plot_diag   (Sij1_photo_PySSC,Sij1_photo_AngPow,'Sij1_photo_PySSC','Sij1_photo_AngPow',(-20,20))\n",
    "plot_offdiag(Sij1_photo_PySSC,Sij1_photo_AngPow,'Sij1_photo_PySSC','Sij1_photo_AngPow',(-20,20))"
   ]
  },
  {
   "cell_type": "markdown",
   "metadata": {},
   "source": [
    "## Spectrometry"
   ]
  },
  {
   "cell_type": "code",
   "execution_count": 48,
   "metadata": {},
   "outputs": [],
   "source": [
    "#GCs\n",
    "zmins = np.array([0.90,1.10,1.30,1.50])\n",
    "zmaxs = np.array([1.10,1.30,1.50,1.80])\n",
    "n_zs = np.array([6.86,5.58,4.21,2.61])* 1e-4\n",
    "zbins = np.array([1.00,1.20,1.40,1.65])\n",
    "zmin = np.min(zmins) ; zmax = np.max(zmaxs)\n",
    "zstakes    = np.r_[zmins,zmaxs[-1]]"
   ]
  },
  {
   "cell_type": "code",
   "execution_count": 49,
   "metadata": {},
   "outputs": [
    {
     "data": {
      "application/vnd.jupyter.widget-view+json": {
       "model_id": "",
       "version_major": 2,
       "version_minor": 0
      },
      "text/plain": [
       "Canvas(toolbar=Toolbar(toolitems=[('Home', 'Reset original view', 'home', 'home'), ('Back', 'Back to previous …"
      ]
     },
     "metadata": {},
     "output_type": "display_data"
    }
   ],
   "source": [
    "# Define redshift range\n",
    "nz       = 500\n",
    "z_arr    = np.linspace(0.95*zmin,zmax*1.05,num=nz)\n",
    "\n",
    "nbins2   = zmins.size\n",
    "windows2 = np.zeros((nbins2,nz))\n",
    "for i in range(nbins2):\n",
    "    zminbin = zmins[i] ; zmaxbin = zmaxs[i] ; Dz = zmaxbin-zminbin\n",
    "    for iz,z in enumerate(z_arr):\n",
    "        if ((z>zminbin) and (z<=zmaxbin)):\n",
    "            windows2[i,iz] = n_zs[i]\n",
    "\n",
    "plt.figure()\n",
    "for i in range(nbins2):   \n",
    "    plt.plot(z_arr,windows2[i,:])\n",
    "plt.xlabel(r'$z$',fontsize=20)\n",
    "plt.ylabel(r'$n(z)$',fontsize=20)\n",
    "plt.xticks(fontsize=15) ; plt.yticks(fontsize=8)\n",
    "plt.tight_layout()\n",
    "#plt.savefig(prefix_Euclid+'n_z_Euclid_GCs.png')"
   ]
  },
  {
   "cell_type": "code",
   "execution_count": 50,
   "metadata": {},
   "outputs": [
    {
     "name": "stdout",
     "output_type": "stream",
     "text": [
      "Computing partial sky Sijkl for Euclid with PySSC...\n",
      "0.29850746268656714\n",
      "Sij took 2.5 mins\n"
     ]
    }
   ],
   "source": [
    "imp.reload(PySSC_AP)\n",
    "imp.reload(PySSC)\n",
    "# partial sky Sijkl with Euclid mask\n",
    "t1 = time.clock()\n",
    "print('Computing partial sky Sijkl for Euclid with PySSC...')\n",
    "Sij2_spectro_PySSC = PySSC.Sij_psky(z_arr,windows2,clmask=None,mask='./masks/Euclid_map_WIDE_SURVEY.fits')\n",
    "t2 = time.clock()\n",
    "print('Sij took %.1f mins' %((t2-t1)/60))"
   ]
  },
  {
   "cell_type": "code",
   "execution_count": 51,
   "metadata": {},
   "outputs": [
    {
     "name": "stdout",
     "output_type": "stream",
     "text": [
      "Computing partial sky Sijkl for Euclid with AngPow...\n",
      "Sij took 0.4 mins\n"
     ]
    }
   ],
   "source": [
    "imp.reload(PySSC_AP)\n",
    "t1 = time.clock()\n",
    "print('Computing partial sky Sijkl for Euclid with AngPow...')\n",
    "Sij2_spectro_AngPow = PySSC_AP.Sij_AngPow(z_arr,windows2,clmask=None,mask='./masks/Euclid_map_WIDE_SURVEY.fits') \n",
    "t2 = time.clock()\n",
    "print('Sij took %.1f mins' %((t2-t1)/60))"
   ]
  },
  {
   "cell_type": "code",
   "execution_count": 52,
   "metadata": {},
   "outputs": [
    {
     "data": {
      "application/vnd.jupyter.widget-view+json": {
       "model_id": "",
       "version_major": 2,
       "version_minor": 0
      },
      "text/plain": [
       "Canvas(toolbar=Toolbar(toolitems=[('Home', 'Reset original view', 'home', 'home'), ('Back', 'Back to previous …"
      ]
     },
     "metadata": {},
     "output_type": "display_data"
    }
   ],
   "source": [
    "#plot_diag   (Sij2_spectro_PySSC,Sij2_spectro_AngPow,'Sij2_spectro_PySSC','Sij2_spectro_AngPow',(-20,20))\n",
    "plot_offdiag(Sij2_spectro_PySSC,Sij2_spectro_AngPow,'Sij2_spectro_PySSC','Sij2_spectro_AngPow',(-20,20))"
   ]
  }
 ],
 "metadata": {
  "kernelspec": {
   "display_name": "Python 3",
   "language": "python",
   "name": "python3"
  },
  "language_info": {
   "codemirror_mode": {
    "name": "ipython",
    "version": 3
   },
   "file_extension": ".py",
   "mimetype": "text/x-python",
   "name": "python",
   "nbconvert_exporter": "python",
   "pygments_lexer": "ipython3",
   "version": "3.7.3"
  }
 },
 "nbformat": 4,
 "nbformat_minor": 4
}
